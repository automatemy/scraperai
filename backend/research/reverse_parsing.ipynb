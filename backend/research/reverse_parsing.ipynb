{
 "cells": [
  {
   "cell_type": "code",
   "execution_count": 1,
   "metadata": {
    "collapsed": true,
    "ExecuteTime": {
     "end_time": "2023-10-24T08:09:32.807747Z",
     "start_time": "2023-10-24T08:09:30.955260Z"
    }
   },
   "outputs": [],
   "source": [
    "import enum\n",
    "import time\n",
    "\n",
    "import json\n",
    "import requests\n",
    "import os\n",
    "from bs4 import BeautifulSoup\n",
    "from retry import retry\n",
    "import openai\n",
    "import tiktoken\n",
    "import pandas as pd\n",
    "from settings import OPEN_AI_TOKEN\n",
    "from llm.chat import ChatModel, OpenAIChatModel\n",
    "from parsing.catalog import CatalogParser\n",
    "from parsing.details import DetailsPageParser\n",
    "from parsing.pagination import PaginationDetection\n",
    "from scraping import SimpleScrapingFlow\n",
    "from browser.local import LocalBrowserScraper\n",
    "\n",
    "openai.api_key = OPEN_AI_TOKEN"
   ]
  },
  {
   "cell_type": "code",
   "execution_count": 2,
   "outputs": [],
   "source": [
    "%load_ext autoreload\n",
    "%autoreload 2"
   ],
   "metadata": {
    "collapsed": false,
    "ExecuteTime": {
     "end_time": "2023-10-24T08:09:32.848432Z",
     "start_time": "2023-10-24T08:09:32.813220Z"
    }
   }
  },
  {
   "cell_type": "code",
   "execution_count": 3,
   "outputs": [
    {
     "name": "stderr",
     "output_type": "stream",
     "text": [
      "2023-10-24 11:09:34,319 - WDM - INFO - ====== WebDriver manager ======\n",
      "2023-10-24 11:09:35,436 - WDM - INFO - Get LATEST chromedriver version for google-chrome\n",
      "2023-10-24 11:09:35,627 - WDM - INFO - Get LATEST chromedriver version for google-chrome\n",
      "2023-10-24 11:09:35,781 - WDM - INFO - Get LATEST chromedriver version for google-chrome\n",
      "2023-10-24 11:09:36,086 - WDM - INFO - WebDriver version 118.0.5993.70 selected\n",
      "2023-10-24 11:09:36,090 - WDM - INFO - Modern chrome version https://edgedl.me.gvt1.com/edgedl/chrome/chrome-for-testing/118.0.5993.70/mac-x64/chromedriver-mac-x64.zip\n",
      "2023-10-24 11:09:36,091 - WDM - INFO - About to download new driver from https://edgedl.me.gvt1.com/edgedl/chrome/chrome-for-testing/118.0.5993.70/mac-x64/chromedriver-mac-x64.zip\n",
      "2023-10-24 11:09:36,274 - WDM - INFO - Driver downloading response is 200\n",
      "2023-10-24 11:09:36,870 - WDM - INFO - Get LATEST chromedriver version for google-chrome\n",
      "2023-10-24 11:09:37,233 - WDM - INFO - Driver has been saved in cache [/Users/iakov/.wdm/drivers/chromedriver/mac64/118.0.5993.70]\n"
     ]
    }
   ],
   "source": [
    "scraper = LocalBrowserScraper()"
   ],
   "metadata": {
    "collapsed": false,
    "ExecuteTime": {
     "end_time": "2023-10-24T08:09:44.874709Z",
     "start_time": "2023-10-24T08:09:33.777386Z"
    }
   }
  },
  {
   "cell_type": "code",
   "execution_count": 69,
   "outputs": [],
   "source": [
    "url = 'https://navigator.sk.ru/orn/1125636'"
   ],
   "metadata": {
    "collapsed": false,
    "ExecuteTime": {
     "end_time": "2023-10-19T08:47:54.914489Z",
     "start_time": "2023-10-19T08:47:54.878345Z"
    }
   }
  },
  {
   "cell_type": "code",
   "execution_count": 44,
   "outputs": [],
   "source": [
    "scraper.get(url)\n",
    "time.sleep(1)\n",
    "html = scraper.page_source"
   ],
   "metadata": {
    "collapsed": false,
    "ExecuteTime": {
     "end_time": "2023-10-17T19:05:40.777836Z",
     "start_time": "2023-10-17T19:05:34.181622Z"
    }
   }
  },
  {
   "cell_type": "code",
   "execution_count": 58,
   "outputs": [
    {
     "data": {
      "text/plain": "'Оценка зрелости компании'"
     },
     "execution_count": 58,
     "metadata": {},
     "output_type": "execute_result"
    }
   ],
   "source": [
    "from lxml import etree\n",
    "\n",
    "xpath = \"//span[@class='description-block__title']\"\n",
    "soup = BeautifulSoup(scraper.page_source, features='lxml')\n",
    "dom = etree.HTML(str(soup))\n",
    "dom.xpath(xpath)[1].text"
   ],
   "metadata": {
    "collapsed": false,
    "ExecuteTime": {
     "end_time": "2023-10-17T19:10:20.833003Z",
     "start_time": "2023-10-17T19:10:20.703589Z"
    }
   }
  },
  {
   "cell_type": "code",
   "execution_count": 62,
   "outputs": [
    {
     "name": "stderr",
     "output_type": "stream",
     "text": [
      "2023-10-17 22:14:41,631 - /Users/iakov/Documents/PycharmProjects/ScraperAI/backend/utils/compressor.py - INFO - Initial HTML length: 179319\n",
      "2023-10-17 22:14:41,716 - /Users/iakov/Documents/PycharmProjects/ScraperAI/backend/utils/compressor.py - INFO - Final html length: 21659\n",
      "2023-10-17 22:14:42,010 - /Users/iakov/Documents/PycharmProjects/ScraperAI/backend/utils/compressor.py - INFO - Initial HTML length: 179319\n",
      "2023-10-17 22:14:42,096 - /Users/iakov/Documents/PycharmProjects/ScraperAI/backend/utils/compressor.py - INFO - Final html length: 21659\n"
     ]
    },
    {
     "data": {
      "text/plain": "{'Subtitle': \"//p[@class='page__subtitle']\",\n 'Participant since': \"//div[@class='company-info-list__item']/div[@class='company-info-li__text'][1]\",\n 'Intellectual Property': \"//div[@class='company-info-list__item']/a\",\n 'Year of Foundation': \"//div[@class='company-info-block__item'][1]/div[@class='company-info-block__item-text-3']\",\n 'Revenue for 2022': \"//div[@class='company-info-block__item'][2]/div[@class='company-info-block__item-text-3']/span\",\n 'Director': \"//div[@class='sidebar-item contact-alpha-icon']/div[@class='information']/div[@class='information__subtitle']\",\n 'Address': \"//a[@class='sidebar-item location-alpha-icon']/div[@class='information']/div[@class='information__title']\",\n 'Activity Field': \"//div[@class='sidebar-item portfolio-alpha-icon activity-field']/div[@class='activity-field__information information']/span[@class='information__subtitle_link']\",\n 'Main OKVED': \"//div[@class='sidebar-item documents-alpha-icon main-okved']/div[@class='main-okved__information information']/span[@class='information__subtitle']\",\n 'Project Manager': \"//div[@class='sidebar-item sidebar-item_large managers']/div[@class='managers__information information']/span[@class='information__title information__title_bold-black']\",\n 'Description': \"//div[@class='page-section__column page-section__column_main']/div[@class='page-section__main-text']/p[@class='company-info']\",\n 'Company Activity in Regions': \"//div[@class='description-block']/span[@class='description-block__title']\",\n 'Company Maturity Assessment': \"//div[@class='description-block']/div[@class='company-irlwithtrl']\",\n 'Director .1': \"//div[@class='managers-list']/div[@class='sidebar-item contact-alpha-icon']/div[@class='information']/div[@class='information__subtitle']\",\n 'Address .1': \"//div[@class='managers-list']/a[@class='sidebar-item location-alpha-icon']/div[@class='information']/div[@class='information__title']\",\n 'Activity Field .1': \"//div[@class='managers-list']/div[@class='sidebar-item portfolio-alpha-icon activity-field']/div[@class='activity-field__information information']/span[@class='information__subtitle_link']\",\n 'Main OKVED .1': \"//div[@class='managers-list']/div[@class='sidebar-item documents-alpha-icon main-okved']/div[@class='main-okved__information information']/span[@class='information__subtitle']\",\n 'Project Manager .1': \"//div[@class='managers-list']/div[@class='sidebar-item sidebar-item_large managers']/div[@class='managers__information information']/span[@class='information__title information__title_bold-black']\"}"
     },
     "execution_count": 62,
     "metadata": {},
     "output_type": "execute_result"
    }
   ],
   "source": [
    "parser = DetailsPageParser()\n",
    "text = parser.to_selectors(html)\n",
    "text"
   ],
   "metadata": {
    "collapsed": false,
    "ExecuteTime": {
     "end_time": "2023-10-17T19:16:08.983875Z",
     "start_time": "2023-10-17T19:14:41.414162Z"
    }
   }
  },
  {
   "cell_type": "code",
   "execution_count": 37,
   "outputs": [],
   "source": [
    "flow = SimpleScrapingFlow()"
   ],
   "metadata": {
    "collapsed": false,
    "ExecuteTime": {
     "end_time": "2023-10-17T18:59:52.537261Z",
     "start_time": "2023-10-17T18:59:52.167657Z"
    }
   }
  },
  {
   "cell_type": "code",
   "execution_count": 63,
   "outputs": [
    {
     "name": "stderr",
     "output_type": "stream",
     "text": [
      "2023-10-17 22:16:46,502 - /Users/iakov/Documents/PycharmProjects/ScraperAI/backend/scraping/__init__.py - INFO - Start parsing \"https://navigator.sk.ru\"\n",
      "2023-10-17 22:16:46,503 - WDM - INFO - ====== WebDriver manager ======\n",
      "2023-10-17 22:16:46,874 - WDM - INFO - Get LATEST chromedriver version for google-chrome\n",
      "2023-10-17 22:16:47,169 - WDM - INFO - Get LATEST chromedriver version for google-chrome\n",
      "2023-10-17 22:16:47,456 - WDM - INFO - Driver [/Users/iakov/.wdm/drivers/chromedriver/mac64/118.0.5993.70/chromedriver-mac-x64/chromedriver] found in cache\n",
      "2023-10-17 22:16:58,677 - /Users/iakov/Documents/PycharmProjects/ScraperAI/backend/utils/compressor.py - INFO - Initial HTML length: 540308\n",
      "2023-10-17 22:16:58,805 - /Users/iakov/Documents/PycharmProjects/ScraperAI/backend/utils/compressor.py - INFO - Final html length: 22520\n",
      "2023-10-17 22:17:00,986 - /Users/iakov/Documents/PycharmProjects/ScraperAI/backend/scraping/__init__.py - INFO - Pagination xpath was found: \"//*[@class='load-more__button w-button']\"\n"
     ]
    },
    {
     "name": "stdout",
     "output_type": "stream",
     "text": [
      "Response load-more__button w-button\n"
     ]
    },
    {
     "name": "stderr",
     "output_type": "stream",
     "text": [
      "2023-10-17 22:17:01,351 - /Users/iakov/Documents/PycharmProjects/ScraperAI/backend/utils/compressor.py - INFO - Initial HTML length: 540308\n",
      "2023-10-17 22:17:01,481 - /Users/iakov/Documents/PycharmProjects/ScraperAI/backend/utils/compressor.py - INFO - Final html length: 22520\n",
      "2023-10-17 22:17:01,746 - openai - INFO - error_code=rate_limit_exceeded error_message='Rate limit reached for gpt-4 in organization org-EzOvk9i9IuuTkezjlcsW6rXP on tokens per min. Limit: 10000 / min. Please try again in 6ms. Contact us through our help center at help.openai.com if you continue to have issues.' error_param=None error_type=tokens message='OpenAI API error received' stream_error=False\n",
      "2023-10-17 22:17:01,747 - retry.api - WARNING - Rate limit reached for gpt-4 in organization org-EzOvk9i9IuuTkezjlcsW6rXP on tokens per min. Limit: 10000 / min. Please try again in 6ms. Contact us through our help center at help.openai.com if you continue to have issues., retrying in 5 seconds...\n",
      "2023-10-17 22:17:07,021 - openai - INFO - error_code=rate_limit_exceeded error_message='Rate limit reached for gpt-4 in organization org-EzOvk9i9IuuTkezjlcsW6rXP on tokens per min. Limit: 10000 / min. Please try again in 6ms. Contact us through our help center at help.openai.com if you continue to have issues.' error_param=None error_type=tokens message='OpenAI API error received' stream_error=False\n",
      "2023-10-17 22:17:07,022 - retry.api - WARNING - Rate limit reached for gpt-4 in organization org-EzOvk9i9IuuTkezjlcsW6rXP on tokens per min. Limit: 10000 / min. Please try again in 6ms. Contact us through our help center at help.openai.com if you continue to have issues., retrying in 7.5 seconds...\n",
      "2023-10-17 22:17:14,902 - openai - INFO - error_code=rate_limit_exceeded error_message='Rate limit reached for gpt-4 in organization org-EzOvk9i9IuuTkezjlcsW6rXP on tokens per min. Limit: 10000 / min. Please try again in 6ms. Contact us through our help center at help.openai.com if you continue to have issues.' error_param=None error_type=tokens message='OpenAI API error received' stream_error=False\n",
      "2023-10-17 22:17:14,903 - retry.api - WARNING - Rate limit reached for gpt-4 in organization org-EzOvk9i9IuuTkezjlcsW6rXP on tokens per min. Limit: 10000 / min. Please try again in 6ms. Contact us through our help center at help.openai.com if you continue to have issues., retrying in 11.25 seconds...\n",
      "2023-10-17 22:17:29,675 - /Users/iakov/Documents/PycharmProjects/ScraperAI/backend/scraping/__init__.py - INFO - Found url classname: \"card company-card card_navigator w-inline-block\"\n",
      "2023-10-17 22:17:29,867 - /Users/iakov/Documents/PycharmProjects/ScraperAI/backend/scraping/__init__.py - INFO - Page: 0: Found 24 new urls\n",
      "2023-10-17 22:17:34,219 - /Users/iakov/Documents/PycharmProjects/ScraperAI/backend/scraping/__init__.py - INFO - Page: 1: Found 72 new urls\n",
      "2023-10-17 22:17:41,441 - /Users/iakov/Documents/PycharmProjects/ScraperAI/backend/scraping/__init__.py - INFO - Page: 2: Found 96 new urls\n",
      "2023-10-17 22:17:49,907 - /Users/iakov/Documents/PycharmProjects/ScraperAI/backend/scraping/__init__.py - INFO - Totally found 96 urls\n",
      "  0%|          | 0/10 [00:00<?, ?it/s]2023-10-17 22:18:02,242 - /Users/iakov/Documents/PycharmProjects/ScraperAI/backend/utils/compressor.py - INFO - Initial HTML length: 179320\n",
      "2023-10-17 22:18:02,324 - /Users/iakov/Documents/PycharmProjects/ScraperAI/backend/utils/compressor.py - INFO - Final html length: 21659\n",
      "2023-10-17 22:18:02,618 - /Users/iakov/Documents/PycharmProjects/ScraperAI/backend/utils/compressor.py - INFO - Initial HTML length: 179320\n",
      "2023-10-17 22:18:02,700 - /Users/iakov/Documents/PycharmProjects/ScraperAI/backend/utils/compressor.py - INFO - Final html length: 21659\n",
      "2023-10-17 22:18:34,300 - openai - INFO - error_code=rate_limit_exceeded error_message='Rate limit reached for gpt-4 in organization org-EzOvk9i9IuuTkezjlcsW6rXP on tokens per min. Limit: 10000 / min. Please try again in 6ms. Contact us through our help center at help.openai.com if you continue to have issues.' error_param=None error_type=tokens message='OpenAI API error received' stream_error=False\n",
      "2023-10-17 22:18:34,301 - retry.api - WARNING - Rate limit reached for gpt-4 in organization org-EzOvk9i9IuuTkezjlcsW6rXP on tokens per min. Limit: 10000 / min. Please try again in 6ms. Contact us through our help center at help.openai.com if you continue to have issues., retrying in 5 seconds...\n",
      "2023-10-17 22:18:39,595 - openai - INFO - error_code=rate_limit_exceeded error_message='Rate limit reached for gpt-4 in organization org-EzOvk9i9IuuTkezjlcsW6rXP on tokens per min. Limit: 10000 / min. Please try again in 6ms. Contact us through our help center at help.openai.com if you continue to have issues.' error_param=None error_type=tokens message='OpenAI API error received' stream_error=False\n",
      "2023-10-17 22:18:39,596 - retry.api - WARNING - Rate limit reached for gpt-4 in organization org-EzOvk9i9IuuTkezjlcsW6rXP on tokens per min. Limit: 10000 / min. Please try again in 6ms. Contact us through our help center at help.openai.com if you continue to have issues., retrying in 7.5 seconds...\n",
      "100%|██████████| 10/10 [01:54<00:00, 11.49s/it]\n"
     ]
    },
    {
     "data": {
      "text/plain": "                                            Subtitle     Participant since  \\\n0  ОБЩЕСТВО С ОГРАНИЧЕННОЙ ОТВЕТСТВЕННОСТЬЮ \"НАУЧ...  Участник «Сколково»    \n1  ОБЩЕСТВО С ОГРАНИЧЕННОЙ ОТВЕТСТВЕННОСТЬЮ \"САТОРИ\"  Участник «Сколково»    \n2  ОБЩЕСТВО С ОГРАНИЧЕННОЙ ОТВЕТСТВЕННОСТЬЮ ЮРИДИ...  Участник «Сколково»    \n3  ОБЩЕСТВО С ОГРАНИЧЕННОЙ ОТВЕТСТВЕННОСТЬЮ \"ЕКОМ...  Участник «Сколково»    \n4  ОБЩЕСТВО С ОГРАНИЧЕННОЙ ОТВЕТСТВЕННОСТЬЮ \"АТАМАН\"  Участник «Сколково»    \n5  ОБЩЕСТВО С ОГРАНИЧЕННОЙ ОТВЕТСТВЕННОСТЬЮ \"КУША...                  None   \n6  ОБЩЕСТВО С ОГРАНИЧЕННОЙ ОТВЕТСТВЕННОСТЬЮ \"ИКСС...  Участник «Сколково»    \n7  ОБЩЕСТВО С ОГРАНИЧЕННОЙ ОТВЕТСТВЕННОСТЬЮ \"ШЭНЭ...                  None   \n8  ОБЩЕСТВО С ОГРАНИЧЕННОЙ ОТВЕТСТВЕННОСТЬЮ \"ФРЕШ...  Участник «Сколково»    \n9  ОБЩЕСТВО С ОГРАНИЧЕННОЙ ОТВЕТСТВЕННОСТЬЮ \"МЕГА...  Участник «Сколково»    \n\n            Intellectual Property Year of Foundation Revenue for 2022  \\\n0  Интеллектуальная собственность               2021          628 000   \n1  Интеллектуальная собственность               2018       25 221 000   \n2  Интеллектуальная собственность               2023             None   \n3                            None               2021           76 000   \n4                            None               2023             None   \n5  Интеллектуальная собственность               2020       94 813 000   \n6                            None               2021      246 197 000   \n7                            None               2018             None   \n8                            None               2023             None   \n9                            None               2013             None   \n\n  Director Address                                     Activity Field  \\\n0                   Производство электронного и электрического обо...   \n1                                                                None   \n2                                                                None   \n3                                                                None   \n4                                                                None   \n5                                                                None   \n6                                                                None   \n7                                                                None   \n8                                                                None   \n9                                                                None   \n\n  Main OKVED Project Manager  \\\n0       None            None   \n1       None            None   \n2       None            None   \n3       None            None   \n4       None            None   \n5       None            None   \n6       None            None   \n7       None            None   \n8       None            None   \n9       None            None   \n\n                                         Description  \\\n0  ООО «НПП «Новотех» отечественный стартап, орга...   \n1  Платформа автоматизирует весь жизненный цикл у...   \n2                                               None   \n3                                               None   \n4  РОИЗВОДСТВО ПНЕВМАТИЧЕСКОГО ОРУЖИЯ ATAMAN НАЧИ...   \n5                                               None   \n6                                               None   \n7                          РАНЕВОЕ ПОКРЫТИЕ NOVOSKIN   \n8                                               None   \n9  TONNA — PaaS-платформа бесшовных трансграничны...   \n\n                   Company Maturity Assessment CRL (company readiness level)  \\\n0  Компания ведет свою деятельность в регионах                             4   \n1  Компания ведет свою деятельность в регионах                          None   \n2  Компания ведет свою деятельность в регионах                          None   \n3  Компания ведет свою деятельность в регионах                          None   \n4  Компания ведет свою деятельность в регионах                          None   \n5  Компания ведет свою деятельность в регионах                          None   \n6  Компания ведет свою деятельность в регионах                          None   \n7  Компания ведет свою деятельность в регионах                          None   \n8  Компания ведет свою деятельность в регионах                          None   \n9  Компания ведет свою деятельность в регионах                             4   \n\n  IRL (investment readiness level)  \n0                                7  \n1                             None  \n2                             None  \n3                             None  \n4                             None  \n5                             None  \n6                             None  \n7                             None  \n8                             None  \n9                                6  ",
      "text/html": "<div>\n<style scoped>\n    .dataframe tbody tr th:only-of-type {\n        vertical-align: middle;\n    }\n\n    .dataframe tbody tr th {\n        vertical-align: top;\n    }\n\n    .dataframe thead th {\n        text-align: right;\n    }\n</style>\n<table border=\"1\" class=\"dataframe\">\n  <thead>\n    <tr style=\"text-align: right;\">\n      <th></th>\n      <th>Subtitle</th>\n      <th>Participant since</th>\n      <th>Intellectual Property</th>\n      <th>Year of Foundation</th>\n      <th>Revenue for 2022</th>\n      <th>Director</th>\n      <th>Address</th>\n      <th>Activity Field</th>\n      <th>Main OKVED</th>\n      <th>Project Manager</th>\n      <th>Description</th>\n      <th>Company Maturity Assessment</th>\n      <th>CRL (company readiness level)</th>\n      <th>IRL (investment readiness level)</th>\n    </tr>\n  </thead>\n  <tbody>\n    <tr>\n      <th>0</th>\n      <td>ОБЩЕСТВО С ОГРАНИЧЕННОЙ ОТВЕТСТВЕННОСТЬЮ \"НАУЧ...</td>\n      <td>Участник «Сколково»</td>\n      <td>Интеллектуальная собственность</td>\n      <td>2021</td>\n      <td>628 000</td>\n      <td></td>\n      <td></td>\n      <td>Производство электронного и электрического обо...</td>\n      <td>None</td>\n      <td>None</td>\n      <td>ООО «НПП «Новотех» отечественный стартап, орга...</td>\n      <td>Компания ведет свою деятельность в регионах</td>\n      <td>4</td>\n      <td>7</td>\n    </tr>\n    <tr>\n      <th>1</th>\n      <td>ОБЩЕСТВО С ОГРАНИЧЕННОЙ ОТВЕТСТВЕННОСТЬЮ \"САТОРИ\"</td>\n      <td>Участник «Сколково»</td>\n      <td>Интеллектуальная собственность</td>\n      <td>2018</td>\n      <td>25 221 000</td>\n      <td></td>\n      <td></td>\n      <td>None</td>\n      <td>None</td>\n      <td>None</td>\n      <td>Платформа автоматизирует весь жизненный цикл у...</td>\n      <td>Компания ведет свою деятельность в регионах</td>\n      <td>None</td>\n      <td>None</td>\n    </tr>\n    <tr>\n      <th>2</th>\n      <td>ОБЩЕСТВО С ОГРАНИЧЕННОЙ ОТВЕТСТВЕННОСТЬЮ ЮРИДИ...</td>\n      <td>Участник «Сколково»</td>\n      <td>Интеллектуальная собственность</td>\n      <td>2023</td>\n      <td>None</td>\n      <td></td>\n      <td></td>\n      <td>None</td>\n      <td>None</td>\n      <td>None</td>\n      <td>None</td>\n      <td>Компания ведет свою деятельность в регионах</td>\n      <td>None</td>\n      <td>None</td>\n    </tr>\n    <tr>\n      <th>3</th>\n      <td>ОБЩЕСТВО С ОГРАНИЧЕННОЙ ОТВЕТСТВЕННОСТЬЮ \"ЕКОМ...</td>\n      <td>Участник «Сколково»</td>\n      <td>None</td>\n      <td>2021</td>\n      <td>76 000</td>\n      <td></td>\n      <td></td>\n      <td>None</td>\n      <td>None</td>\n      <td>None</td>\n      <td>None</td>\n      <td>Компания ведет свою деятельность в регионах</td>\n      <td>None</td>\n      <td>None</td>\n    </tr>\n    <tr>\n      <th>4</th>\n      <td>ОБЩЕСТВО С ОГРАНИЧЕННОЙ ОТВЕТСТВЕННОСТЬЮ \"АТАМАН\"</td>\n      <td>Участник «Сколково»</td>\n      <td>None</td>\n      <td>2023</td>\n      <td>None</td>\n      <td></td>\n      <td></td>\n      <td>None</td>\n      <td>None</td>\n      <td>None</td>\n      <td>РОИЗВОДСТВО ПНЕВМАТИЧЕСКОГО ОРУЖИЯ ATAMAN НАЧИ...</td>\n      <td>Компания ведет свою деятельность в регионах</td>\n      <td>None</td>\n      <td>None</td>\n    </tr>\n    <tr>\n      <th>5</th>\n      <td>ОБЩЕСТВО С ОГРАНИЧЕННОЙ ОТВЕТСТВЕННОСТЬЮ \"КУША...</td>\n      <td>None</td>\n      <td>Интеллектуальная собственность</td>\n      <td>2020</td>\n      <td>94 813 000</td>\n      <td></td>\n      <td></td>\n      <td>None</td>\n      <td>None</td>\n      <td>None</td>\n      <td>None</td>\n      <td>Компания ведет свою деятельность в регионах</td>\n      <td>None</td>\n      <td>None</td>\n    </tr>\n    <tr>\n      <th>6</th>\n      <td>ОБЩЕСТВО С ОГРАНИЧЕННОЙ ОТВЕТСТВЕННОСТЬЮ \"ИКСС...</td>\n      <td>Участник «Сколково»</td>\n      <td>None</td>\n      <td>2021</td>\n      <td>246 197 000</td>\n      <td></td>\n      <td></td>\n      <td>None</td>\n      <td>None</td>\n      <td>None</td>\n      <td>None</td>\n      <td>Компания ведет свою деятельность в регионах</td>\n      <td>None</td>\n      <td>None</td>\n    </tr>\n    <tr>\n      <th>7</th>\n      <td>ОБЩЕСТВО С ОГРАНИЧЕННОЙ ОТВЕТСТВЕННОСТЬЮ \"ШЭНЭ...</td>\n      <td>None</td>\n      <td>None</td>\n      <td>2018</td>\n      <td>None</td>\n      <td></td>\n      <td></td>\n      <td>None</td>\n      <td>None</td>\n      <td>None</td>\n      <td>РАНЕВОЕ ПОКРЫТИЕ NOVOSKIN</td>\n      <td>Компания ведет свою деятельность в регионах</td>\n      <td>None</td>\n      <td>None</td>\n    </tr>\n    <tr>\n      <th>8</th>\n      <td>ОБЩЕСТВО С ОГРАНИЧЕННОЙ ОТВЕТСТВЕННОСТЬЮ \"ФРЕШ...</td>\n      <td>Участник «Сколково»</td>\n      <td>None</td>\n      <td>2023</td>\n      <td>None</td>\n      <td></td>\n      <td></td>\n      <td>None</td>\n      <td>None</td>\n      <td>None</td>\n      <td>None</td>\n      <td>Компания ведет свою деятельность в регионах</td>\n      <td>None</td>\n      <td>None</td>\n    </tr>\n    <tr>\n      <th>9</th>\n      <td>ОБЩЕСТВО С ОГРАНИЧЕННОЙ ОТВЕТСТВЕННОСТЬЮ \"МЕГА...</td>\n      <td>Участник «Сколково»</td>\n      <td>None</td>\n      <td>2013</td>\n      <td>None</td>\n      <td></td>\n      <td></td>\n      <td>None</td>\n      <td>None</td>\n      <td>None</td>\n      <td>TONNA — PaaS-платформа бесшовных трансграничны...</td>\n      <td>Компания ведет свою деятельность в регионах</td>\n      <td>4</td>\n      <td>6</td>\n    </tr>\n  </tbody>\n</table>\n</div>"
     },
     "execution_count": 63,
     "metadata": {},
     "output_type": "execute_result"
    }
   ],
   "source": [
    "df = flow.collect_all_data('https://navigator.sk.ru')\n",
    "df"
   ],
   "metadata": {
    "collapsed": false,
    "ExecuteTime": {
     "end_time": "2023-10-17T19:19:44.883016Z",
     "start_time": "2023-10-17T19:16:46.482791Z"
    }
   }
  },
  {
   "cell_type": "code",
   "execution_count": 64,
   "outputs": [],
   "source": [
    "df.to_excel('test_output.xlsx', index=False)"
   ],
   "metadata": {
    "collapsed": false,
    "ExecuteTime": {
     "end_time": "2023-10-17T19:21:07.766326Z",
     "start_time": "2023-10-17T19:21:07.381436Z"
    }
   }
  },
  {
   "cell_type": "code",
   "execution_count": 4,
   "outputs": [
    {
     "name": "stderr",
     "output_type": "stream",
     "text": [
      "2023-10-24 11:10:43,179 - /Users/iakov/Documents/PycharmProjects/ScraperAI/backend/scraping/__init__.py - INFO - Start parsing \"https://маркет.промыслы.рф/goods-company/view/30\"\n",
      "2023-10-24 11:10:43,181 - WDM - INFO - ====== WebDriver manager ======\n",
      "2023-10-24 11:10:43,570 - WDM - INFO - Get LATEST chromedriver version for google-chrome\n",
      "2023-10-24 11:10:43,730 - WDM - INFO - Get LATEST chromedriver version for google-chrome\n",
      "2023-10-24 11:10:43,871 - WDM - INFO - Driver [/Users/iakov/.wdm/drivers/chromedriver/mac64/118.0.5993.70/chromedriver-mac-x64/chromedriver] found in cache\n",
      "2023-10-24 11:10:52,721 - /Users/iakov/Documents/PycharmProjects/ScraperAI/backend/utils/compressor.py - INFO - Initial HTML length: 47880\n",
      "2023-10-24 11:10:52,789 - /Users/iakov/Documents/PycharmProjects/ScraperAI/backend/utils/compressor.py - INFO - Final html length: 11583\n",
      "2023-10-24 11:10:57,080 - /Users/iakov/Documents/PycharmProjects/ScraperAI/backend/scraping/__init__.py - INFO - Pagination xpath was found: \"//*[@class='ajax-pagination-more']\"\n",
      "2023-10-24 11:10:57,251 - /Users/iakov/Documents/PycharmProjects/ScraperAI/backend/utils/compressor.py - INFO - Initial HTML length: 47926\n"
     ]
    },
    {
     "name": "stdout",
     "output_type": "stream",
     "text": [
      "Response ajax-pagination-more\n"
     ]
    },
    {
     "name": "stderr",
     "output_type": "stream",
     "text": [
      "2023-10-24 11:10:57,317 - /Users/iakov/Documents/PycharmProjects/ScraperAI/backend/utils/compressor.py - INFO - Final html length: 11583\n",
      "2023-10-24 11:11:01,019 - /Users/iakov/Documents/PycharmProjects/ScraperAI/backend/scraping/__init__.py - INFO - Found url classname: \"addToCart\"\n",
      "2023-10-24 11:11:01,104 - /Users/iakov/Documents/PycharmProjects/ScraperAI/backend/scraping/__init__.py - INFO - Page: 0: Found 12 new urls\n",
      "2023-10-24 11:11:04,285 - /Users/iakov/Documents/PycharmProjects/ScraperAI/backend/scraping/__init__.py - INFO - Page: 1: Found 24 new urls\n",
      "2023-10-24 11:11:07,452 - /Users/iakov/Documents/PycharmProjects/ScraperAI/backend/scraping/__init__.py - INFO - Page: 2: Found 36 new urls\n",
      "2023-10-24 11:11:10,513 - /Users/iakov/Documents/PycharmProjects/ScraperAI/backend/scraping/__init__.py - INFO - Totally found 36 urls\n",
      "  0%|          | 0/10 [00:00<?, ?it/s]2023-10-24 11:11:12,487 - /Users/iakov/Documents/PycharmProjects/ScraperAI/backend/utils/compressor.py - INFO - Initial HTML length: 22892\n",
      "2023-10-24 11:11:12,514 - /Users/iakov/Documents/PycharmProjects/ScraperAI/backend/utils/compressor.py - INFO - Final html length: 3658\n",
      "2023-10-24 11:11:12,577 - /Users/iakov/Documents/PycharmProjects/ScraperAI/backend/utils/compressor.py - INFO - Initial HTML length: 22892\n",
      "2023-10-24 11:11:12,606 - /Users/iakov/Documents/PycharmProjects/ScraperAI/backend/utils/compressor.py - INFO - Final html length: 3658\n",
      "100%|██████████| 10/10 [01:32<00:00,  9.29s/it]\n"
     ]
    },
    {
     "data": {
      "text/plain": "                                Seller      Price  \\\n0  Кубачинский художественный комбинат   43 600 ₽   \n1  Кубачинский художественный комбинат  143 000 ₽   \n2  Кубачинский художественный комбинат  141 000 ₽   \n3  Кубачинский художественный комбинат   12 800 ₽   \n4  Кубачинский художественный комбинат    3 000 ₽   \n5  Кубачинский художественный комбинат   26 500 ₽   \n6  Кубачинский художественный комбинат    1 600 ₽   \n7  Кубачинский художественный комбинат   40 000 ₽   \n8  Кубачинский художественный комбинат   36 000 ₽   \n9  Кубачинский художественный комбинат   12 900 ₽   \n\n                                         Description  \\\n0  Набор из серебра 875 пробы ручной работы Кубач...   \n1  Кувшин из серебра 875 пробы ручной работы Куба...   \n2  Набор из серебра 925 пробы ручной работы Кубач...   \n3  Зажигалка из серебра 875 пробы ручной работы К...   \n4                                               None   \n5  Подстаканники из серебра 875 пробы ручной рабо...   \n6  Браслет из латуни ручной работы Кубачинских ма...   \n7  Стакан из серебра 999 пробы ручной работы Куба...   \n8  Турка из серебра 875 пробы ручной работы Кубач...   \n9  Зажигалка из серебра 875 пробы ручной работы К...   \n\n                                    Characteristic 1  Value 1  \\\n0  Длина: ..........................................   6,5 см   \n1  Длина: ..........................................  10,5 см   \n2  Проба: ..........................................      925   \n3  Длина: ..........................................   3,5 см   \n4  Проба: ..........................................      925   \n5  Диаметр: ........................................     7 см   \n6  Материал: .......................................   Латунь   \n7  Диаметр: ........................................     8 см   \n8  Диаметр: ........................................     8 см   \n9  Длина: ..........................................   3,5 см   \n\n                                    Characteristic 2         Value 2  \\\n0  Проба: ..........................................             875   \n1  Проба: ..........................................             875   \n2  Материал: .......................................  Серебро, чернь   \n3  Проба: ..........................................             875   \n4  Материал: .......................................         Серебро   \n5  Длина: ..........................................         10,5 см   \n6  Высота: .........................................          3,8 см   \n7  Проба: ..........................................             999   \n8  Проба: ..........................................             875   \n9  Проба: ..........................................             875   \n\n                                    Characteristic 3         Value 3  \\\n0  Материал: .......................................  Серебро, чернь   \n1  Материал: .......................................  Серебро, чернь   \n2  Объем: ..........................................          225 мл   \n3  Материал: .......................................  Серебро, чернь   \n4  Вес: ............................................            15 g   \n5  Проба: ..........................................             875   \n6                                               None            None   \n7  Материал: .......................................         Серебро   \n8  Материал: .......................................  Серебро, чернь   \n9  Материал: .......................................  Серебро, чернь   \n\n                                    Characteristic 4  \\\n0  Высота: .........................................   \n1  Высота: .........................................   \n2  Вес: ............................................   \n3  Высота: .........................................   \n4                                               None   \n5  Материал: .......................................   \n6                                               None   \n7  Высота: .........................................   \n8  Высота: .........................................   \n9  Высота: .........................................   \n\n                    Value 4  \\\n0                   13,5 см   \n1                     37 см   \n2                     780 g   \n3                      6 см   \n4                      None   \n5  Серебро, чернь, позолота   \n6                      None   \n7                      9 см   \n8                     11 см   \n9                      6 см   \n\n                                    Characteristic 5  Value 5  \\\n0  Объем: ..........................................   140 мл   \n1  Объем: ..........................................  1000 мл   \n2                                               None     None   \n3  Вес: ............................................     45 g   \n4                                               None     None   \n5  Высота: .........................................   9,5 см   \n6                                               None     None   \n7  Объем: ..........................................   380 мл   \n8  Объем: ..........................................   250 мл   \n9  Вес: ............................................     45 g   \n\n                                    Characteristic 6 Value 6  \\\n0  Вес: ............................................   220 g   \n1  Вес: ............................................   800 g   \n2                                               None    None   \n3                                               None    None   \n4                                               None    None   \n5  Объем: ..........................................  250 мл   \n6                                               None    None   \n7  Вес: ............................................   175 g   \n8  Вес: ............................................   150 g   \n9                                               None    None   \n\n                                            url  \n0  https://маркет.промыслы.рф/goods/view/316287  \n1  https://маркет.промыслы.рф/goods/view/281438  \n2  https://маркет.промыслы.рф/goods/view/286153  \n3  https://маркет.промыслы.рф/goods/view/302520  \n4  https://маркет.промыслы.рф/goods/view/316283  \n5  https://маркет.промыслы.рф/goods/view/284874  \n6  https://маркет.промыслы.рф/goods/view/283049  \n7  https://маркет.промыслы.рф/goods/view/281970  \n8  https://маркет.промыслы.рф/goods/view/317823  \n9  https://маркет.промыслы.рф/goods/view/302563  ",
      "text/html": "<div>\n<style scoped>\n    .dataframe tbody tr th:only-of-type {\n        vertical-align: middle;\n    }\n\n    .dataframe tbody tr th {\n        vertical-align: top;\n    }\n\n    .dataframe thead th {\n        text-align: right;\n    }\n</style>\n<table border=\"1\" class=\"dataframe\">\n  <thead>\n    <tr style=\"text-align: right;\">\n      <th></th>\n      <th>Seller</th>\n      <th>Price</th>\n      <th>Description</th>\n      <th>Characteristic 1</th>\n      <th>Value 1</th>\n      <th>Characteristic 2</th>\n      <th>Value 2</th>\n      <th>Characteristic 3</th>\n      <th>Value 3</th>\n      <th>Characteristic 4</th>\n      <th>Value 4</th>\n      <th>Characteristic 5</th>\n      <th>Value 5</th>\n      <th>Characteristic 6</th>\n      <th>Value 6</th>\n      <th>url</th>\n    </tr>\n  </thead>\n  <tbody>\n    <tr>\n      <th>0</th>\n      <td>Кубачинский художественный комбинат</td>\n      <td>43 600 ₽</td>\n      <td>Набор из серебра 875 пробы ручной работы Кубач...</td>\n      <td>Длина: ..........................................</td>\n      <td>6,5 см</td>\n      <td>Проба: ..........................................</td>\n      <td>875</td>\n      <td>Материал: .......................................</td>\n      <td>Серебро, чернь</td>\n      <td>Высота: .........................................</td>\n      <td>13,5 см</td>\n      <td>Объем: ..........................................</td>\n      <td>140 мл</td>\n      <td>Вес: ............................................</td>\n      <td>220 g</td>\n      <td>https://маркет.промыслы.рф/goods/view/316287</td>\n    </tr>\n    <tr>\n      <th>1</th>\n      <td>Кубачинский художественный комбинат</td>\n      <td>143 000 ₽</td>\n      <td>Кувшин из серебра 875 пробы ручной работы Куба...</td>\n      <td>Длина: ..........................................</td>\n      <td>10,5 см</td>\n      <td>Проба: ..........................................</td>\n      <td>875</td>\n      <td>Материал: .......................................</td>\n      <td>Серебро, чернь</td>\n      <td>Высота: .........................................</td>\n      <td>37 см</td>\n      <td>Объем: ..........................................</td>\n      <td>1000 мл</td>\n      <td>Вес: ............................................</td>\n      <td>800 g</td>\n      <td>https://маркет.промыслы.рф/goods/view/281438</td>\n    </tr>\n    <tr>\n      <th>2</th>\n      <td>Кубачинский художественный комбинат</td>\n      <td>141 000 ₽</td>\n      <td>Набор из серебра 925 пробы ручной работы Кубач...</td>\n      <td>Проба: ..........................................</td>\n      <td>925</td>\n      <td>Материал: .......................................</td>\n      <td>Серебро, чернь</td>\n      <td>Объем: ..........................................</td>\n      <td>225 мл</td>\n      <td>Вес: ............................................</td>\n      <td>780 g</td>\n      <td>None</td>\n      <td>None</td>\n      <td>None</td>\n      <td>None</td>\n      <td>https://маркет.промыслы.рф/goods/view/286153</td>\n    </tr>\n    <tr>\n      <th>3</th>\n      <td>Кубачинский художественный комбинат</td>\n      <td>12 800 ₽</td>\n      <td>Зажигалка из серебра 875 пробы ручной работы К...</td>\n      <td>Длина: ..........................................</td>\n      <td>3,5 см</td>\n      <td>Проба: ..........................................</td>\n      <td>875</td>\n      <td>Материал: .......................................</td>\n      <td>Серебро, чернь</td>\n      <td>Высота: .........................................</td>\n      <td>6 см</td>\n      <td>Вес: ............................................</td>\n      <td>45 g</td>\n      <td>None</td>\n      <td>None</td>\n      <td>https://маркет.промыслы.рф/goods/view/302520</td>\n    </tr>\n    <tr>\n      <th>4</th>\n      <td>Кубачинский художественный комбинат</td>\n      <td>3 000 ₽</td>\n      <td>None</td>\n      <td>Проба: ..........................................</td>\n      <td>925</td>\n      <td>Материал: .......................................</td>\n      <td>Серебро</td>\n      <td>Вес: ............................................</td>\n      <td>15 g</td>\n      <td>None</td>\n      <td>None</td>\n      <td>None</td>\n      <td>None</td>\n      <td>None</td>\n      <td>None</td>\n      <td>https://маркет.промыслы.рф/goods/view/316283</td>\n    </tr>\n    <tr>\n      <th>5</th>\n      <td>Кубачинский художественный комбинат</td>\n      <td>26 500 ₽</td>\n      <td>Подстаканники из серебра 875 пробы ручной рабо...</td>\n      <td>Диаметр: ........................................</td>\n      <td>7 см</td>\n      <td>Длина: ..........................................</td>\n      <td>10,5 см</td>\n      <td>Проба: ..........................................</td>\n      <td>875</td>\n      <td>Материал: .......................................</td>\n      <td>Серебро, чернь, позолота</td>\n      <td>Высота: .........................................</td>\n      <td>9,5 см</td>\n      <td>Объем: ..........................................</td>\n      <td>250 мл</td>\n      <td>https://маркет.промыслы.рф/goods/view/284874</td>\n    </tr>\n    <tr>\n      <th>6</th>\n      <td>Кубачинский художественный комбинат</td>\n      <td>1 600 ₽</td>\n      <td>Браслет из латуни ручной работы Кубачинских ма...</td>\n      <td>Материал: .......................................</td>\n      <td>Латунь</td>\n      <td>Высота: .........................................</td>\n      <td>3,8 см</td>\n      <td>None</td>\n      <td>None</td>\n      <td>None</td>\n      <td>None</td>\n      <td>None</td>\n      <td>None</td>\n      <td>None</td>\n      <td>None</td>\n      <td>https://маркет.промыслы.рф/goods/view/283049</td>\n    </tr>\n    <tr>\n      <th>7</th>\n      <td>Кубачинский художественный комбинат</td>\n      <td>40 000 ₽</td>\n      <td>Стакан из серебра 999 пробы ручной работы Куба...</td>\n      <td>Диаметр: ........................................</td>\n      <td>8 см</td>\n      <td>Проба: ..........................................</td>\n      <td>999</td>\n      <td>Материал: .......................................</td>\n      <td>Серебро</td>\n      <td>Высота: .........................................</td>\n      <td>9 см</td>\n      <td>Объем: ..........................................</td>\n      <td>380 мл</td>\n      <td>Вес: ............................................</td>\n      <td>175 g</td>\n      <td>https://маркет.промыслы.рф/goods/view/281970</td>\n    </tr>\n    <tr>\n      <th>8</th>\n      <td>Кубачинский художественный комбинат</td>\n      <td>36 000 ₽</td>\n      <td>Турка из серебра 875 пробы ручной работы Кубач...</td>\n      <td>Диаметр: ........................................</td>\n      <td>8 см</td>\n      <td>Проба: ..........................................</td>\n      <td>875</td>\n      <td>Материал: .......................................</td>\n      <td>Серебро, чернь</td>\n      <td>Высота: .........................................</td>\n      <td>11 см</td>\n      <td>Объем: ..........................................</td>\n      <td>250 мл</td>\n      <td>Вес: ............................................</td>\n      <td>150 g</td>\n      <td>https://маркет.промыслы.рф/goods/view/317823</td>\n    </tr>\n    <tr>\n      <th>9</th>\n      <td>Кубачинский художественный комбинат</td>\n      <td>12 900 ₽</td>\n      <td>Зажигалка из серебра 875 пробы ручной работы К...</td>\n      <td>Длина: ..........................................</td>\n      <td>3,5 см</td>\n      <td>Проба: ..........................................</td>\n      <td>875</td>\n      <td>Материал: .......................................</td>\n      <td>Серебро, чернь</td>\n      <td>Высота: .........................................</td>\n      <td>6 см</td>\n      <td>Вес: ............................................</td>\n      <td>45 g</td>\n      <td>None</td>\n      <td>None</td>\n      <td>https://маркет.промыслы.рф/goods/view/302563</td>\n    </tr>\n  </tbody>\n</table>\n</div>"
     },
     "execution_count": 4,
     "metadata": {},
     "output_type": "execute_result"
    }
   ],
   "source": [
    "flow = SimpleScrapingFlow()\n",
    "df = flow.collect_all_data('https://маркет.промыслы.рф/goods-company/view/30')\n",
    "df"
   ],
   "metadata": {
    "collapsed": false,
    "ExecuteTime": {
     "end_time": "2023-10-24T08:12:43.604491Z",
     "start_time": "2023-10-24T08:10:43.155408Z"
    }
   }
  },
  {
   "cell_type": "code",
   "execution_count": 32,
   "outputs": [],
   "source": [],
   "metadata": {
    "collapsed": false,
    "ExecuteTime": {
     "end_time": "2023-10-17T18:45:39.814766Z",
     "start_time": "2023-10-17T18:45:39.810584Z"
    }
   }
  },
  {
   "cell_type": "code",
   "execution_count": null,
   "outputs": [],
   "source": [],
   "metadata": {
    "collapsed": false
   }
  }
 ],
 "metadata": {
  "kernelspec": {
   "display_name": "Python 3",
   "language": "python",
   "name": "python3"
  },
  "language_info": {
   "codemirror_mode": {
    "name": "ipython",
    "version": 2
   },
   "file_extension": ".py",
   "mimetype": "text/x-python",
   "name": "python",
   "nbconvert_exporter": "python",
   "pygments_lexer": "ipython2",
   "version": "2.7.6"
  }
 },
 "nbformat": 4,
 "nbformat_minor": 0
}
