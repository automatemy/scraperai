{
 "cells": [
  {
   "cell_type": "code",
   "execution_count": 1,
   "outputs": [],
   "source": [
    "import random\n",
    "\n",
    "import pandas as pd\n",
    "import numpy as np"
   ],
   "metadata": {
    "collapsed": false,
    "pycharm": {
     "name": "#%%\n"
    }
   }
  },
  {
   "cell_type": "code",
   "execution_count": 2,
   "outputs": [
    {
     "data": {
      "text/plain": "     Category                                                URL  \\\n0           0                 https://www.platki.ru/catalogue/1/   \n1           0                http://www.pzhm.ru/stolovye-pribory   \n2           0          https://harmonica-tula.ru/catalog/bayany/   \n3           0                    https://www.yolochka.ru/catalog   \n4           0   https://www.kizlyar.ru/catalog/nozhi-okhotnichi/   \n..        ...                                                ...   \n394         1  https://www.baltmaximus.com/kholodilniki/kholo...   \n395         1  https://www.elmarket.by/catalog/holodilniki/kh...   \n396         1  https://www.rbt.ru/cat/kuhonnaya_tehnika/holod...   \n397         1  https://newton.by/holodilniki/atlant_khm_4208_...   \n398         1               https://nkteh.ru/khv/goods/87/137625   \n\n                                 Filename  \\\n0    9188d97c-17c7-4195-baa8-c09e18b50e57   \n1    fb322b72-0177-4bae-8ce7-ad7a2b8e11fa   \n2    67ca34d0-5c80-4a15-9746-23b8cb164cc4   \n3    fc70309f-0771-43ec-8343-b441224f256a   \n4    8938c23a-2620-42d2-99fd-6ee3781f2c80   \n..                                    ...   \n394  7b45f31f-6b89-42fc-87c9-0d0d934acfbd   \n395  12bf1900-e8b0-4236-be0c-4629da5189b4   \n396  7d881264-d4ab-46a9-bcde-6d6db64899b2   \n397  4c0c2e0b-8611-44c0-b420-58cb14b4e1a3   \n398  521bc38e-2aaa-448c-b96d-ba843b97f390   \n\n                                Filename2  \n0    878fe071-c34a-4740-8933-3ae66080d3e6  \n1    4a195045-8a0b-42db-83de-da1961dae173  \n2    54328b9b-7da1-42ec-b325-4af57887965c  \n3    764a3c8b-e695-4425-bcc9-3bcc328ab869  \n4    24b91f88-4773-4417-8eef-f71fd74e999f  \n..                                    ...  \n394                                   NaN  \n395                                   NaN  \n396                                   NaN  \n397                                   NaN  \n398                                   NaN  \n\n[399 rows x 4 columns]",
      "text/html": "<div>\n<style scoped>\n    .dataframe tbody tr th:only-of-type {\n        vertical-align: middle;\n    }\n\n    .dataframe tbody tr th {\n        vertical-align: top;\n    }\n\n    .dataframe thead th {\n        text-align: right;\n    }\n</style>\n<table border=\"1\" class=\"dataframe\">\n  <thead>\n    <tr style=\"text-align: right;\">\n      <th></th>\n      <th>Category</th>\n      <th>URL</th>\n      <th>Filename</th>\n      <th>Filename2</th>\n    </tr>\n  </thead>\n  <tbody>\n    <tr>\n      <th>0</th>\n      <td>0</td>\n      <td>https://www.platki.ru/catalogue/1/</td>\n      <td>9188d97c-17c7-4195-baa8-c09e18b50e57</td>\n      <td>878fe071-c34a-4740-8933-3ae66080d3e6</td>\n    </tr>\n    <tr>\n      <th>1</th>\n      <td>0</td>\n      <td>http://www.pzhm.ru/stolovye-pribory</td>\n      <td>fb322b72-0177-4bae-8ce7-ad7a2b8e11fa</td>\n      <td>4a195045-8a0b-42db-83de-da1961dae173</td>\n    </tr>\n    <tr>\n      <th>2</th>\n      <td>0</td>\n      <td>https://harmonica-tula.ru/catalog/bayany/</td>\n      <td>67ca34d0-5c80-4a15-9746-23b8cb164cc4</td>\n      <td>54328b9b-7da1-42ec-b325-4af57887965c</td>\n    </tr>\n    <tr>\n      <th>3</th>\n      <td>0</td>\n      <td>https://www.yolochka.ru/catalog</td>\n      <td>fc70309f-0771-43ec-8343-b441224f256a</td>\n      <td>764a3c8b-e695-4425-bcc9-3bcc328ab869</td>\n    </tr>\n    <tr>\n      <th>4</th>\n      <td>0</td>\n      <td>https://www.kizlyar.ru/catalog/nozhi-okhotnichi/</td>\n      <td>8938c23a-2620-42d2-99fd-6ee3781f2c80</td>\n      <td>24b91f88-4773-4417-8eef-f71fd74e999f</td>\n    </tr>\n    <tr>\n      <th>...</th>\n      <td>...</td>\n      <td>...</td>\n      <td>...</td>\n      <td>...</td>\n    </tr>\n    <tr>\n      <th>394</th>\n      <td>1</td>\n      <td>https://www.baltmaximus.com/kholodilniki/kholo...</td>\n      <td>7b45f31f-6b89-42fc-87c9-0d0d934acfbd</td>\n      <td>NaN</td>\n    </tr>\n    <tr>\n      <th>395</th>\n      <td>1</td>\n      <td>https://www.elmarket.by/catalog/holodilniki/kh...</td>\n      <td>12bf1900-e8b0-4236-be0c-4629da5189b4</td>\n      <td>NaN</td>\n    </tr>\n    <tr>\n      <th>396</th>\n      <td>1</td>\n      <td>https://www.rbt.ru/cat/kuhonnaya_tehnika/holod...</td>\n      <td>7d881264-d4ab-46a9-bcde-6d6db64899b2</td>\n      <td>NaN</td>\n    </tr>\n    <tr>\n      <th>397</th>\n      <td>1</td>\n      <td>https://newton.by/holodilniki/atlant_khm_4208_...</td>\n      <td>4c0c2e0b-8611-44c0-b420-58cb14b4e1a3</td>\n      <td>NaN</td>\n    </tr>\n    <tr>\n      <th>398</th>\n      <td>1</td>\n      <td>https://nkteh.ru/khv/goods/87/137625</td>\n      <td>521bc38e-2aaa-448c-b96d-ba843b97f390</td>\n      <td>NaN</td>\n    </tr>\n  </tbody>\n</table>\n<p>399 rows × 4 columns</p>\n</div>"
     },
     "execution_count": 2,
     "metadata": {},
     "output_type": "execute_result"
    }
   ],
   "source": [
    "df = pd.read_excel('files/dataset.xlsx', sheet_name='data')\n",
    "df"
   ],
   "metadata": {
    "collapsed": false,
    "pycharm": {
     "name": "#%%\n"
    }
   }
  },
  {
   "cell_type": "code",
   "execution_count": 4,
   "outputs": [
    {
     "data": {
      "text/plain": "72                         https://store78.net/telefony/\n295    https://store78.net/telefony/telefon_xiaomi_re...\n319    https://teploradost.com.ua/kotly-otopleniya/ga...\nName: URL, dtype: object"
     },
     "execution_count": 4,
     "metadata": {},
     "output_type": "execute_result"
    }
   ],
   "source": [
    "df[pd.isna(df['Filename'])]['URL']"
   ],
   "metadata": {
    "collapsed": false,
    "pycharm": {
     "name": "#%%\n"
    }
   }
  },
  {
   "cell_type": "code",
   "execution_count": 5,
   "outputs": [
    {
     "data": {
      "text/plain": "['https://store78.net/telefony/',\n 'https://store78.net/telefony/telefon_xiaomi_redmi_9a_2_32gb_seryy_global_version/',\n 'https://teploradost.com.ua/kotly-otopleniya/gazovye-kotly/dvuhkonturnye-gazovye-kotly/']"
     },
     "execution_count": 5,
     "metadata": {},
     "output_type": "execute_result"
    }
   ],
   "source": [
    "urls = df[pd.isna(df['Filename'])]['URL'].values.tolist()\n",
    "urls"
   ],
   "metadata": {
    "collapsed": false,
    "pycharm": {
     "name": "#%%\n"
    }
   }
  },
  {
   "cell_type": "code",
   "execution_count": 6,
   "outputs": [],
   "source": [
    "import uuid\n",
    "import requests\n",
    "from tqdm import tqdm\n",
    "from concurrent.futures import ThreadPoolExecutor\n",
    "\n",
    "from selenium import webdriver\n",
    "from selenium.webdriver.common.by import By\n",
    "from selenium.webdriver.support.wait import WebDriverWait\n",
    "from selenium.webdriver.support import expected_conditions as EC\n",
    "from selenium.webdriver.chrome.options import Options\n",
    "\n",
    "\n",
    "headers = {\n",
    "    'sec-ch-ua': '\"Chromium\";v=\"112\", \"Google Chrome\";v=\"112\", \"Not:A-Brand\";v=\"99\"',\n",
    "    'Referer': 'https://curlconverter.com/',\n",
    "    'sec-ch-ua-mobile': '?0',\n",
    "    'User-Agent': 'Mozilla/5.0 (Macintosh; Intel Mac OS X 10_15_7) AppleWebKit/537.36 (KHTML, like Gecko) Chrome/112.0.0.0 Safari/537.36',\n",
    "    'sec-ch-ua-platform': '\"macOS\"',\n",
    "}\n",
    "\n",
    "\n",
    "def get_driver():\n",
    "    options = Options()\n",
    "    options.add_argument('--headless')\n",
    "    driver = webdriver.Chrome(options=options)\n",
    "    return driver\n",
    "\n",
    "\n",
    "def download_url(url: str) -> str | None:\n",
    "    try:\n",
    "        name = uuid.uuid4()\n",
    "\n",
    "        driver = get_driver()\n",
    "        driver.get(url)\n",
    "        content = driver.page_source\n",
    "        # content = requests.get(url, headers=headers, timeout=30).content\n",
    "        with open(f'files/webpages/{name}.html', 'w+') as f:\n",
    "            f.write(content)\n",
    "        return str(name)\n",
    "    except Exception as e:\n",
    "        return None\n",
    "\n",
    "\n",
    "def collect_urls(urls: list, n_threads: int = 5):\n",
    "    with ThreadPoolExecutor(max_workers=10) as executor:\n",
    "        results = list(tqdm(\n",
    "            executor.map(download_url, urls),\n",
    "            total=len(urls),\n",
    "            bar_format=\"{desc:<5}{percentage:3.0f}%|{bar}{r_bar}\",\n",
    "            ncols=50\n",
    "        ))\n",
    "        return results"
   ],
   "metadata": {
    "collapsed": false,
    "pycharm": {
     "name": "#%%\n"
    }
   }
  },
  {
   "cell_type": "code",
   "execution_count": 255,
   "outputs": [
    {
     "name": "stderr",
     "output_type": "stream",
     "text": [
      "     100%|██████| 399/399 [14:48<00:00,  2.23s/it]\n"
     ]
    }
   ],
   "source": [
    "ids = collect_urls(urls)"
   ],
   "metadata": {
    "collapsed": false,
    "pycharm": {
     "name": "#%%\n"
    }
   }
  },
  {
   "cell_type": "code",
   "execution_count": 256,
   "outputs": [
    {
     "data": {
      "text/plain": "     Category                                                URL  \\\n0           0                 https://www.platki.ru/catalogue/1/   \n1           0                http://www.pzhm.ru/stolovye-pribory   \n2           0          https://harmonica-tula.ru/catalog/bayany/   \n3           0                    https://www.yolochka.ru/catalog   \n4           0   https://www.kizlyar.ru/catalog/nozhi-okhotnichi/   \n..        ...                                                ...   \n394         1  https://www.baltmaximus.com/kholodilniki/kholo...   \n395         1  https://www.elmarket.by/catalog/holodilniki/kh...   \n396         1  https://www.rbt.ru/cat/kuhonnaya_tehnika/holod...   \n397         1  https://newton.by/holodilniki/atlant_khm_4208_...   \n398         1               https://nkteh.ru/khv/goods/87/137625   \n\n                                 Filename  \\\n0    9188d97c-17c7-4195-baa8-c09e18b50e57   \n1    fb322b72-0177-4bae-8ce7-ad7a2b8e11fa   \n2    67ca34d0-5c80-4a15-9746-23b8cb164cc4   \n3    fc70309f-0771-43ec-8343-b441224f256a   \n4    8938c23a-2620-42d2-99fd-6ee3781f2c80   \n..                                    ...   \n394  7b45f31f-6b89-42fc-87c9-0d0d934acfbd   \n395  12bf1900-e8b0-4236-be0c-4629da5189b4   \n396  7d881264-d4ab-46a9-bcde-6d6db64899b2   \n397  4c0c2e0b-8611-44c0-b420-58cb14b4e1a3   \n398  521bc38e-2aaa-448c-b96d-ba843b97f390   \n\n                                Filename2  \n0    878fe071-c34a-4740-8933-3ae66080d3e6  \n1    4a195045-8a0b-42db-83de-da1961dae173  \n2    54328b9b-7da1-42ec-b325-4af57887965c  \n3    764a3c8b-e695-4425-bcc9-3bcc328ab869  \n4    24b91f88-4773-4417-8eef-f71fd74e999f  \n..                                    ...  \n394                                   NaN  \n395                                   NaN  \n396                                   NaN  \n397                                   NaN  \n398                                   NaN  \n\n[399 rows x 4 columns]",
      "text/html": "<div>\n<style scoped>\n    .dataframe tbody tr th:only-of-type {\n        vertical-align: middle;\n    }\n\n    .dataframe tbody tr th {\n        vertical-align: top;\n    }\n\n    .dataframe thead th {\n        text-align: right;\n    }\n</style>\n<table border=\"1\" class=\"dataframe\">\n  <thead>\n    <tr style=\"text-align: right;\">\n      <th></th>\n      <th>Category</th>\n      <th>URL</th>\n      <th>Filename</th>\n      <th>Filename2</th>\n    </tr>\n  </thead>\n  <tbody>\n    <tr>\n      <th>0</th>\n      <td>0</td>\n      <td>https://www.platki.ru/catalogue/1/</td>\n      <td>9188d97c-17c7-4195-baa8-c09e18b50e57</td>\n      <td>878fe071-c34a-4740-8933-3ae66080d3e6</td>\n    </tr>\n    <tr>\n      <th>1</th>\n      <td>0</td>\n      <td>http://www.pzhm.ru/stolovye-pribory</td>\n      <td>fb322b72-0177-4bae-8ce7-ad7a2b8e11fa</td>\n      <td>4a195045-8a0b-42db-83de-da1961dae173</td>\n    </tr>\n    <tr>\n      <th>2</th>\n      <td>0</td>\n      <td>https://harmonica-tula.ru/catalog/bayany/</td>\n      <td>67ca34d0-5c80-4a15-9746-23b8cb164cc4</td>\n      <td>54328b9b-7da1-42ec-b325-4af57887965c</td>\n    </tr>\n    <tr>\n      <th>3</th>\n      <td>0</td>\n      <td>https://www.yolochka.ru/catalog</td>\n      <td>fc70309f-0771-43ec-8343-b441224f256a</td>\n      <td>764a3c8b-e695-4425-bcc9-3bcc328ab869</td>\n    </tr>\n    <tr>\n      <th>4</th>\n      <td>0</td>\n      <td>https://www.kizlyar.ru/catalog/nozhi-okhotnichi/</td>\n      <td>8938c23a-2620-42d2-99fd-6ee3781f2c80</td>\n      <td>24b91f88-4773-4417-8eef-f71fd74e999f</td>\n    </tr>\n    <tr>\n      <th>...</th>\n      <td>...</td>\n      <td>...</td>\n      <td>...</td>\n      <td>...</td>\n    </tr>\n    <tr>\n      <th>394</th>\n      <td>1</td>\n      <td>https://www.baltmaximus.com/kholodilniki/kholo...</td>\n      <td>7b45f31f-6b89-42fc-87c9-0d0d934acfbd</td>\n      <td>NaN</td>\n    </tr>\n    <tr>\n      <th>395</th>\n      <td>1</td>\n      <td>https://www.elmarket.by/catalog/holodilniki/kh...</td>\n      <td>12bf1900-e8b0-4236-be0c-4629da5189b4</td>\n      <td>NaN</td>\n    </tr>\n    <tr>\n      <th>396</th>\n      <td>1</td>\n      <td>https://www.rbt.ru/cat/kuhonnaya_tehnika/holod...</td>\n      <td>7d881264-d4ab-46a9-bcde-6d6db64899b2</td>\n      <td>NaN</td>\n    </tr>\n    <tr>\n      <th>397</th>\n      <td>1</td>\n      <td>https://newton.by/holodilniki/atlant_khm_4208_...</td>\n      <td>4c0c2e0b-8611-44c0-b420-58cb14b4e1a3</td>\n      <td>NaN</td>\n    </tr>\n    <tr>\n      <th>398</th>\n      <td>1</td>\n      <td>https://nkteh.ru/khv/goods/87/137625</td>\n      <td>521bc38e-2aaa-448c-b96d-ba843b97f390</td>\n      <td>NaN</td>\n    </tr>\n  </tbody>\n</table>\n<p>399 rows × 4 columns</p>\n</div>"
     },
     "execution_count": 256,
     "metadata": {},
     "output_type": "execute_result"
    }
   ],
   "source": [
    "id_index = 0\n",
    "for index, row in df.iterrows():\n",
    "    if pd.isna(df.loc[index, 'Filename']):\n",
    "        df.loc[index, 'Filename'] = ids[id_index]\n",
    "        id_index += 1\n",
    "df"
   ],
   "metadata": {
    "collapsed": false,
    "pycharm": {
     "name": "#%%\n"
    }
   }
  },
  {
   "cell_type": "code",
   "execution_count": 257,
   "outputs": [],
   "source": [
    "df.to_excel('files/dataset.xlsx', sheet_name='data', index=False)"
   ],
   "metadata": {
    "collapsed": false,
    "pycharm": {
     "name": "#%%\n"
    }
   }
  },
  {
   "cell_type": "code",
   "execution_count": 53,
   "outputs": [],
   "source": [
    "def get_tags_features(soup) -> dict:\n",
    "    keys = {\n",
    "        'html', 'head', 'meta', 'title', 'link', 'script', 'body',\n",
    "        'div', 'ul', 'li', 'a', 'sup', 'span', 'img', 'h2', 'noindex',\n",
    "        'table', 'tr', 'td', 'form', 'input', 'tbody', 'p', 'br', 'b'\n",
    "    }\n",
    "    features = {}\n",
    "    total_count = 0\n",
    "    for tag in soup.find_all():\n",
    "        total_count += 1\n",
    "        if tag.name not in features:\n",
    "            features[tag.name] = 0\n",
    "        features[tag.name] += 1\n",
    "    features = {key: value / total_count for key, value in features.items() if key in keys}\n",
    "    return features\n",
    "\n",
    "\n",
    "def get_attr_features(soup) -> dict:\n",
    "    keys = {\n",
    "        'xmlns', 'lang', 'content', 'rel', 'type', 'href', 'src', 'name',\n",
    "        'class', 'width', 'height', 'alt', 'style', 'data-id', 'method',\n",
    "        'action', 'value', 'title', 'id'\n",
    "    }\n",
    "    features = {}\n",
    "    total_count = 0\n",
    "    for tag in soup():\n",
    "        for attr in tag.attrs:\n",
    "            total_count += 1\n",
    "            if attr not in features:\n",
    "                features[attr] = 0\n",
    "            features[attr] += 1\n",
    "    features = {key: value / total_count for key, value in features.items() if key in keys}\n",
    "    return features\n",
    "\n",
    "\n",
    "def get_classname_score(soup):\n",
    "    classnames = {}\n",
    "    for tag in soup():\n",
    "        if 'class' in tag.attrs and tag['class']:\n",
    "            classname = tag['class'][0]\n",
    "            if classname not in classnames:\n",
    "                classnames[classname] = 0\n",
    "            classnames[classname] += 1\n",
    "    features = {}\n",
    "    for classname, count in classnames.items():\n",
    "        if count not in features:\n",
    "            features[count] = 0\n",
    "        features[count] += 1\n",
    "    total = sum(features.keys())\n",
    "    features = [value * np.log(key) for key, value in features.items()]\n",
    "    classname_score = sum(features)\n",
    "    return classname_score"
   ],
   "metadata": {
    "collapsed": false,
    "pycharm": {
     "name": "#%%\n"
    }
   }
  },
  {
   "cell_type": "code",
   "execution_count": 54,
   "outputs": [
    {
     "name": "stderr",
     "output_type": "stream",
     "text": [
      "100%|██████████| 399/399 [01:35<00:00,  4.17it/s]\n"
     ]
    },
    {
     "data": {
      "text/plain": "         html      head      meta     title      link    script      body  \\\n0    0.001534  0.001534  0.004601  0.009585  0.015337  0.029141  0.001534   \n1    0.001025  0.001025  0.012295  0.079975  0.012295  0.033811  0.001025   \n2    0.001464  0.001464  0.013177  0.016038  0.033675  0.062958  0.001464   \n3    0.003344  0.003344  0.013378  0.012285  0.003344  0.050167  0.003344   \n4    0.001733  0.001733  0.017331  0.003501  0.031196  0.074523  0.001733   \n..        ...       ...       ...       ...       ...       ...       ...   \n344  0.000459  0.000459  0.014233  0.006674  0.030762  0.121671  0.000459   \n345  0.000714  0.000714  0.007138  0.020305  0.009279  0.051392  0.000714   \n346  0.000274  0.000274  0.004927  0.117616  0.003011  0.007665  0.000274   \n347  0.016949  0.016949  0.067797  0.016949  0.016949  0.050847  0.016949   \n348  0.000267  0.000267  0.002404  0.000267  0.010684  0.012821  0.000267   \n\n          div        ul        li  ...     width    height       alt  \\\n0    0.269939  0.007669  0.070552  ...  0.010650  0.010650  0.010650   \n1    0.293033  0.010246  0.132172  ...  0.040298  0.039678  0.042777   \n2    0.273792  0.001464  0.004392  ...  0.020048  0.020048  0.009623   \n3    0.371237  0.026756  0.103679  ...  0.004914  0.004914  0.029484   \n4    0.251300  0.025997  0.175043  ...  0.001167  0.001167  0.025671   \n..        ...       ...       ...  ...       ...       ...       ...   \n344  0.380165  0.011938  0.051423  ...  0.006214  0.005293  0.004143   \n345  0.239829  0.022127  0.102070  ...  0.002769  0.000923  0.007845   \n346  0.176841  0.028470  0.176841  ...  0.000521  0.000521  0.013725   \n347  0.440678  0.000000  0.000000  ...  0.000000  0.000000  0.032967   \n348  0.319979  0.010951  0.121528  ...  0.000000  0.000000  0.009865   \n\n      data-id    method    action     value        id  classname_feature  \\\n0    0.009585  0.009585  0.009585  0.047923  0.001065          87.479187   \n1    0.018599  0.001240  0.001860  0.004960  0.017979          78.666509   \n2    0.001604  0.003208  0.003208  0.034483  0.033681          82.402030   \n3    0.000000  0.002457  0.002457  0.002457  0.027027          26.106284   \n4    0.000000  0.001167  0.003501  0.007001  0.025671          66.461419   \n..        ...       ...       ...       ...       ...                ...   \n344  0.000000  0.000230  0.000230  0.007365  0.045109         245.789570   \n345  0.000000  0.000461  0.003230  0.013383  0.045685         113.394685   \n346  0.019284  0.000347  0.000347  0.000869  0.008687         161.082471   \n347  0.000000  0.010989  0.010989  0.010989  0.164835           3.178054   \n348  0.007720  0.000214  0.000214  0.000214  0.012009         225.933696   \n\n     output_category  \n0                  0  \n1                  0  \n2                  0  \n3                  0  \n4                  0  \n..               ...  \n344                1  \n345                1  \n346                1  \n347                1  \n348                1  \n\n[349 rows x 45 columns]",
      "text/html": "<div>\n<style scoped>\n    .dataframe tbody tr th:only-of-type {\n        vertical-align: middle;\n    }\n\n    .dataframe tbody tr th {\n        vertical-align: top;\n    }\n\n    .dataframe thead th {\n        text-align: right;\n    }\n</style>\n<table border=\"1\" class=\"dataframe\">\n  <thead>\n    <tr style=\"text-align: right;\">\n      <th></th>\n      <th>html</th>\n      <th>head</th>\n      <th>meta</th>\n      <th>title</th>\n      <th>link</th>\n      <th>script</th>\n      <th>body</th>\n      <th>div</th>\n      <th>ul</th>\n      <th>li</th>\n      <th>...</th>\n      <th>width</th>\n      <th>height</th>\n      <th>alt</th>\n      <th>data-id</th>\n      <th>method</th>\n      <th>action</th>\n      <th>value</th>\n      <th>id</th>\n      <th>classname_feature</th>\n      <th>output_category</th>\n    </tr>\n  </thead>\n  <tbody>\n    <tr>\n      <th>0</th>\n      <td>0.001534</td>\n      <td>0.001534</td>\n      <td>0.004601</td>\n      <td>0.009585</td>\n      <td>0.015337</td>\n      <td>0.029141</td>\n      <td>0.001534</td>\n      <td>0.269939</td>\n      <td>0.007669</td>\n      <td>0.070552</td>\n      <td>...</td>\n      <td>0.010650</td>\n      <td>0.010650</td>\n      <td>0.010650</td>\n      <td>0.009585</td>\n      <td>0.009585</td>\n      <td>0.009585</td>\n      <td>0.047923</td>\n      <td>0.001065</td>\n      <td>87.479187</td>\n      <td>0</td>\n    </tr>\n    <tr>\n      <th>1</th>\n      <td>0.001025</td>\n      <td>0.001025</td>\n      <td>0.012295</td>\n      <td>0.079975</td>\n      <td>0.012295</td>\n      <td>0.033811</td>\n      <td>0.001025</td>\n      <td>0.293033</td>\n      <td>0.010246</td>\n      <td>0.132172</td>\n      <td>...</td>\n      <td>0.040298</td>\n      <td>0.039678</td>\n      <td>0.042777</td>\n      <td>0.018599</td>\n      <td>0.001240</td>\n      <td>0.001860</td>\n      <td>0.004960</td>\n      <td>0.017979</td>\n      <td>78.666509</td>\n      <td>0</td>\n    </tr>\n    <tr>\n      <th>2</th>\n      <td>0.001464</td>\n      <td>0.001464</td>\n      <td>0.013177</td>\n      <td>0.016038</td>\n      <td>0.033675</td>\n      <td>0.062958</td>\n      <td>0.001464</td>\n      <td>0.273792</td>\n      <td>0.001464</td>\n      <td>0.004392</td>\n      <td>...</td>\n      <td>0.020048</td>\n      <td>0.020048</td>\n      <td>0.009623</td>\n      <td>0.001604</td>\n      <td>0.003208</td>\n      <td>0.003208</td>\n      <td>0.034483</td>\n      <td>0.033681</td>\n      <td>82.402030</td>\n      <td>0</td>\n    </tr>\n    <tr>\n      <th>3</th>\n      <td>0.003344</td>\n      <td>0.003344</td>\n      <td>0.013378</td>\n      <td>0.012285</td>\n      <td>0.003344</td>\n      <td>0.050167</td>\n      <td>0.003344</td>\n      <td>0.371237</td>\n      <td>0.026756</td>\n      <td>0.103679</td>\n      <td>...</td>\n      <td>0.004914</td>\n      <td>0.004914</td>\n      <td>0.029484</td>\n      <td>0.000000</td>\n      <td>0.002457</td>\n      <td>0.002457</td>\n      <td>0.002457</td>\n      <td>0.027027</td>\n      <td>26.106284</td>\n      <td>0</td>\n    </tr>\n    <tr>\n      <th>4</th>\n      <td>0.001733</td>\n      <td>0.001733</td>\n      <td>0.017331</td>\n      <td>0.003501</td>\n      <td>0.031196</td>\n      <td>0.074523</td>\n      <td>0.001733</td>\n      <td>0.251300</td>\n      <td>0.025997</td>\n      <td>0.175043</td>\n      <td>...</td>\n      <td>0.001167</td>\n      <td>0.001167</td>\n      <td>0.025671</td>\n      <td>0.000000</td>\n      <td>0.001167</td>\n      <td>0.003501</td>\n      <td>0.007001</td>\n      <td>0.025671</td>\n      <td>66.461419</td>\n      <td>0</td>\n    </tr>\n    <tr>\n      <th>...</th>\n      <td>...</td>\n      <td>...</td>\n      <td>...</td>\n      <td>...</td>\n      <td>...</td>\n      <td>...</td>\n      <td>...</td>\n      <td>...</td>\n      <td>...</td>\n      <td>...</td>\n      <td>...</td>\n      <td>...</td>\n      <td>...</td>\n      <td>...</td>\n      <td>...</td>\n      <td>...</td>\n      <td>...</td>\n      <td>...</td>\n      <td>...</td>\n      <td>...</td>\n      <td>...</td>\n    </tr>\n    <tr>\n      <th>344</th>\n      <td>0.000459</td>\n      <td>0.000459</td>\n      <td>0.014233</td>\n      <td>0.006674</td>\n      <td>0.030762</td>\n      <td>0.121671</td>\n      <td>0.000459</td>\n      <td>0.380165</td>\n      <td>0.011938</td>\n      <td>0.051423</td>\n      <td>...</td>\n      <td>0.006214</td>\n      <td>0.005293</td>\n      <td>0.004143</td>\n      <td>0.000000</td>\n      <td>0.000230</td>\n      <td>0.000230</td>\n      <td>0.007365</td>\n      <td>0.045109</td>\n      <td>245.789570</td>\n      <td>1</td>\n    </tr>\n    <tr>\n      <th>345</th>\n      <td>0.000714</td>\n      <td>0.000714</td>\n      <td>0.007138</td>\n      <td>0.020305</td>\n      <td>0.009279</td>\n      <td>0.051392</td>\n      <td>0.000714</td>\n      <td>0.239829</td>\n      <td>0.022127</td>\n      <td>0.102070</td>\n      <td>...</td>\n      <td>0.002769</td>\n      <td>0.000923</td>\n      <td>0.007845</td>\n      <td>0.000000</td>\n      <td>0.000461</td>\n      <td>0.003230</td>\n      <td>0.013383</td>\n      <td>0.045685</td>\n      <td>113.394685</td>\n      <td>1</td>\n    </tr>\n    <tr>\n      <th>346</th>\n      <td>0.000274</td>\n      <td>0.000274</td>\n      <td>0.004927</td>\n      <td>0.117616</td>\n      <td>0.003011</td>\n      <td>0.007665</td>\n      <td>0.000274</td>\n      <td>0.176841</td>\n      <td>0.028470</td>\n      <td>0.176841</td>\n      <td>...</td>\n      <td>0.000521</td>\n      <td>0.000521</td>\n      <td>0.013725</td>\n      <td>0.019284</td>\n      <td>0.000347</td>\n      <td>0.000347</td>\n      <td>0.000869</td>\n      <td>0.008687</td>\n      <td>161.082471</td>\n      <td>1</td>\n    </tr>\n    <tr>\n      <th>347</th>\n      <td>0.016949</td>\n      <td>0.016949</td>\n      <td>0.067797</td>\n      <td>0.016949</td>\n      <td>0.016949</td>\n      <td>0.050847</td>\n      <td>0.016949</td>\n      <td>0.440678</td>\n      <td>0.000000</td>\n      <td>0.000000</td>\n      <td>...</td>\n      <td>0.000000</td>\n      <td>0.000000</td>\n      <td>0.032967</td>\n      <td>0.000000</td>\n      <td>0.010989</td>\n      <td>0.010989</td>\n      <td>0.010989</td>\n      <td>0.164835</td>\n      <td>3.178054</td>\n      <td>1</td>\n    </tr>\n    <tr>\n      <th>348</th>\n      <td>0.000267</td>\n      <td>0.000267</td>\n      <td>0.002404</td>\n      <td>0.000267</td>\n      <td>0.010684</td>\n      <td>0.012821</td>\n      <td>0.000267</td>\n      <td>0.319979</td>\n      <td>0.010951</td>\n      <td>0.121528</td>\n      <td>...</td>\n      <td>0.000000</td>\n      <td>0.000000</td>\n      <td>0.009865</td>\n      <td>0.007720</td>\n      <td>0.000214</td>\n      <td>0.000214</td>\n      <td>0.000214</td>\n      <td>0.012009</td>\n      <td>225.933696</td>\n      <td>1</td>\n    </tr>\n  </tbody>\n</table>\n<p>349 rows × 45 columns</p>\n</div>"
     },
     "execution_count": 54,
     "metadata": {},
     "output_type": "execute_result"
    }
   ],
   "source": [
    "from bs4 import BeautifulSoup\n",
    "from compressor import compress_html\n",
    "\n",
    "\n",
    "df = pd.read_excel('files/dataset.xlsx', sheet_name='data')\n",
    "dataset = []\n",
    "count = 0\n",
    "for index, row in tqdm(df.iterrows(), total=df.shape[0]):\n",
    "    if pd.isna(row['Filename']):\n",
    "        continue\n",
    "    name = row['Filename']\n",
    "    filename = f'files/webpages/{name}.html'\n",
    "\n",
    "    with open(filename, 'r', encoding='utf-8', errors='replace') as f:\n",
    "        html = f.read()\n",
    "    if len(html) < 11000:\n",
    "        continue\n",
    "\n",
    "    # html = compress_html(html)\n",
    "    soup = BeautifulSoup(html, \"html.parser\")\n",
    "    tag_features = get_tags_features(soup)\n",
    "    attr_features = get_attr_features(soup)\n",
    "    classname_feature = get_classname_score(soup)\n",
    "\n",
    "    item = {\n",
    "        **tag_features,\n",
    "        **attr_features,\n",
    "        'classname_feature': classname_feature,\n",
    "        'output_category': row['Category']\n",
    "    }\n",
    "    dataset.append(item)\n",
    "    # break\n",
    "dataset_df = pd.DataFrame(dataset)\n",
    "dataset_df.fillna(0, inplace=True)\n",
    "dataset_df"
   ],
   "metadata": {
    "collapsed": false,
    "pycharm": {
     "name": "#%%\n"
    }
   }
  },
  {
   "cell_type": "code",
   "execution_count": 146,
   "outputs": [
    {
     "data": {
      "text/plain": "'src'"
     },
     "execution_count": 146,
     "metadata": {},
     "output_type": "execute_result"
    }
   ],
   "source": [
    "dataset_df.columns[31]"
   ],
   "metadata": {
    "collapsed": false,
    "pycharm": {
     "name": "#%%\n"
    }
   }
  },
  {
   "cell_type": "code",
   "execution_count": 55,
   "outputs": [],
   "source": [
    "import random\n",
    "import numpy as np\n",
    "from sklearn.model_selection import train_test_split"
   ],
   "metadata": {
    "collapsed": false,
    "pycharm": {
     "name": "#%%\n"
    }
   }
  },
  {
   "cell_type": "code",
   "execution_count": 109,
   "outputs": [
    {
     "data": {
      "text/plain": "array([[1.53374233e-03, 1.53374233e-03, 4.60122699e-03, ...,\n        4.79233227e-02, 1.06496273e-03, 8.74791868e+01],\n       [1.02459016e-03, 1.02459016e-03, 1.22950820e-02, ...,\n        4.95970242e-03, 1.79789213e-02, 7.86665093e+01],\n       [1.46412884e-03, 1.46412884e-03, 1.31771596e-02, ...,\n        3.44827586e-02, 3.36808340e-02, 8.24020303e+01],\n       ...,\n       [2.73747605e-04, 2.73747605e-04, 4.92745688e-03, ...,\n        8.68658791e-04, 8.68658791e-03, 1.61082471e+02],\n       [1.69491525e-02, 1.69491525e-02, 6.77966102e-02, ...,\n        1.09890110e-02, 1.64835165e-01, 3.17805383e+00],\n       [2.67094017e-04, 2.67094017e-04, 2.40384615e-03, ...,\n        2.14454214e-04, 1.20094360e-02, 2.25933696e+02]])"
     },
     "execution_count": 109,
     "metadata": {},
     "output_type": "execute_result"
    }
   ],
   "source": [
    "x_columns = dataset_df.columns.tolist()\n",
    "x_columns.remove('output_category')\n",
    "\n",
    "x = np.array(dataset_df[x_columns])\n",
    "y = np.array(dataset_df['output_category'])\n",
    "# x = x[:, good_indices]\n",
    "x_train, x_test, y_train, y_test = train_test_split(x, y, test_size=0.2, random_state=random.randint(1, 100))\n",
    "x"
   ],
   "metadata": {
    "collapsed": false,
    "pycharm": {
     "name": "#%%\n"
    }
   }
  },
  {
   "cell_type": "code",
   "execution_count": 110,
   "outputs": [],
   "source": [
    "def train_and_test(model, x_train, y_train, x_test, y_test):\n",
    "    model = model.fit(x_train, y_train)\n",
    "    model.predict(x_test)\n",
    "    accuracy = model.score(x_test, y_test)\n",
    "    # print(f'{model.__str__()}: {round(accuracy, 4)}')\n",
    "    return accuracy"
   ],
   "metadata": {
    "collapsed": false,
    "pycharm": {
     "name": "#%%\n"
    }
   }
  },
  {
   "cell_type": "code",
   "execution_count": 1,
   "outputs": [
    {
     "ename": "NameError",
     "evalue": "name 'train_and_test' is not defined",
     "output_type": "error",
     "traceback": [
      "\u001B[0;31m---------------------------------------------------------------------------\u001B[0m",
      "\u001B[0;31mNameError\u001B[0m                                 Traceback (most recent call last)",
      "Cell \u001B[0;32mIn [1], line 16\u001B[0m\n\u001B[1;32m     14\u001B[0m \u001B[38;5;28;01mfor\u001B[39;00m model \u001B[38;5;129;01min\u001B[39;00m models:\n\u001B[1;32m     15\u001B[0m     model_name \u001B[38;5;241m=\u001B[39m model\u001B[38;5;241m.\u001B[39m\u001B[38;5;21m__str__\u001B[39m()\u001B[38;5;241m.\u001B[39msplit(\u001B[38;5;124m'\u001B[39m\u001B[38;5;124m(\u001B[39m\u001B[38;5;124m'\u001B[39m)[\u001B[38;5;241m0\u001B[39m]\n\u001B[0;32m---> 16\u001B[0m     accuracy \u001B[38;5;241m=\u001B[39m train_and_test(model, x_train, y_train, x_test, y_test)\n\u001B[1;32m     17\u001B[0m     results_df\u001B[38;5;241m.\u001B[39mappend({\u001B[38;5;124m'\u001B[39m\u001B[38;5;124mModel\u001B[39m\u001B[38;5;124m'\u001B[39m: model_name, \u001B[38;5;124m'\u001B[39m\u001B[38;5;124mAccuracy\u001B[39m\u001B[38;5;124m'\u001B[39m: \u001B[38;5;28mround\u001B[39m(accuracy, \u001B[38;5;241m2\u001B[39m)})\n\u001B[1;32m     18\u001B[0m results_df \u001B[38;5;241m=\u001B[39m pd\u001B[38;5;241m.\u001B[39mDataFrame(results_df)\n",
      "\u001B[0;31mNameError\u001B[0m: name 'train_and_test' is not defined"
     ]
    }
   ],
   "source": [
    "from sklearn.linear_model import LogisticRegression\n",
    "from sklearn import svm\n",
    "from sklearn.ensemble import RandomForestClassifier\n",
    "from sklearn.neural_network import MLPClassifier\n",
    "\n",
    "models = [\n",
    "    LogisticRegression(random_state=0, solver='lbfgs', multi_class='ovr', max_iter=100000),\n",
    "    svm.LinearSVC(max_iter=100000),\n",
    "    RandomForestClassifier(n_estimators=10, max_depth=2, random_state=0),\n",
    "    MLPClassifier(solver='lbfgs', alpha=1e-5, hidden_layer_sizes=(50, 25, 5), random_state=1, max_iter=100000)\n",
    "]\n",
    "\n",
    "results_df = []\n",
    "for model in models:\n",
    "    model_name = model.__str__().split('(')[0]\n",
    "    accuracy = train_and_test(model, x_train, y_train, x_test, y_test)\n",
    "    results_df.append({'Model': model_name, 'Accuracy': round(accuracy, 2)})\n",
    "results_df = pd.DataFrame(results_df)\n",
    "results_df"
   ],
   "metadata": {
    "collapsed": false,
    "pycharm": {
     "name": "#%%\n"
    }
   }
  },
  {
   "cell_type": "code",
   "execution_count": 2,
   "outputs": [
    {
     "data": {
      "text/plain": "{'activation': 'relu',\n 'alpha': 1e-05,\n 'batch_size': 'auto',\n 'beta_1': 0.9,\n 'beta_2': 0.999,\n 'early_stopping': False,\n 'epsilon': 1e-08,\n 'hidden_layer_sizes': (50, 25, 5),\n 'learning_rate': 'constant',\n 'learning_rate_init': 0.001,\n 'max_fun': 15000,\n 'max_iter': 100000,\n 'momentum': 0.9,\n 'n_iter_no_change': 10,\n 'nesterovs_momentum': True,\n 'power_t': 0.5,\n 'random_state': 1,\n 'shuffle': True,\n 'solver': 'lbfgs',\n 'tol': 0.0001,\n 'validation_fraction': 0.1,\n 'verbose': False,\n 'warm_start': False}"
     },
     "execution_count": 2,
     "metadata": {},
     "output_type": "execute_result"
    }
   ],
   "source": [
    "models[-1].get_params()"
   ],
   "metadata": {
    "collapsed": false,
    "pycharm": {
     "name": "#%%\n"
    }
   }
  },
  {
   "cell_type": "code",
   "execution_count": 112,
   "outputs": [],
   "source": [
    "def collect_statistics():\n",
    "    N = 20\n",
    "    results_df = []\n",
    "    for i in tqdm(range(N)):\n",
    "        x_columns = dataset_df.columns.tolist()\n",
    "        x_columns.remove('output_category')\n",
    "\n",
    "        x = np.array(dataset_df[x_columns])\n",
    "        y = np.array(dataset_df['output_category'])\n",
    "        x_train, x_test, y_train, y_test = train_test_split(x, y, test_size=0.15, random_state=random.randint(1, 100))\n",
    "\n",
    "        models = [\n",
    "            LogisticRegression(random_state=0, solver='lbfgs', multi_class='ovr', max_iter=100000),\n",
    "            svm.LinearSVC(max_iter=100000),\n",
    "            RandomForestClassifier(n_estimators=10, max_depth=2, random_state=0),\n",
    "            MLPClassifier(solver='lbfgs', alpha=1e-5, hidden_layer_sizes=(50, 25, 5), random_state=1, max_iter=100000)\n",
    "        ]\n",
    "\n",
    "\n",
    "        for model in models:\n",
    "            model_name = model.__str__().split('(')[0]\n",
    "            accuracy = train_and_test(model, x_train, y_train, x_test, y_test)\n",
    "            results_df.append({'Model': model_name, 'Accuracy': round(accuracy, 2)})\n",
    "\n",
    "    results_df = pd.DataFrame(results_df)\n",
    "    return results_df"
   ],
   "metadata": {
    "collapsed": false,
    "pycharm": {
     "name": "#%%\n"
    }
   }
  },
  {
   "cell_type": "code",
   "execution_count": 113,
   "outputs": [
    {
     "name": "stderr",
     "output_type": "stream",
     "text": [
      "  0%|          | 0/20 [00:00<?, ?it/s]/Users/iakov/.pyenv/versions/3.10.2/lib/python3.10/site-packages/sklearn/svm/_base.py:1244: ConvergenceWarning: Liblinear failed to converge, increase the number of iterations.\n",
      "  warnings.warn(\n",
      "  5%|▌         | 1/20 [00:04<01:31,  4.80s/it]/Users/iakov/.pyenv/versions/3.10.2/lib/python3.10/site-packages/sklearn/svm/_base.py:1244: ConvergenceWarning: Liblinear failed to converge, increase the number of iterations.\n",
      "  warnings.warn(\n",
      " 10%|█         | 2/20 [00:09<01:20,  4.46s/it]/Users/iakov/.pyenv/versions/3.10.2/lib/python3.10/site-packages/sklearn/svm/_base.py:1244: ConvergenceWarning: Liblinear failed to converge, increase the number of iterations.\n",
      "  warnings.warn(\n",
      " 15%|█▌        | 3/20 [00:13<01:14,  4.40s/it]/Users/iakov/.pyenv/versions/3.10.2/lib/python3.10/site-packages/sklearn/svm/_base.py:1244: ConvergenceWarning: Liblinear failed to converge, increase the number of iterations.\n",
      "  warnings.warn(\n",
      " 20%|██        | 4/20 [00:18<01:15,  4.74s/it]/Users/iakov/.pyenv/versions/3.10.2/lib/python3.10/site-packages/sklearn/svm/_base.py:1244: ConvergenceWarning: Liblinear failed to converge, increase the number of iterations.\n",
      "  warnings.warn(\n",
      " 25%|██▌       | 5/20 [00:22<01:07,  4.49s/it]/Users/iakov/.pyenv/versions/3.10.2/lib/python3.10/site-packages/sklearn/svm/_base.py:1244: ConvergenceWarning: Liblinear failed to converge, increase the number of iterations.\n",
      "  warnings.warn(\n",
      " 30%|███       | 6/20 [00:26<01:01,  4.36s/it]/Users/iakov/.pyenv/versions/3.10.2/lib/python3.10/site-packages/sklearn/svm/_base.py:1244: ConvergenceWarning: Liblinear failed to converge, increase the number of iterations.\n",
      "  warnings.warn(\n",
      " 35%|███▌      | 7/20 [00:31<00:56,  4.34s/it]/Users/iakov/.pyenv/versions/3.10.2/lib/python3.10/site-packages/sklearn/svm/_base.py:1244: ConvergenceWarning: Liblinear failed to converge, increase the number of iterations.\n",
      "  warnings.warn(\n",
      " 40%|████      | 8/20 [00:35<00:51,  4.28s/it]/Users/iakov/.pyenv/versions/3.10.2/lib/python3.10/site-packages/sklearn/svm/_base.py:1244: ConvergenceWarning: Liblinear failed to converge, increase the number of iterations.\n",
      "  warnings.warn(\n",
      " 45%|████▌     | 9/20 [00:38<00:44,  4.09s/it]/Users/iakov/.pyenv/versions/3.10.2/lib/python3.10/site-packages/sklearn/svm/_base.py:1244: ConvergenceWarning: Liblinear failed to converge, increase the number of iterations.\n",
      "  warnings.warn(\n",
      " 50%|█████     | 10/20 [00:42<00:40,  4.07s/it]/Users/iakov/.pyenv/versions/3.10.2/lib/python3.10/site-packages/sklearn/svm/_base.py:1244: ConvergenceWarning: Liblinear failed to converge, increase the number of iterations.\n",
      "  warnings.warn(\n",
      " 55%|█████▌    | 11/20 [00:46<00:36,  4.05s/it]/Users/iakov/.pyenv/versions/3.10.2/lib/python3.10/site-packages/sklearn/svm/_base.py:1244: ConvergenceWarning: Liblinear failed to converge, increase the number of iterations.\n",
      "  warnings.warn(\n",
      " 60%|██████    | 12/20 [00:51<00:33,  4.19s/it]/Users/iakov/.pyenv/versions/3.10.2/lib/python3.10/site-packages/sklearn/svm/_base.py:1244: ConvergenceWarning: Liblinear failed to converge, increase the number of iterations.\n",
      "  warnings.warn(\n",
      " 65%|██████▌   | 13/20 [00:55<00:28,  4.09s/it]/Users/iakov/.pyenv/versions/3.10.2/lib/python3.10/site-packages/sklearn/svm/_base.py:1244: ConvergenceWarning: Liblinear failed to converge, increase the number of iterations.\n",
      "  warnings.warn(\n",
      " 70%|███████   | 14/20 [00:59<00:25,  4.22s/it]/Users/iakov/.pyenv/versions/3.10.2/lib/python3.10/site-packages/sklearn/svm/_base.py:1244: ConvergenceWarning: Liblinear failed to converge, increase the number of iterations.\n",
      "  warnings.warn(\n",
      " 75%|███████▌  | 15/20 [01:03<00:20,  4.18s/it]/Users/iakov/.pyenv/versions/3.10.2/lib/python3.10/site-packages/sklearn/svm/_base.py:1244: ConvergenceWarning: Liblinear failed to converge, increase the number of iterations.\n",
      "  warnings.warn(\n",
      " 80%|████████  | 16/20 [01:08<00:16,  4.19s/it]/Users/iakov/.pyenv/versions/3.10.2/lib/python3.10/site-packages/sklearn/svm/_base.py:1244: ConvergenceWarning: Liblinear failed to converge, increase the number of iterations.\n",
      "  warnings.warn(\n",
      " 85%|████████▌ | 17/20 [01:12<00:12,  4.16s/it]/Users/iakov/.pyenv/versions/3.10.2/lib/python3.10/site-packages/sklearn/svm/_base.py:1244: ConvergenceWarning: Liblinear failed to converge, increase the number of iterations.\n",
      "  warnings.warn(\n",
      " 90%|█████████ | 18/20 [01:16<00:08,  4.16s/it]/Users/iakov/.pyenv/versions/3.10.2/lib/python3.10/site-packages/sklearn/svm/_base.py:1244: ConvergenceWarning: Liblinear failed to converge, increase the number of iterations.\n",
      "  warnings.warn(\n",
      " 95%|█████████▌| 19/20 [01:20<00:04,  4.16s/it]/Users/iakov/.pyenv/versions/3.10.2/lib/python3.10/site-packages/sklearn/svm/_base.py:1244: ConvergenceWarning: Liblinear failed to converge, increase the number of iterations.\n",
      "  warnings.warn(\n",
      "100%|██████████| 20/20 [01:24<00:00,  4.23s/it]\n"
     ]
    }
   ],
   "source": [
    "results_df = collect_statistics()"
   ],
   "metadata": {
    "collapsed": false,
    "pycharm": {
     "name": "#%%\n"
    }
   }
  },
  {
   "cell_type": "code",
   "execution_count": 103,
   "outputs": [
    {
     "data": {
      "text/plain": "array([1, 0, 0, 0, 0, 0, 0, 0, 1, 0, 0, 0, 0, 0, 0, 0, 0, 0, 0, 0, 0, 1,\n       0, 0, 0, 1, 1, 0, 0, 0, 0, 0, 0, 0, 0, 0, 0, 0, 0, 0, 1, 0, 1, 0,\n       0, 0, 0, 0, 1, 0, 0, 0, 0, 1, 0, 0, 0, 0, 0, 1, 0, 0, 0, 1, 1, 0,\n       1, 0, 0, 0])"
     },
     "execution_count": 103,
     "metadata": {},
     "output_type": "execute_result"
    }
   ],
   "source": [
    "model = RandomForestClassifier(n_estimators=10, max_depth=2, random_state=0)\n",
    "model = model.fit(x_train, y_train)\n",
    "model.predict(x_test)"
   ],
   "metadata": {
    "collapsed": false,
    "pycharm": {
     "name": "#%%\n"
    }
   }
  },
  {
   "cell_type": "code",
   "execution_count": 172,
   "outputs": [
    {
     "data": {
      "text/plain": "array([5.84825293e-02, 7.68554234e-02, 1.71649969e-03, 6.59381597e-05,\n       8.07625165e-04, 9.16395645e-04, 3.68047688e-02, 3.61230626e-05,\n       1.83378086e-04, 4.24834102e-05, 2.24828921e-04, 3.34749248e-04,\n       4.53849831e-05, 6.54246926e-04, 1.66881591e-03, 8.82600460e-04,\n       2.45059704e-03, 6.17665879e-03, 3.06794932e-03, 3.60089998e-03,\n       4.15496046e-04, 8.64244640e-03, 1.59679130e-04, 3.26384797e-04,\n       3.89249465e-04, 3.15370031e-04, 2.81883519e-03, 1.61186887e-03,\n       3.12598946e-04, 4.28675385e-04, 2.26469766e-04, 6.20219105e-04,\n       4.74099122e-04, 2.57290186e-05, 1.27852053e-03, 1.26655748e-03,\n       3.59490850e-04, 2.04097961e-04, 2.78248959e-04, 3.29953691e-03,\n       2.08507581e-03, 1.74620172e-05, 1.33891659e-04, 2.07678681e-02])"
     },
     "execution_count": 172,
     "metadata": {},
     "output_type": "execute_result"
    }
   ],
   "source": [
    "import statsmodels.api as sm\n",
    "ols = sm.OLS(y, x)\n",
    "ols_result = ols.fit()\n",
    "# Now you have at your disposition several error estimates, e.g.\n",
    "ols_result.HC0_se"
   ],
   "metadata": {
    "collapsed": false,
    "pycharm": {
     "name": "#%%\n"
    }
   }
  },
  {
   "cell_type": "code",
   "execution_count": 173,
   "outputs": [],
   "source": [],
   "metadata": {
    "collapsed": false,
    "pycharm": {
     "name": "#%%\n"
    }
   }
  },
  {
   "cell_type": "code",
   "execution_count": 75,
   "outputs": [
    {
     "data": {
      "text/plain": "[0.08051456725705047,\n 0.0806072992266894,\n 0.1274016538427424,\n 0.12694531776742046,\n 0.09074865111130936,\n 0.17850265019939135,\n 0.0806072992266894,\n 0.005981123750669543,\n 0.02786651785191346,\n 0.03870403644414182,\n 0.12469061246155741,\n 0.03445308500845624,\n 0.13843876754304166,\n 0.13626138362177148,\n 0.028769124489928372,\n 0.018266407240859588,\n 0.1277377197576025,\n 0.11829199610739732,\n 0.12213029624531554,\n 0.10392884687257226,\n 0.038178946428681915,\n 0.17274836904013485,\n 0.02019298029067216,\n 0.07393118019890384,\n 0.025193394699667495,\n 0.0077974151974120895,\n 0.0641216996626549,\n 0.11616235642795307,\n 0.08629105816239775,\n 0.01590626483381359,\n 0.08924774273531488,\n 0.19890234576820087,\n 0.10214506382213237,\n 0.09746788854922107,\n 0.11275330012342487,\n 0.000142849893862534,\n 0.035728096512453636,\n 0.02212875961864678,\n 0.011126769361050743,\n 0.027008082549406242,\n 0.06623372970354494,\n 0.04748918406743737,\n 0.04493085762606028,\n 0.1499539481129144]"
     },
     "execution_count": 75,
     "metadata": {},
     "output_type": "execute_result"
    }
   ],
   "source": [
    "import matplotlib.pyplot as plt\n",
    "values = []\n",
    "for i in range(x.shape[1]):\n",
    "    pearsons_coefficient = np.corrcoef(x[:, i], y)[1, 0]\n",
    "    values.append(abs(pearsons_coefficient))\n",
    "    # ax, fig = plt.subplots()\n",
    "    # fig.scatter(x[:, i], y)\n",
    "    # fig.set_title(i)\n",
    "    # fig.set_xlim(0, fig.get_xlim()[1] / 2)\n",
    "values"
   ],
   "metadata": {
    "collapsed": false,
    "pycharm": {
     "name": "#%%\n"
    }
   }
  },
  {
   "cell_type": "code",
   "execution_count": 152,
   "outputs": [
    {
     "data": {
      "text/plain": "<Figure size 640x480 with 1 Axes>",
      "image/png": "[encoded data removed]"
     },
     "metadata": {},
     "output_type": "display_data"
    }
   ],
   "source": [
    "import scipy\n",
    "\n",
    "t = scipy.stats.t.ppf(0.95, x.shape[0] - 2)\n",
    "pcc_threshold = t / np.sqrt(x.shape[0] - 2 + t * t)\n",
    "\n",
    "plt.bar(list(range(len(values))), values)\n",
    "plt.hlines(pcc_threshold, xmin=-5, xmax=len(values) + 5, color='black', linestyle='--')\n",
    "plt.xlim(-2, len(values) + 2)\n",
    "plt.xlabel('Номер признака')\n",
    "plt.ylabel('PCC')\n",
    "plt.title('Корреляция признаков')\n",
    "plt.savefig('figures/correlation.png', dpi=300)"
   ],
   "metadata": {
    "collapsed": false,
    "pycharm": {
     "name": "#%%\n"
    }
   }
  },
  {
   "cell_type": "code",
   "execution_count": 156,
   "outputs": [
    {
     "data": {
      "text/plain": "19"
     },
     "execution_count": 156,
     "metadata": {},
     "output_type": "execute_result"
    }
   ],
   "source": [
    "len([x for x in values if x > pcc_threshold])"
   ],
   "metadata": {
    "collapsed": false,
    "pycharm": {
     "name": "#%%\n"
    }
   }
  },
  {
   "cell_type": "code",
   "execution_count": 141,
   "outputs": [
    {
     "data": {
      "text/plain": "0.1244883851623007"
     },
     "execution_count": 141,
     "metadata": {},
     "output_type": "execute_result"
    }
   ],
   "source": [],
   "metadata": {
    "collapsed": false,
    "pycharm": {
     "name": "#%%\n"
    }
   }
  },
  {
   "cell_type": "code",
   "execution_count": 140,
   "outputs": [
    {
     "data": {
      "text/plain": "44"
     },
     "execution_count": 140,
     "metadata": {},
     "output_type": "execute_result"
    }
   ],
   "source": [
    "x.shape[1]"
   ],
   "metadata": {
    "collapsed": false,
    "pycharm": {
     "name": "#%%\n"
    }
   }
  },
  {
   "cell_type": "code",
   "execution_count": null,
   "outputs": [],
   "source": [],
   "metadata": {
    "collapsed": false,
    "pycharm": {
     "name": "#%%\n"
    }
   }
  }
 ],
 "metadata": {
  "kernelspec": {
   "display_name": "Python 3",
   "language": "python",
   "name": "python3"
  },
  "language_info": {
   "codemirror_mode": {
    "name": "ipython",
    "version": 2
   },
   "file_extension": ".py",
   "mimetype": "text/x-python",
   "name": "python",
   "nbconvert_exporter": "python",
   "pygments_lexer": "ipython2",
   "version": "2.7.6"
  }
 },
 "nbformat": 4,
 "nbformat_minor": 0
}