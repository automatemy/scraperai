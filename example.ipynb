{
 "cells": [
  {
   "cell_type": "code",
   "outputs": [],
   "source": [
    "%load_ext autoreload\n",
    "%autoreload 2"
   ],
   "metadata": {
    "collapsed": false,
    "ExecuteTime": {
     "end_time": "2024-03-29T14:50:03.914784Z",
     "start_time": "2024-03-29T14:50:03.892937Z"
    }
   },
   "id": "6eb06faf8a27d166",
   "execution_count": 1
  },
  {
   "cell_type": "markdown",
   "source": [
    "## How to scrape any website with ScraperAI"
   ],
   "metadata": {
    "collapsed": false
   },
   "id": "d597f324e60cad72"
  },
  {
   "cell_type": "markdown",
   "source": [
    "### Before we start, install the package"
   ],
   "metadata": {
    "collapsed": false
   },
   "id": "dcd4546522a05bc1"
  },
  {
   "cell_type": "code",
   "outputs": [],
   "source": [
    "# ! pip install scraperai"
   ],
   "metadata": {
    "collapsed": false,
    "ExecuteTime": {
     "end_time": "2024-03-29T14:50:05.491772Z",
     "start_time": "2024-03-29T14:50:05.475112Z"
    }
   },
   "id": "76211611f93937da",
   "execution_count": 2
  },
  {
   "cell_type": "code",
   "outputs": [],
   "source": [
    "import os\n",
    "import json\n",
    "\n",
    "import pandas as pd\n",
    "from dotenv import find_dotenv, load_dotenv\n",
    "from tqdm import tqdm\n",
    "\n",
    "from scraperai.parsers.models import WebpageFields, Pagination, WebpageType\n",
    "from scraperai import ParserAI\n",
    "from scraperai.crawlers import SeleniumCrawler"
   ],
   "metadata": {
    "collapsed": false,
    "ExecuteTime": {
     "end_time": "2024-03-29T16:14:35.115244Z",
     "start_time": "2024-03-29T16:14:35.074067Z"
    }
   },
   "id": "1103d896f48fa663",
   "execution_count": 70
  },
  {
   "cell_type": "markdown",
   "source": [
    "### Step 1. Init crawler\n",
    "\n",
    "First, we need to initialize a web-crawler that will help us to fetch data from the web.\n",
    "\n",
    "In this tutorial we use `SeleniumCrawler` that uses Selenium webdriver. By default it creates a new Chrome session.\n",
    "\n",
    "To use other browsers you can pass your own webdriver (both local and remote) to the `SeleniumCrawler`:\n",
    "```\n",
    "crawler = SeleniumCrawler(driver=your_own_webdriver)\n",
    "```\n",
    "\n",
    "If you want to use playwright or other services, you can create your own crawler implementation based on `BaseCrawler`."
   ],
   "metadata": {
    "collapsed": false
   },
   "id": "1180076edb7afa4a"
  },
  {
   "cell_type": "code",
   "outputs": [],
   "source": [
    "crawler = SeleniumCrawler()"
   ],
   "metadata": {
    "collapsed": false,
    "ExecuteTime": {
     "end_time": "2024-03-29T16:00:21.913485Z",
     "start_time": "2024-03-29T16:00:17.980174Z"
    }
   },
   "id": "456b1481d75ae268",
   "execution_count": 65
  },
  {
   "cell_type": "markdown",
   "source": [
    "### Step 2. Init ParserAI\n",
    "\n",
    "By default, we use the latest OpenAI GPT-4 model. You can place your API key in the `.env` file. If you don't have a key, you can get it [here](https://platform.openai.com/api-keys).\n",
    "Also, you can use another AI model. To do this, you need to create another implementations of the `BaseLM`, `BaseJsonLM` and `BaseVision` classes."
   ],
   "metadata": {
    "collapsed": false
   },
   "id": "17011078f7add63"
  },
  {
   "cell_type": "code",
   "outputs": [],
   "source": [
    "env_file = find_dotenv()\n",
    "if env_file:\n",
    "    load_dotenv()\n",
    "openai_api_key = os.getenv('OPENAI_API_KEY')\n",
    "if openai_api_key is None:\n",
    "    openai_api_key = input('Please, enter your OpenAI API key: ')\n",
    "\n",
    "parser = ParserAI(openai_api_key=openai_api_key)"
   ],
   "metadata": {
    "collapsed": false,
    "ExecuteTime": {
     "end_time": "2024-03-29T16:14:40.357437Z",
     "start_time": "2024-03-29T16:14:40.233827Z"
    }
   },
   "id": "65a30490ab058365",
   "execution_count": 71
  },
  {
   "cell_type": "markdown",
   "source": [
    "There are 2 experiments in this doc:\n",
    "1. [List of YCombinator companies](https://www.ycombinator.com/companies/)\n",
    "2. [List of commits in the repository](https://github.com/scraperai/scraperai/commits/main/)"
   ],
   "metadata": {
    "collapsed": false
   },
   "id": "4b4399c94da6d0c5"
  },
  {
   "cell_type": "markdown",
   "source": [
    "#### Experiment 1. List of YCombinator companies"
   ],
   "metadata": {
    "collapsed": false
   },
   "id": "3aac5b0bd2dcc9f7"
  },
  {
   "cell_type": "markdown",
   "source": [
    "### Step 3. Open the website page\n",
    "Later, in case of multiple similar sites you will be able to run batch scraping. The main target is to semi-automatically detect all xpaths"
   ],
   "metadata": {
    "collapsed": false
   },
   "id": "6b3f41887ec2da8"
  },
  {
   "cell_type": "code",
   "outputs": [],
   "source": [
    "url = 'https://www.ycombinator.com/companies' # Enter the URL of the website"
   ],
   "metadata": {
    "collapsed": false,
    "ExecuteTime": {
     "end_time": "2024-03-29T15:15:27.281730Z",
     "start_time": "2024-03-29T15:15:27.241014Z"
    }
   },
   "id": "6487f025928429c",
   "execution_count": 30
  },
  {
   "cell_type": "code",
   "outputs": [],
   "source": [
    "# Open page in the browser\n",
    "crawler.get(url)"
   ],
   "metadata": {
    "collapsed": false,
    "ExecuteTime": {
     "end_time": "2024-03-29T15:15:34.854055Z",
     "start_time": "2024-03-29T15:15:28.117348Z"
    }
   },
   "id": "bf21beb3647ca5b2",
   "execution_count": 31
  },
  {
   "cell_type": "markdown",
   "source": [
    "### Step 3.1. Detect page type\n",
    "We divide webpages into 4 categories:\n",
    "- **Catalog**: consists of similar-looking repeating elements. It can be a list of products, articles, companies, table rows, etc;\n",
    "- **Details**: contains main information about one product;\n",
    "- **Captcha**: in case we meet anti-scraping CAPTCHA;\n",
    "- **Other**: everything else; we don't support this webpage type yet.\n",
    "\n",
    "By default, we use screenshot of the page and GPT4 Vision model to determine a type. We also have a fallback algorithm if you cannot take a screenshot of the page or do not have access to Vision models.\n",
    "\n",
    "If you know the type of the page, you can set it manually."
   ],
   "metadata": {
    "collapsed": false
   },
   "id": "49fc7fe1abe83b3d"
  },
  {
   "cell_type": "code",
   "outputs": [
    {
     "data": {
      "text/plain": "<WebpageType.CATALOG: 'catalog'>"
     },
     "execution_count": 32,
     "metadata": {},
     "output_type": "execute_result"
    }
   ],
   "source": [
    "page_type = parser.detect_page_type(\n",
    "    page_source=crawler.page_source,\n",
    "    screenshot=crawler.get_screenshot_as_base64()\n",
    ")\n",
    "# You can set type manually\n",
    "# page_type = WebpageType.CATALOG\n",
    "page_type"
   ],
   "metadata": {
    "collapsed": false,
    "ExecuteTime": {
     "end_time": "2024-03-29T15:21:34.024831Z",
     "start_time": "2024-03-29T15:21:28.836894Z"
    }
   },
   "id": "3848286a63d28b49",
   "execution_count": 32
  },
  {
   "cell_type": "markdown",
   "source": [
    "OpenAI tokens are spent on each action. You can find total money spent using:"
   ],
   "metadata": {
    "collapsed": false
   }
  },
  {
   "cell_type": "code",
   "execution_count": 33,
   "outputs": [
    {
     "data": {
      "text/plain": "1.0501500000000001"
     },
     "execution_count": 33,
     "metadata": {},
     "output_type": "execute_result"
    }
   ],
   "source": [
    "parser.total_cost  # in USD"
   ],
   "metadata": {
    "collapsed": false,
    "ExecuteTime": {
     "end_time": "2024-03-29T15:23:00.407628Z",
     "start_time": "2024-03-29T15:23:00.366667Z"
    }
   }
  },
  {
   "cell_type": "markdown",
   "source": [
    "### Step 3.2. Detect pagination\n",
    "**It is used only for type `catalog`.**\n",
    "\n",
    "We need to pass a whole page to detect the pagination.\n",
    "There are 3 types of pagination: `xpath`, `scroll`, and `url_param` (not implemented yet)."
   ],
   "metadata": {
    "collapsed": false
   },
   "id": "9124a022c312464c"
  },
  {
   "cell_type": "code",
   "outputs": [
    {
     "name": "stderr",
     "output_type": "stream",
     "text": [
      "Wrong response: Loading more...,div\n"
     ]
    },
    {
     "data": {
      "text/plain": "Pagination(type='scroll', xpath=None, url_param=None, url_param_first_value=1)"
     },
     "execution_count": 34,
     "metadata": {},
     "output_type": "execute_result"
    }
   ],
   "source": [
    "pagination = parser.detect_pagination(crawler.page_source)\n",
    "pagination"
   ],
   "metadata": {
    "collapsed": false,
    "ExecuteTime": {
     "end_time": "2024-03-29T15:23:27.351287Z",
     "start_time": "2024-03-29T15:23:17.990148Z"
    }
   },
   "id": "418fe9a21ca498a7",
   "execution_count": 34
  },
  {
   "cell_type": "markdown",
   "source": [
    "In case of error, you can set it manually."
   ],
   "metadata": {
    "collapsed": false
   }
  },
  {
   "cell_type": "code",
   "execution_count": 13,
   "outputs": [],
   "source": [
    "# Scroll type\n",
    "p1 = Pagination(type='scroll')\n",
    "# XPATH\n",
    "p2 = Pagination(type='xpath', xpath='//some-xpath')\n",
    "# URL param\n",
    "p3 = Pagination(type='url_param', url_param='page')"
   ],
   "metadata": {
    "collapsed": false,
    "ExecuteTime": {
     "end_time": "2024-03-29T14:09:31.059669Z",
     "start_time": "2024-03-29T14:09:31.021702Z"
    }
   }
  },
  {
   "cell_type": "markdown",
   "source": [
    "### Step 3.3. Detect catalog items\n",
    "**It is used only for type `catalog`.**\n",
    "You should correctly choose item block, url and ... \n",
    "AI isn't perfect, so you can manually add extra prompt to help AI to understand what you want or set xpath manually."
   ],
   "metadata": {
    "collapsed": false
   },
   "id": "ee342c3eb6a3175d"
  },
  {
   "cell_type": "code",
   "outputs": [
    {
     "data": {
      "text/plain": "<card_xpath=//a[contains(@class,'_company_fj1ly_339')]\n url_xpath=//a[contains(@class,'_company_fj1ly_339')]/@href\n urls_on_page=['https://www.ycombinator.com/companies/airbnb', 'https://www.ycombinator.com/companies/instacart', 'https://www.ycombinator.com/companies/doordash', 'https://www.ycombinator.com/companies/coinbase', 'https://www.ycombinator.com/companies/dropbox', 'https://www.ycombinator.com/companies/gitlab', 'https://www.ycombinator.com/companies/ginkgo-bioworks', 'https://www.ycombinator.com/companies/pagerduty', 'https://www.ycombinator.com/companies/amplitude', 'https://www.ycombinator.com/companies/matterport', 'https://www.ycombinator.com/companies/weave', 'https://www.ycombinator.com/companies/notable-labs', 'https://www.ycombinator.com/companies/presto', 'https://www.ycombinator.com/companies/rigetti-computing', 'https://www.ycombinator.com/companies/pardes-bio', 'https://www.ycombinator.com/companies/embark-trucks', 'https://www.ycombinator.com/companies/momentus', 'https://www.ycombinator.com/companies/lucira-health', 'https://www.ycombinator.com/companies/stripe', 'https://www.ycombinator.com/companies/cruise', 'https://www.ycombinator.com/companies/opensea', 'https://www.ycombinator.com/companies/faire', 'https://www.ycombinator.com/companies/brex', 'https://www.ycombinator.com/companies/deel', 'https://www.ycombinator.com/companies/rippling', 'https://www.ycombinator.com/companies/reddit', 'https://www.ycombinator.com/companies/gusto', 'https://www.ycombinator.com/companies/flexport', 'https://www.ycombinator.com/companies/razorpay', 'https://www.ycombinator.com/companies/scale-ai', 'https://www.ycombinator.com/companies/benchling', 'https://www.ycombinator.com/companies/fivetran', 'https://www.ycombinator.com/companies/rappi', 'https://www.ycombinator.com/companies/checkr', 'https://www.ycombinator.com/companies/zapier', 'https://www.ycombinator.com/companies/meesho', 'https://www.ycombinator.com/companies/monzo-bank', 'https://www.ycombinator.com/companies/relativity-space', 'https://www.ycombinator.com/companies/webflow', 'https://www.ycombinator.com/companies/bird']\n>"
     },
     "execution_count": 35,
     "metadata": {},
     "output_type": "execute_result"
    }
   ],
   "source": [
    "catalog_item = parser.detect_catalog_item(page_source=crawler.page_source, website_url=url, extra_prompt=None)\n",
    "catalog_item"
   ],
   "metadata": {
    "collapsed": false,
    "ExecuteTime": {
     "end_time": "2024-03-29T15:24:19.681966Z",
     "start_time": "2024-03-29T15:24:12.551135Z"
    }
   },
   "id": "c7e88c3f7c70211b",
   "execution_count": 35
  },
  {
   "cell_type": "markdown",
   "source": [
    "You can highlight fields using selenium:"
   ],
   "metadata": {
    "collapsed": false
   }
  },
  {
   "cell_type": "code",
   "execution_count": 36,
   "outputs": [],
   "source": [
    "if catalog_item is not None:\n",
    "    crawler.highlight_by_xpath(catalog_item.card_xpath, '#8981D7', 5)\n",
    "    crawler.highlight_by_xpath(catalog_item.url_xpath, '#5499D1', 3)"
   ],
   "metadata": {
    "collapsed": false,
    "ExecuteTime": {
     "end_time": "2024-03-29T15:24:32.508861Z",
     "start_time": "2024-03-29T15:24:31.002509Z"
    }
   }
  },
  {
   "cell_type": "markdown",
   "source": [
    "### Step 3.4. Detect data fields in a catalog item\n",
    "\n",
    "We define two types of data fields in a HTML page.\n",
    "\n",
    "First type is static field that do not contain a field name. It can be both a single value or an array. Example: product name or price.\n",
    "\n",
    "Second type is dynamic fields where there are both field names and values mentioned. Usually these fields look like tables:\n",
    "param1: value1\n",
    "param2: value2\n",
    "etc."
   ],
   "metadata": {
    "collapsed": false
   }
  },
  {
   "cell_type": "code",
   "execution_count": 37,
   "outputs": [],
   "source": [
    "# Aux method to print detected fields\n",
    "def _print_fields(fields: WebpageFields):\n",
    "    print(f'Static fields ({len(fields.static_fields)}):')\n",
    "\n",
    "    data = [{'name': f.field_name, 'xpath': f.field_xpath, 'value': f.first_value} for f in fields.static_fields]\n",
    "    df = pd.DataFrame(data)\n",
    "    print(df.to_markdown(tablefmt='plain', index=True))\n",
    "\n",
    "    print()\n",
    "    print(f'Dynamic fields ({len(fields.dynamic_fields)}):')\n",
    "    if len(fields.dynamic_fields) == 0:\n",
    "        print('Not found')\n",
    "        return\n",
    "    index = len(fields.static_fields)\n",
    "    for field in fields.dynamic_fields:\n",
    "        print(f' {index}  Section {field.section_name}\\n'\n",
    "                   f'    Labels xpath: {field.name_xpath}\\n'\n",
    "                   f'    Values xpath: {field.value_xpath}\\n'\n",
    "                   f'    Value: {field.first_values}')\n",
    "        index += 1"
   ],
   "metadata": {
    "collapsed": false,
    "ExecuteTime": {
     "end_time": "2024-03-29T15:25:04.556453Z",
     "start_time": "2024-03-29T15:25:04.515320Z"
    }
   }
  },
  {
   "cell_type": "code",
   "outputs": [
    {
     "name": "stdout",
     "output_type": "stream",
     "text": [
      "Static fields (4):\n",
      "    name          xpath                                                                        value\n",
      " 0  Company Name  //span[contains(@class, '_coName_fj1ly_454')]                                Airbnb\n",
      " 1  Location      //span[contains(@class, '_coLocation_fj1ly_470')]                            San Francisco, CA, USA\n",
      " 2  Description   //span[contains(@class, '_coDescription_fj1ly_479')]                         Book accommodations around the world.\n",
      " 3  Tags          //a[contains(@class, '_tagLink_fj1ly_1026')]/span[contains(@class, 'pill')]  ['W09', 'Consumer', 'Travel, Leisure and Tourism']\n",
      "\n",
      "Dynamic fields (0):\n",
      "Not found\n"
     ]
    }
   ],
   "source": [
    "fields = parser.extract_fields(html_snippet=catalog_item.html_snippet)\n",
    "_print_fields(fields)"
   ],
   "metadata": {
    "collapsed": false,
    "ExecuteTime": {
     "end_time": "2024-03-29T15:25:21.144911Z",
     "start_time": "2024-03-29T15:25:11.534749Z"
    }
   },
   "id": "61b05e7bab0a9043",
   "execution_count": 38
  },
  {
   "cell_type": "markdown",
   "source": [
    "You can highlight detected fields:"
   ],
   "metadata": {
    "collapsed": false
   }
  },
  {
   "cell_type": "code",
   "outputs": [],
   "source": [
    "# Method to highlight fields\n",
    "def highlight_fields(fields: WebpageFields):\n",
    "    colors = ['#539878', '#5499D1', '#549B9A', '#5982A3', '#5A5499', '#68D5A2', '#75DDDC', '#8981D7', '#98D1FF',\n",
    "              '#98FFCF', '#9D5A5A', '#A05789', '#AAFFFE', '#C6C1FF', '#CD7CB3', '#D17A79', '#FAB4E4', '#FFB1B0']\n",
    "    for index, field in enumerate(fields.static_fields):\n",
    "        crawler.highlight_by_xpath(field.field_xpath, colors[index % len(colors)], border=4)\n",
    "    for index, field in enumerate(fields.dynamic_fields):\n",
    "        color = colors[index % len(colors)]\n",
    "        crawler.highlight_by_xpath(field.value_xpath, color, border=3)\n",
    "        crawler.highlight_by_xpath(field.name_xpath, color, border=3)"
   ],
   "metadata": {
    "collapsed": false,
    "ExecuteTime": {
     "end_time": "2024-03-29T15:25:45.951398Z",
     "start_time": "2024-03-29T15:25:45.914643Z"
    }
   },
   "id": "78308dd8b41d151a",
   "execution_count": 40
  },
  {
   "cell_type": "code",
   "execution_count": 41,
   "outputs": [],
   "source": [
    "highlight_fields(fields)"
   ],
   "metadata": {
    "collapsed": false,
    "ExecuteTime": {
     "end_time": "2024-03-29T15:25:58.638118Z",
     "start_time": "2024-03-29T15:25:54.778176Z"
    }
   }
  },
  {
   "cell_type": "markdown",
   "source": [
    "### Step 3.4 Scrape data\n",
    "\n",
    "We are almost there!"
   ],
   "metadata": {
    "collapsed": false
   }
  },
  {
   "cell_type": "markdown",
   "source": [
    "First of all, let's set some limits for simplicity:"
   ],
   "metadata": {
    "collapsed": false
   }
  },
  {
   "cell_type": "code",
   "execution_count": 43,
   "outputs": [],
   "source": [
    "max_pages = 5  # How many catalog pages we should iterate over\n",
    "max_rows = 200  # How many rows to scrape before stop"
   ],
   "metadata": {
    "collapsed": false,
    "ExecuteTime": {
     "end_time": "2024-03-29T15:27:19.365405Z",
     "start_time": "2024-03-29T15:27:19.315905Z"
    }
   }
  },
  {
   "cell_type": "markdown",
   "source": [
    "Now we need to pass a scraping reciept from previous steps to our crawler and ask it to iterate over catalog cards.\n",
    "It will handle pagination and data-extracting automatically."
   ],
   "metadata": {
    "collapsed": false
   }
  },
  {
   "cell_type": "code",
   "execution_count": 46,
   "outputs": [
    {
     "name": "stderr",
     "output_type": "stream",
     "text": [
      " 30%|███       | 60/200 [00:00<00:00, 935.51it/s]\n"
     ]
    }
   ],
   "source": [
    "rows = []\n",
    "data_iterator = crawler.iter_data_from_catalog_pages(\n",
    "    start_url=url,\n",
    "    pagination=pagination,\n",
    "    catalog_item_xpath=catalog_item.card_xpath,\n",
    "    fields=fields,\n",
    "    max_pages=max_pages,\n",
    "    max_rows=max_rows\n",
    ")\n",
    "with tqdm(total=max_rows) as pbar:\n",
    "    for data_list in data_iterator:\n",
    "        rows += data_list\n",
    "        pbar.update(len(data_list))"
   ],
   "metadata": {
    "collapsed": false,
    "ExecuteTime": {
     "end_time": "2024-03-29T15:27:42.001921Z",
     "start_time": "2024-03-29T15:27:41.902288Z"
    }
   }
  },
  {
   "cell_type": "markdown",
   "source": [
    "#### Congratulations! We got the final data!"
   ],
   "metadata": {
    "collapsed": false
   }
  },
  {
   "cell_type": "code",
   "execution_count": 47,
   "outputs": [
    {
     "data": {
      "text/plain": "[{'Company Name': 'Airbnb',\n  'Location': 'San Francisco, CA, USA',\n  'Description': 'Book accommodations around the world.',\n  'Tags': ['W09', 'Consumer', 'Travel, Leisure and Tourism']},\n {'Company Name': 'Instacart',\n  'Location': 'San Francisco, CA, USA',\n  'Description': 'Marketplace for grocery delivery and pickup',\n  'Tags': ['S12', 'Consumer', 'Food and Beverage']},\n {'Company Name': 'DoorDash',\n  'Location': 'San Francisco, CA, USA',\n  'Description': 'Restaurant delivery.',\n  'Tags': ['S13', 'Consumer', 'Food and Beverage']},\n {'Company Name': 'Coinbase',\n  'Location': 'San Francisco, CA, USA',\n  'Description': 'Buy, sell, and manage cryptocurrencies.',\n  'Tags': ['S12', 'Fintech', 'Banking and Exchange']},\n {'Company Name': 'Dropbox',\n  'Location': 'San Francisco, CA, USA',\n  'Description': 'Backup and share files in the cloud.',\n  'Tags': ['S07', 'B2B', 'Productivity']},\n {'Company Name': 'GitLab',\n  'Location': 'San Francisco, CA, USA',\n  'Description': 'A complete DevOps platform delivered as a single application.',\n  'Tags': ['W15', 'B2B', 'Engineering, Product and Design']},\n {'Company Name': 'Ginkgo Bioworks',\n  'Location': 'Boston, MA, USA',\n  'Description': 'Our mission is to make biology easier to engineer.',\n  'Tags': ['S14', 'Healthcare', 'Industrial Bio']},\n {'Company Name': 'PagerDuty',\n  'Location': 'San Francisco, CA, USA',\n  'Description': 'Real-time visibility into critical apps and services all in one place.',\n  'Tags': ['S10', 'B2B', 'Engineering, Product and Design']},\n {'Company Name': 'Amplitude',\n  'Location': 'San Francisco, CA, USA',\n  'Description': 'Digital Analytics Platform',\n  'Tags': ['W12', 'B2B', 'Analytics']},\n {'Company Name': 'Matterport',\n  'Location': 'Sunnyvale, CA, USA',\n  'Description': 'Turn physical objects and environments into 3D models in seconds.',\n  'Tags': ['W12', 'Consumer', 'Virtual and Augmented Reality']},\n {'Company Name': 'Weave',\n  'Location': 'Lehi, UT, USA',\n  'Description': 'Customer communication and payments platform.',\n  'Tags': ['W14', 'B2B', 'Office Management']},\n {'Company Name': 'Notable Labs',\n  'Location': 'Foster City, CA, USA',\n  'Description': 'Personalized drug discovery for blood cancer.',\n  'Tags': ['W15', 'Healthcare', 'Diagnostics']},\n {'Company Name': 'Presto',\n  'Location': 'San Carlos, CA, USA',\n  'Description': 'Digital meets physical for big chain restaurants',\n  'Tags': ['S10', 'B2B', 'Retail']},\n {'Company Name': 'Rigetti Computing',\n  'Location': 'Berkeley, CA, USA',\n  'Description': 'Quantum coherent supercomputing.',\n  'Tags': ['S14', 'Industrials', 'Manufacturing and Robotics']},\n {'Company Name': 'Pardes Biosciences',\n  'Location': 'San Francisco, CA, USA',\n  'Description': 'We break viruses',\n  'Tags': ['S20', 'Healthcare', 'Drug Discovery and Delivery']},\n {'Company Name': 'Embark Trucks',\n  'Location': 'San Francisco, CA, USA',\n  'Description': 'Self-driving semi trucks.',\n  'Tags': ['W16', 'Industrials', 'Automotive']},\n {'Company Name': 'Momentus',\n  'Location': 'Santa Clara, CA, USA',\n  'Description': 'The space infrastructure services company',\n  'Tags': ['S18', 'Industrials', 'Aviation and Space']},\n {'Company Name': 'Lucira Health',\n  'Location': 'Emeryville, CA, USA',\n  'Description': 'Next generation infectious disease test kits',\n  'Tags': ['W15', 'Healthcare', 'Diagnostics']},\n {'Company Name': 'Stripe',\n  'Location': 'San Francisco, CA, USA',\n  'Description': 'Economic infrastructure for the internet.',\n  'Tags': ['S09', 'Fintech']},\n {'Company Name': 'Cruise',\n  'Location': 'San Francisco, CA, USA',\n  'Description': 'Self-driving cars.',\n  'Tags': ['W14', 'Industrials', 'Automotive']},\n {'Company Name': 'OpenSea',\n  'Location': 'New York, NY, USA',\n  'Description': 'OpenSea is the world’s leading peer-to-peer marketplace for NFTs',\n  'Tags': ['W18', 'Consumer', 'Content']},\n {'Company Name': 'Faire',\n  'Location': 'San Francisco, CA, USA',\n  'Description': 'The global online platform empowering independent retail.',\n  'Tags': ['W17', 'B2B', 'Retail']},\n {'Company Name': 'Brex',\n  'Location': 'San Francisco, CA, USA',\n  'Description': 'Business accounts, corporate cards, and spend management software.',\n  'Tags': ['W17', 'Fintech', 'Banking and Exchange']},\n {'Company Name': 'Deel',\n  'Location': 'San Francisco, CA, USA',\n  'Description': 'The all-in-one HR platform for global teams.',\n  'Tags': ['W19', 'B2B', 'Finance and Accounting']},\n {'Company Name': 'Rippling',\n  'Location': 'San Francisco, CA, USA',\n  'Description': 'One place to run all your HR, IT, and Finance. Globally.',\n  'Tags': ['W17', 'B2B', 'Human Resources']},\n {'Company Name': 'Reddit',\n  'Location': 'San Francisco, CA, USA',\n  'Description': 'The frontpage of the internet.',\n  'Tags': ['S05', 'Consumer', 'Content']},\n {'Company Name': 'Gusto',\n  'Location': 'San Francisco, CA, USA',\n  'Description': 'Provides growing businesses with everything to take care of their team',\n  'Tags': ['W12', 'B2B', 'Human Resources']},\n {'Company Name': 'Flexport',\n  'Location': 'San Francisco, CA, USA',\n  'Description': 'Platform for global logistics.',\n  'Tags': ['W14', 'B2B', 'Supply Chain and Logistics']},\n {'Company Name': 'Razorpay',\n  'Location': 'Bengaluru, KA, India',\n  'Description': \"India's only full-stack financial solutions company for businesses.\",\n  'Tags': ['W15', 'Fintech', 'Payments']},\n {'Company Name': 'Scale AI',\n  'Location': 'San Francisco, CA, USA',\n  'Description': 'Data-centric infrastructure to accelerate the development of AI',\n  'Tags': ['S16', 'B2B', 'Engineering, Product and Design']},\n {'Company Name': 'Benchling',\n  'Location': 'San Francisco, CA, USA',\n  'Description': 'Unlocking the power of biotech with modern software for modern science',\n  'Tags': ['S12', 'B2B']},\n {'Company Name': 'Fivetran',\n  'Location': 'Oakland, CA, USA',\n  'Description': 'The leader in automated data movement',\n  'Tags': ['W13', 'B2B', 'Infrastructure']},\n {'Company Name': 'Rappi',\n  'Location': 'Bogotá, Bogota, Colombia',\n  'Description': 'On-demand delivery and financial services for Latin America.',\n  'Tags': ['W16', 'Consumer', 'Food and Beverage']},\n {'Company Name': 'Checkr',\n  'Location': 'San Francisco, CA, USA',\n  'Description': 'People infrastructure for the future of work',\n  'Tags': ['S14', 'B2B', 'Human Resources']},\n {'Company Name': 'Zapier',\n  'Location': 'Mountain View, CA, USA',\n  'Description': 'The easiest way to automate your work.',\n  'Tags': ['S12', 'B2B', 'Productivity']},\n {'Company Name': 'Meesho',\n  'Location': 'Bengaluru, KA, India',\n  'Description': 'Democratizing internet commerce for everyone in India',\n  'Tags': ['S16', 'B2B', 'Retail']},\n {'Company Name': 'Monzo Bank',\n  'Location': 'London, England, United Kingdom',\n  'Description': 'A bank as smart as your phone.',\n  'Tags': ['Fintech', 'Consumer Finance']},\n {'Company Name': 'Relativity Space',\n  'Location': 'Los Angeles, CA, USA',\n  'Description': 'Building humanity’s multiplanetary future.',\n  'Tags': ['W16', 'Industrials', 'Aviation and Space']},\n {'Company Name': 'Webflow',\n  'Location': 'San Francisco, CA, USA',\n  'Description': 'Professional website design and publishing platform.',\n  'Tags': ['S13', 'B2B', 'Marketing']},\n {'Company Name': 'Bird',\n  'Location': 'Amsterdam, NH, Netherlands',\n  'Description': 'The world’s largest omnichannel communications platform',\n  'Tags': ['S16', 'B2B', 'Engineering, Product and Design']},\n {'Company Name': 'Whatnot',\n  'Location': 'Los Angeles, CA, USA',\n  'Description': 'Whatnot is the largest livestream shopping platform in the U.S.',\n  'Tags': ['W20', 'Consumer']},\n {'Company Name': 'Flock Safety',\n  'Location': 'Atlanta, GA, USA',\n  'Description': 'The first public safety operating system that eliminates crime.',\n  'Tags': ['S17', 'B2B', 'Engineering, Product and Design']},\n {'Company Name': 'Convoy',\n  'Location': 'Seattle, WA, USA',\n  'Description': \"The world's most efficient digital freight network.\",\n  'Tags': ['B2B', 'Supply Chain and Logistics']},\n {'Company Name': 'EquipmentShare',\n  'Location': 'Columbia, MO, USA',\n  'Description': 'Cloud solutions for the construction industry.',\n  'Tags': ['W15', 'Real Estate and Construction', 'Construction']},\n {'Company Name': 'GOAT Group',\n  'Location': 'Los Angeles, CA, USA',\n  'Description': 'Platform for the greatest products from the past, present and future.',\n  'Tags': ['W11', 'Consumer', 'Apparel and Cosmetics']},\n {'Company Name': 'Retool',\n  'Location': 'San Francisco, CA, USA',\n  'Description': 'Build internal tools fast.',\n  'Tags': ['W17', 'B2B', 'Productivity']},\n {'Company Name': 'GrubMarket',\n  'Location': 'San Francisco, CA, USA',\n  'Description': 'AI-powered technology enabler and digital transformer of American…',\n  'Tags': ['W15', 'B2B', 'Supply Chain and Logistics']},\n {'Company Name': 'Segment',\n  'Location': 'San Francisco, CA, USA',\n  'Description': 'Software and APIs to collect, clean, and control customer data.',\n  'Tags': ['S11', 'B2B', 'Analytics']},\n {'Company Name': 'Ironclad',\n  'Location': 'San Francisco, CA, USA',\n  'Description': 'Digital contracting platform for legal teams.',\n  'Tags': ['S15', 'B2B', 'Legal']},\n {'Company Name': 'Flutterwave',\n  'Location': 'Lagos, LA, Nigeria',\n  'Description': 'Helping businesses make and accept payments from anywhere in Africa.',\n  'Tags': ['S16', 'Fintech', 'Payments']},\n {'Company Name': 'Podium',\n  'Location': 'Lehi, UT, USA',\n  'Description': 'Get more leads. Make more money.',\n  'Tags': ['W16', 'B2B', 'Retail']},\n {'Company Name': 'Xendit',\n  'Location': 'Jakarta, Jakarta, Indonesia',\n  'Description': 'Provides payment infrastructure for Southeast Asia',\n  'Tags': ['S15', 'Fintech', 'Payments']},\n {'Company Name': 'Groww',\n  'Location': 'Bengaluru, KA, India',\n  'Description': 'Making financial services simple, transparent and delightful.',\n  'Tags': ['W18', 'Fintech']},\n {'Company Name': 'Outschool',\n  'Location': 'San Francisco, CA, USA',\n  'Description': 'A live online learning platform that empowers kids ages 3–18.',\n  'Tags': ['W16', 'Education']},\n {'Company Name': 'Lattice',\n  'Location': 'San Francisco, CA, USA',\n  'Description': 'Modern people management platform.',\n  'Tags': ['W16', 'B2B', 'Human Resources']},\n {'Company Name': 'Helion Energy',\n  'Location': 'Everett, WA, USA',\n  'Description': \"Building the world's first fusion power plant\",\n  'Tags': ['S14', 'Industrials', 'Energy']},\n {'Company Name': 'GoCardless',\n  'Location': 'London, England, United Kingdom',\n  'Description': 'We’re building the world’s bank payment network.',\n  'Tags': ['S11', 'Fintech', 'Consumer Finance']},\n {'Company Name': 'Algolia',\n  'Location': 'San Francisco, CA, USA',\n  'Description': 'A developer-friendly and enterprise-grade search API.',\n  'Tags': ['W14', 'B2B', 'Engineering, Product and Design']},\n {'Company Name': 'Docker',\n  'Location': 'San Francisco, CA, USA',\n  'Description': 'Software development platform.',\n  'Tags': ['S10', 'B2B', 'Infrastructure']},\n {'Company Name': 'Newfront',\n  'Location': 'San Francisco, CA, USA',\n  'Description': 'Modern insurance brokerage.',\n  'Tags': ['W18', 'Fintech', 'Insurance']}]"
     },
     "execution_count": 47,
     "metadata": {},
     "output_type": "execute_result"
    }
   ],
   "source": [
    "rows"
   ],
   "metadata": {
    "collapsed": false,
    "ExecuteTime": {
     "end_time": "2024-03-29T15:27:48.071928Z",
     "start_time": "2024-03-29T15:27:48.021324Z"
    }
   }
  },
  {
   "cell_type": "markdown",
   "source": [
    "You can export data in any format:"
   ],
   "metadata": {
    "collapsed": false
   }
  },
  {
   "cell_type": "code",
   "execution_count": null,
   "outputs": [],
   "source": [
    "# Export as json\n",
    "with open('yc.json', 'w+') as f:\n",
    "    json.dump(rows, f, indent=4)\n",
    "\n",
    "# Export to Pandas DataFrame\n",
    "df = pd.DataFrame(rows)\n",
    "df.to_csv('yc.csv')"
   ],
   "metadata": {
    "collapsed": false
   }
  },
  {
   "cell_type": "markdown",
   "source": [
    "### Step 4. Parse nested detail page\n",
    "\n",
    "You can extract data from nested pages using ScraperAI"
   ],
   "metadata": {
    "collapsed": false
   }
  },
  {
   "cell_type": "code",
   "execution_count": 48,
   "outputs": [],
   "source": [
    "# Open first nested page\n",
    "crawler.get(catalog_item.urls_on_page[0])"
   ],
   "metadata": {
    "collapsed": false,
    "ExecuteTime": {
     "end_time": "2024-03-29T15:29:14.174194Z",
     "start_time": "2024-03-29T15:29:08.921185Z"
    }
   }
  },
  {
   "cell_type": "markdown",
   "source": [
    "### Step 4.1. Extract fields\n",
    "\n",
    "First, we use `summarize_details_page_as_valid_html` method to find relevant parts on the initial webpage.\n",
    "For example, a list of similar products is not a relevant part of a details page.\n",
    "\n",
    "Then we use `parser.extract_fields` as before to get the fields from html snippet."
   ],
   "metadata": {
    "collapsed": false
   }
  },
  {
   "cell_type": "code",
   "execution_count": 49,
   "outputs": [
    {
     "name": "stdout",
     "output_type": "stream",
     "text": [
      "Static fields (14):\n",
      "    name                xpath                                                                  value\n",
      " 0  Company Name        //h1[contains(@class,'font-extralight')]                               Airbnb\n",
      " 1  Tagline             //div[contains(@class,'text-xl')]                                      Book accommodations around the world.\n",
      " 2  Batch               //a[contains(@href,'/companies?batch=W09')]/div/span\n",
      " 3  Status              //div[contains(text(),'Public')]                                       Public\n",
      " 4  Industries          //a[contains(@href,'/companies/industry')]/div                         ['marketplace', 'travel']\n",
      " 5  Location            //a[contains(@href,'/companies/location/san-francisco-bay-area')]/div  San Francisco\n",
      " 6  Website             //a[contains(@href,'http://airbnb.com')]                               http://airbnb.com\n",
      " 7  Description         //section//p[contains(@class,'whitespace-pre-line')]                   ['Founded in August of 2008 and based in San Francisco, California, Airbnb is a trusted community marketplace for people to list, discover, and book unique accommodations around the world — online or from a mobile phone. Whether an apartment for a night, a castle for a week, or a villa for a month, Airbnb connects people to unique travel experiences, at any price point, in more than 33,000 cities and 192 countries. And with world-class customer service and a growing community of users, Airbnb is the easiest way for people to monetize their extra space and showcase it to an audience of millions. No global movement springs from individuals. It takes an entire team united behind something big. Together, we work hard, we laugh a lot, we brainstorm nonstop, we use hundreds of Post-Its a week, and we give the best high-fives in town. Headquartered in San Francisco, we have satellite offices in Dublin, London, Barcelona, Paris, Milan, Copenhagen, Berlin, Moscow, São Paolo, Sydney, and Singapore.', 'Brian Chesky is the co-founder, Head of Community, and CEO of Airbnb, which he started with Joe Gebbia and Nathan Blecharczyk in 2008. Brian sets the company’s strategy to connect people to unique travel experiences, and drives Airbnb’s mission to create a world where anyone can belong anywhere. Originally from New York, Brian graduated from the Rhode Island School of Design where he received a Bachelor of Fine Arts in Industrial Design.', 'Nathan Blecharczyk is the co-founder, Chief Strategy Officer, and Chairman of Airbnb China. Nathan plays a leading role in driving key strategic initiatives across the global business. Previously he oversaw the creation of Airbnb’s engineering, data science, and performance marketing teams. Nathan became an entrepreneur in his youth, running a business while he was in high school that sold to clients in more than 20 countries. He earned a degree in Computer Science from Harvard University.', 'Joe Gebbia is the co-founder of Airbnb which began in his San Francisco living room and spread to nearly 7M listings in 191+ countries, changing how people trust each other. Joe now holds a strategic advisory position and serves on the Board of Directors at Airbnb. His latest venture, Samara, also cemented in economic empowerment, housing resources, and design, produces fully customized, factory-made homes designed to create rental income, house family, and form new types of housing communities.']\n",
      " 8  Founded Year        //span[contains(text(),'Founded:')]/following-sibling::span            2008\n",
      " 9  Team Size           //span[contains(text(),'Team Size:')]/following-sibling::span          6132\n",
      "10  Company Location    //span[contains(text(),'Location:')]/following-sibling::span           San Francisco\n",
      "11  Social Media Links  //div[contains(@class,'ycdc-card')]//a[contains(@class,'bg-contain')]  ['', '', '', '']\n",
      "12  Active Founders     //div[contains(@class,'space-y-5')]//h3[contains(@class,'text-lg')]    ['Brian Chesky, CEO', 'Nathan Blecharczyk, CTO', 'Joe Gebbia, CPO']\n",
      "13  YC Sign Photo       //h4[contains(text(),'YC Sign Photo')]/following-sibling::img\n",
      "\n",
      "Dynamic fields (0):\n",
      "Not found\n"
     ]
    }
   ],
   "source": [
    "html_snippet = parser.summarize_details_page_as_valid_html(\n",
    "    page_source=crawler.page_source,\n",
    "    screenshot=crawler.get_screenshot_as_base64()\n",
    ")\n",
    "fields = parser.extract_fields(html_snippet)\n",
    "_print_fields(fields)"
   ],
   "metadata": {
    "collapsed": false,
    "ExecuteTime": {
     "end_time": "2024-03-29T15:30:51.915727Z",
     "start_time": "2024-03-29T15:30:07.723820Z"
    }
   }
  },
  {
   "cell_type": "code",
   "execution_count": 50,
   "outputs": [],
   "source": [
    "# Let's highlight the fields\n",
    "highlight_fields(fields)"
   ],
   "metadata": {
    "collapsed": false,
    "ExecuteTime": {
     "end_time": "2024-03-29T15:31:18.693995Z",
     "start_time": "2024-03-29T15:31:18.043246Z"
    }
   }
  },
  {
   "cell_type": "markdown",
   "source": [
    "### Step 4.2. Scrape data\n",
    "\n",
    "First, let's set some limits for simplicity:"
   ],
   "metadata": {
    "collapsed": false
   }
  },
  {
   "cell_type": "code",
   "execution_count": 63,
   "outputs": [],
   "source": [
    "max_pages = 5  # How many catalog pages we should iterate over\n",
    "max_rows = 20  # How many rows to scrape before stop"
   ],
   "metadata": {
    "collapsed": false,
    "ExecuteTime": {
     "end_time": "2024-03-29T16:00:04.186600Z",
     "start_time": "2024-03-29T16:00:04.147125Z"
    }
   }
  },
  {
   "cell_type": "markdown",
   "source": [
    "Now, let's collect urls to the nested pages:"
   ],
   "metadata": {
    "collapsed": false
   }
  },
  {
   "cell_type": "code",
   "execution_count": 60,
   "outputs": [
    {
     "name": "stderr",
     "output_type": "stream",
     "text": [
      " 40%|████      | 2/5 [00:22<00:33, 11.17s/it]"
     ]
    },
    {
     "name": "stdout",
     "output_type": "stream",
     "text": [
      "Collected 200 urls to nested pages\n"
     ]
    },
    {
     "name": "stderr",
     "output_type": "stream",
     "text": [
      "\n"
     ]
    }
   ],
   "source": [
    "urls: set[str] = set()\n",
    "\n",
    "urls_iterator = crawler.iter_urls_to_nested_pages(\n",
    "    start_url=url,\n",
    "    pagination=pagination,\n",
    "    url_xpath=catalog_item.url_xpath,\n",
    "    max_pages=max_pages\n",
    ")\n",
    "with tqdm(total=max_pages) as pbar:\n",
    "    for url_list in urls_iterator:\n",
    "        urls.update(url_list)\n",
    "        pbar.update(1)\n",
    "print(f'Collected {len(urls)} urls to nested pages')"
   ],
   "metadata": {
    "collapsed": false,
    "ExecuteTime": {
     "end_time": "2024-03-29T15:57:23.898819Z",
     "start_time": "2024-03-29T15:57:01.293031Z"
    }
   }
  },
  {
   "cell_type": "markdown",
   "source": [
    "Now, let's collect data from nested pages:"
   ],
   "metadata": {
    "collapsed": false
   }
  },
  {
   "cell_type": "code",
   "execution_count": 66,
   "outputs": [
    {
     "name": "stderr",
     "output_type": "stream",
     "text": [
      "100%|██████████| 20/20 [01:02<00:00,  3.14s/it]\n"
     ]
    },
    {
     "data": {
      "text/plain": "[{'Company Name': 'Athelas',\n  'Tagline': 'Digital tools for healthcare providers',\n  'Batch': None,\n  'Status': None,\n  'Industries': ['health-tech', 'medical-devices', 'biotech', 'healthcare'],\n  'Location': 'Mountain View',\n  'Website': None,\n  'Description': \"At Athelas, we're bringing simple, life-changing health care products to people around the globe.\\r\\n\\r\\nThe future of healthcare is at the home - we are a team of technologists building the next generation of medical products at the intersection of hardware and software. We won’t stop until we’ve brought the world class tools of a hospital to your home. \\r\\n\\r\\nAthelas Remote Patient Monitoring (RPM) allows healthcare providers to monitor patient vitals like blood pressure, weight, and blood glucose without the patient ever having to enter a clinic, improving patient health and engagement, and reducing hospitalizations. We do this all through a beautifully integrated suite of devices and software tools that provides access to state-of-the-art technologies and groundbreaking AI powered analysis.\",\n  'Founded Year': '2016',\n  'Team Size': '160',\n  'Company Location': 'Mountain View',\n  'Social Media Links': ['', '', ''],\n  'Active Founders': None,\n  'YC Sign Photo': None},\n {'Company Name': 'Standard AI',\n  'Tagline': 'AI-powered checkout for retail.',\n  'Batch': None,\n  'Status': None,\n  'Industries': ['retail-tech', 'retail', 'ai'],\n  'Location': 'San Francisco',\n  'Website': None,\n  'Description': 'Standard Cognition is an artificial intelligence platform that allows buyers to grab what they want without having to go to a cashier.',\n  'Founded Year': '2017',\n  'Team Size': '150',\n  'Company Location': 'San Francisco',\n  'Social Media Links': ['', '', ''],\n  'Active Founders': None,\n  'YC Sign Photo': None},\n {'Company Name': 'Matterport',\n  'Tagline': 'Turn physical objects and environments into 3D models in seconds.',\n  'Batch': None,\n  'Status': 'Public',\n  'Industries': 'computer-vision',\n  'Location': 'Sunnyvale',\n  'Website': None,\n  'Description': \"Matterport is an immersive media technology company that is shaking up the 3D / VR world.  Our team has built the first end-to-end system for creating, modifying, distributing, and navigating immersive 3D and virtual reality (VR) versions of real-world spaces on web and mobile devices. Matterport offers the world's most inexpensive and simplest way to capture 3D spaces. \\r\\n\\r\\nOur products include:\\r\\n- Matterport Pro Camera for capturing real spaces in 3D.  It collects accurate visual and spatial data to map entire areas in minutes and is all about automation and ease of use.\\r\\n- The Matterport Cloud for processing and hosting 3D models\\r\\n- Matterport Portal, our system for viewing, editing, and managing models; collaborating with colleagues; and sharing models with others\\r\\n- Matterport 3D Showcase, a browser-based 3D media player, which allows anyone to view 3D models in their browser with no additional software\\r\\n- Matterport Core VR: All Spaces can be converted to VR and experienced on Samsung Gear VR or Google Cardboard (in beta), with additional device support coming soon.\\r\\n\\r\\nMatterport 3D media solutions power industries from real estate (residential, multi-family and commercial) and travel and hospitality (hotels, vacation rentals, and venue booking), to business listings, architecture, engineering and construction, news and entertainment, and everything in between. \\r\\n\\r\\nWe’re growing fast. If you’re passionate about solving cutting-edge problems in computer vision and hardware design and creating order-of-magnitude improvements in the ability to easily create and share 3D models of real world spaces, we want to talk to you. See open positions at matterport.com/jobs.\\r\\n\\r\\nTry Matterport for yourself at matterport.com/try.\",\n  'Founded Year': '',\n  'Team Size': '201',\n  'Company Location': 'Sunnyvale, CA',\n  'Social Media Links': '',\n  'Active Founders': None,\n  'YC Sign Photo': None},\n {'Company Name': 'NimbleRx',\n  'Tagline': 'On-demand prescription delivery.',\n  'Batch': None,\n  'Status': None,\n  'Industries': None,\n  'Location': 'Redwood City',\n  'Website': None,\n  'Description': 'We enable people to live their best lives. As we succeed, there is more convenience, healthier communities and thriving businesses. We get medications to those who need them and improve information, access and management of their care and enable businesses to move online and gain access to consumers who need their services',\n  'Founded Year': '2015',\n  'Team Size': '85',\n  'Company Location': 'Redwood City, CA',\n  'Social Media Links': '',\n  'Active Founders': None,\n  'YC Sign Photo': None},\n {'Company Name': 'Groww',\n  'Tagline': 'Making financial services simple, transparent and delightful.',\n  'Batch': None,\n  'Status': None,\n  'Industries': ['india', 'investing'],\n  'Location': None,\n  'Website': None,\n  'Description': \"Groww aims to empower people in India by making financial services simple, transparent and delightful. By leveraging technology, we build reliable and accessible financial services. \\r\\n\\r\\nGroww is India's largest stock broker (in terms of active NSE clients) and the largest distributor of mutual fund SIPs.\",\n  'Founded Year': '2016',\n  'Team Size': '1050',\n  'Company Location': 'Bengaluru, India',\n  'Social Media Links': ['', '', '', '', ''],\n  'Active Founders': None,\n  'YC Sign Photo': ''},\n {'Company Name': 'Gecko Robotics',\n  'Tagline': \"Protecting Today's Critical Infrastructure. Informing Tomorrow's.\",\n  'Batch': None,\n  'Status': None,\n  'Industries': ['robotics', 'energy', 'big-data', 'data-engineering', 'ai'],\n  'Location': None,\n  'Website': None,\n  'Description': \"The mission of Gecko Robotics is to improve the state of the world by helping the most important institutions ensure the availability, reliability and sustainability of critical infrastructure. Gecko's combination of wall-climbing robots, industry-leading sensors, and an AI-powered data platform give customers a unique window into the health of their physical assets allowing real-time decisions that prevent power outages, ensure military missions succeed, and help reduce energy costs.\",\n  'Founded Year': '2016',\n  'Team Size': '230',\n  'Company Location': 'Austin, TX',\n  'Social Media Links': ['', '', '', '', ''],\n  'Active Founders': None,\n  'YC Sign Photo': None},\n {'Company Name': 'Instacart',\n  'Tagline': 'Marketplace for grocery delivery and pickup',\n  'Batch': None,\n  'Status': 'Public',\n  'Industries': ['grocery', 'delivery', 'e-commerce'],\n  'Location': 'San Francisco',\n  'Website': None,\n  'Description': ['Instacart is the North American leader in online grocery and one of the fastest-growing companies in e-commerce. Instacart’s same-day delivery and pickup services bring fresh groceries and everyday essentials to busy people and families across the U.S. and Canada in as fast as an hour. Since its founding in 2012, Instacart has become an essential service for millions of families, while also serving as an immediate, flexible earnings opportunity for hundreds of thousands of shoppers across North America.  The company partners with more than 350 retailers and delivers from more than 25,000 stores across more than 5,500 cities in North America. Today, Instacart is accessible to more than 85% of households in the U.S. and more than 70% of households in Canada.',\n   \"Apoorva Mehta is an Indian-born American entrepreneur. He is the Founder and Chairman of the San Francisco-based on-demand online grocery shop 'Instacart.' Apoorva co-founded this venture along with Max Mullen and Brandon Leonardo in 2012.  An engineering graduate from the 'University of Waterloo,' Apoorva worked for companies such as 'Blackberry,' ‘Qualcomm,’ and 'Amazon,' before he became an entrepreneur.\",\n   'Brandon is currently Grocery Hacker and a Co-Founder of Instacart, the same-day grocery delivery service. Brandon built the early versions of the Instacart app, and now leads the Engineering team that works on Growth. Prior to joining Instacart, Brandon held senior engineering roles at a number of other startups including AngelList, Webs and StartupBus. He holds a BS in Computer Science from SJSU and currently lives in Redwood City.',\n   \"Max is the Co-Founder of Instacart. He started the company with two co-founders in 2012. Previously, he's worked for several startups including Schematic, an award-winning interactive agency which was acquired by WPP. Max is originally from Los Angeles where he graduated from the University of Southern California, studying entrepreneurship and cinematic arts.\"],\n  'Founded Year': '2012',\n  'Team Size': '3000',\n  'Company Location': 'San Francisco',\n  'Social Media Links': ['', '', '', '', ''],\n  'Active Founders': ['Apoorva Mehta, Chairman & Founding CEO',\n   'Brandon Leonardo',\n   'Max Mullen'],\n  'YC Sign Photo': None},\n {'Company Name': 'Jeeves',\n  'Tagline': 'International banking infrastructure for global startups.',\n  'Batch': None,\n  'Status': None,\n  'Industries': ['fintech', 'payments'],\n  'Location': None,\n  'Website': None,\n  'Description': ['Jeeves is an all-in-one corporate spend and expense management platform for businesses in global markets including North America, Latin America, Europe, and the UK. Cash, corporate cards, and cross-border payments all run on the Jeeves proprietary infrastructure which allows companies to spin up their finance function within minutes. Jeeves can handle multiple currencies for payback. \\r\\n\\r\\nMore than 3,000 companies across the world trust Jeeves with their financial payments tack. Jeeves has raised $380 million from Andreessen Horowitz, CRV, GIC, Tencent, Silicon Valley Bank, Stanford University, and Y Combinator to fuel its international expansion. \\r\\n\\r\\nOur product platform covers the following:\\r\\n\\r\\n1. Jeeves Pay: Do you need to send capital calls between US & LATAM? Need cross-border payments that arrive as soon as the same day? Transfer money internationally to over 150 countries at competitive FX rates with Jeeves Pay. Payments arrive as quickly as the same day between North America, South America, and Europe. Credit line options available depending on region.\\r\\n\\r\\n2. Jeeves Cards: Equip your team with globally-accepted physical cards for in-person purchases. Ship cards overseas for free or create virtual cards in seconds for secure, online purchases. Prepaid & credit options available depending on region.\\r\\n\\r\\n3. Expense Management: Collect receipts through the mobile app, review expenses in real time, and streamline global reporting capabilities - all at no additional cost.\\r\\n\\r\\nBenefits of the Jeeves Payments and Spend Management global platform include:\\r\\n\\r\\n-- Free built-in expense management tools\\r\\n\\r\\n\\r\\n-- No personal guarantees or contracts\\r\\n\\r\\n\\r\\n-- Unlimited cards and users for free\\r\\n\\r\\n\\r\\n-- No monthly fees or software fees\\r\\n\\r\\n\\r\\n-- Competitive cross-border payment pricing\\r\\n\\r\\n\\r\\n-- Spend and pay in your preferred currencies\\r\\n\\r\\n\\r\\n-- Business accepted in Brazil, Canada, Colombia, Mexico, the EU, the UK, and the US.\\r\\n\\r\\nBuilt for global companies. Loved by finance teams, including a large YC contingent. \\r\\nJoin us today!',\n   'Prior to Jeeves, Dileep was the COO/Co-Founder at PowerInbox (www.powerinbox.com), an email ad server product used by 600+ brands including CNN, Disney etc. Dileep started and grew the company from 3 to 50+ employees, while maintaining a $35M+ARR and profitable business. PowerInbox  was recognized as #2 in Inc. Top 30 List, #3 Deloitte Fast50 List, #4 Crains Top50 List.\\n\\nHe previously worked in Venture Capital and graduated with honors from Stanford University Graduate School of Business.'],\n  'Founded Year': '2019',\n  'Team Size': '',\n  'Company Location': 'Miami, FL',\n  'Social Media Links': ['', ''],\n  'Active Founders': 'Dileep Thazhmon',\n  'YC Sign Photo': None},\n {'Company Name': 'Middesk',\n  'Tagline': 'We make it easier for B2B companies to transact with one another',\n  'Batch': None,\n  'Status': None,\n  'Industries': ['fintech', 'saas', 'b2b'],\n  'Location': 'San Francisco',\n  'Website': None,\n  'Description': \"Middesk's mission is to enable every business to access the products and services they need to grow and thrive. We believe that if we can make it easy for a business to access financial products, hire new employees, and transact with other businesses, that we increase the odds of success for that business to contribute to its community and the broader economy.\\r\\n\\r\\nOur Identity provides accurate, complete information that financial services companies need to make efficient onboarding decisions. Our Agent product makes it easy for employers to file with the state and federal agencies needed to establish their business across the country. Our customers include Affirm, Brex, Plaid, Mercury, Divvy, Rippling, Gusto, and others.\\r\\n\\r\\nBased in San Francisco, CA, Middesk is backed by Sequoia Capital, Accel Partners, and Y Combinator.\",\n  'Founded Year': '2019',\n  'Team Size': '85',\n  'Company Location': 'San Francisco',\n  'Social Media Links': ['', '', '', ''],\n  'Active Founders': None,\n  'YC Sign Photo': None},\n {'Company Name': 'Aspire',\n  'Tagline': 'All-in-one Finance OS for businesses',\n  'Batch': None,\n  'Status': None,\n  'Industries': ['fintech', 'saas', 'payments', 'b2b'],\n  'Location': None,\n  'Website': None,\n  'Description': ['Aspire is the all-in-one finance operating system for businesses.\\r\\n\\r\\nWe help companies pay, manage, and earn smarter - by doing more than a bank, bookkeeper, or rewards program could ever do alone.\\r\\n\\r\\nOur mission is to empower the next generation of entrepreneurs with the financial tools they need to realise their company’s full potential.\\r\\n\\r\\nWe believe that if we can empower business owners to be successful, they will go on to make a meaningful impact to the communities we are all part of.',\n   '',\n   'Co-founder & President @ Aspire, the all-in-one finance software for businesses.'],\n  'Founded Year': '2018',\n  'Team Size': '500',\n  'Company Location': 'Singapore, Singapore',\n  'Social Media Links': ['', ''],\n  'Active Founders': ['Andrea Baronchelli, CEO', 'Giovanni Casinelli'],\n  'YC Sign Photo': None},\n {'Company Name': 'CaptivateIQ',\n  'Tagline': 'Agile commission software to design, deploy & adapt commission plans.',\n  'Batch': None,\n  'Status': None,\n  'Industries': 'saas',\n  'Location': 'San Francisco',\n  'Website': None,\n  'Description': ['CaptivateIQ is on a journey to modernize the world of incentive compensation. Our hope is that people will feel more connected at work if there is greater transparency in how they are rewarded for their efforts.\\r\\n\\r\\nWe partner with amazing companies like Carta, Intercom, Gong, and Newfront Insurance to simplify their commissions. \\r\\n\\r\\nSince launching in 2017, we have raised $63M and are backed by leading investors including Sequoia Capital, Accel, S28 Capital, Amity Ventures, and Y Combinator.',\n   '',\n   'Builder',\n   ''],\n  'Founded Year': '2017',\n  'Team Size': '280',\n  'Company Location': 'San Francisco',\n  'Social Media Links': ['', '', '', '', ''],\n  'Active Founders': ['Mark Schopmeyer, CEO',\n   'Hubert Wong, CTO',\n   'Conway Teng'],\n  'YC Sign Photo': None},\n {'Company Name': 'Spenmo',\n  'Tagline': 'A spend management software that provides businesses visibility,…',\n  'Batch': None,\n  'Status': None,\n  'Industries': ['fintech', 'saas'],\n  'Location': None,\n  'Website': None,\n  'Description': ['Founded in June 2019 and based in Singapore, Spenmo is building the only software you need as a business to manage payables. From bill payment, corporate card, local and international transfer, to employee’s expense claim, Spenmo helps companies streamline their AP processes with our technology. \\r\\n\\r\\nBefore Spenmo, AP staff were drowned in manual work and struggled to reconcile all their spending on time. Not anymore. Thousands of businesses are now using Spenmo to payout their AP, track and categorize spend, and close their books on auto-pilot in 90% less time. On average, finance teams who use Spenmo save over 50 hours and $10,000 every month.',\n   'CEO & Founder\\nMohandass started his career as a management consultant with BCG. He then moved to Grab where he led regional strategy and launched multiple financial services products in SE Asia. Today, he heads Spenmo, a leading payment software in SE Asia.',\n   'CTO & Founder\\nBuilding software since 2003'],\n  'Founded Year': '2019',\n  'Team Size': '200',\n  'Company Location': 'Singapore, Singapore',\n  'Social Media Links': ['', '', ''],\n  'Active Founders': ['Mohandass Kalaichelvan', 'Isaq Ahmed Mukthar'],\n  'YC Sign Photo': None},\n {'Company Name': 'Lively, Inc.',\n  'Tagline': 'Modern employee benefits & health savings account (HSA) provider',\n  'Batch': None,\n  'Status': None,\n  'Industries': ['fintech', 'health-tech', 'hr-tech'],\n  'Location': 'San Francisco',\n  'Website': None,\n  'Description': 'Out-of-pocket healthcare costs are skyrocketing and every day, people all across America are forced to make difficult decisions about their health. \\r\\n\\r\\nLively is the benefits solutions provider that gets it right. We designed our solutions to take the guesswork out of managing benefits. And our innovative features are built to simplify benefits administration and evolve with your business. Managing wellness and wealth takes more than a series of transactions. By combining robust features with unparalleled service, we make benefits administration effortless, even when time and energy are limited. Experience benefits administration as it should be with Lively.\\r\\n\\r\\nGo to www.livelyme.com to learn about how HSAs other modern employee benefits can help you and your team.',\n  'Founded Year': '2016',\n  'Team Size': '195',\n  'Company Location': 'San Francisco',\n  'Social Media Links': ['', '', ''],\n  'Active Founders': None,\n  'YC Sign Photo': None},\n {'Company Name': 'Boom',\n  'Tagline': 'Economically and environmentally sustainable supersonic travel',\n  'Batch': None,\n  'Status': None,\n  'Industries': ['transportation', 'aerospace'],\n  'Location': None,\n  'Website': None,\n  'Description': 'Boom Supersonic is transforming air travel with Overture, the world’s fastest airliner, optimized for speed, safety, and sustainability. Serving both civil and government markets, Overture will fly at twice the speed of today’s airliners and is designed to run on 100% sustainable aviation fuel (SAF). Symphony™, a Boom-led collaboration with industry leaders, is the propulsion system that will power Overture. Overture’s order book, including purchases and options from American Airlines, United Airlines, and Japan Airlines stands at 130 aircraft. Boom is working with Northrop Grumman for government and defense applications of Overture. Suppliers and partners collaborating with Boom on the Overture program include Collins Aerospace, Eaton, Florida Turbine Technologies (FTT), a business unit of Kratos Defense & Security Solutions, Inc., GE Additive, Safran Landing Systems, StandardAero and the United States Air Force. For more information, visit https://boomsupersonic.com\\r\\n\\r\\nBoom’s world-class engineering team comes from places including SpaceX, Boeing, Gulfstream, Virgin Galactic, Scaled Composites, NASA, and Bombardier. \\r\\n\\r\\nWe have uniquely challenging and world-changing opportunities for the most talented aerospace engineers, designers, and business people.',\n  'Founded Year': '2014',\n  'Team Size': '227',\n  'Company Location': 'Centennial, CO',\n  'Social Media Links': ['', '', ''],\n  'Active Founders': None,\n  'YC Sign Photo': None},\n {'Company Name': 'Jasper.ai',\n  'Tagline': 'Jasper is a leader in creating content using Artificial Intelligence',\n  'Batch': None,\n  'Status': None,\n  'Industries': ['artificial-intelligence',\n   'generative-ai',\n   'ai',\n   'conversational-ai'],\n  'Location': None,\n  'Website': None,\n  'Description': ['Launched in February 2021, Jasper is an AI content platform that helps creators and companies of all types expand their creative potential. Over 105,000 active customers are using Jasper to break through writer’s block, repackage their content, create original art, and adjust writing for language and tone. The interest in AI continues to grow and we are at the forefront of teaching the world how to leverage artificial intelligence as a creative partner. We are building teams that will pioneer the content generations space even further.',\n   'Family man with an unhealthy obsession for the Air Raid offense 🏈',\n   '',\n   ''],\n  'Founded Year': '2021',\n  'Team Size': '195',\n  'Company Location': 'Austin, TX',\n  'Social Media Links': ['', '', '', ''],\n  'Active Founders': ['Chris Hull, Vice President of Customer Success',\n   'JP Morgan, CTO',\n   'Dave Rogenmoser'],\n  'YC Sign Photo': ''},\n {'Company Name': 'Atomwise',\n  'Tagline': 'Artificial intelligence for drug discovery.',\n  'Batch': None,\n  'Status': None,\n  'Industries': ['ai-powered-drug-discovery',\n   'deep-learning',\n   'biotech',\n   'drug-discovery',\n   'oncology'],\n  'Location': 'San Francisco',\n  'Website': None,\n  'Description': ['Atomwise is a preclinical tech-enabled biotech using machine learning for hit discovery, hit expansion, and lead optimization.  We were the first team to apply convolutional neural networks to drug discovery.  We focus on identifying and optimizing novel small molecule scaffolds and unlocking previously-undrugged protein targets.',\n   \"Abraham Heifets is cofounder and CEO of Atomwise. He was a Massey Fellow at the University of Toronto and the Ontario Brain Institute, where his doctoral work used machine learning to plan organic syntheses, a long-standing challenge in chemistry. Previously, Abraham researched compilers for high-performance data processing at IBM's T.J. Watson Research Center and helped build the AI system of the world-champion robotic soccer team at Cornell University. He was Time's Person of the Year in 2006.\",\n   ''],\n  'Founded Year': '',\n  'Team Size': '67',\n  'Company Location': 'San Francisco',\n  'Social Media Links': ['', '', ''],\n  'Active Founders': ['Abraham Heifets, CEO', 'Izhar Wallach, CTO'],\n  'YC Sign Photo': None},\n {'Company Name': 'Mutiny',\n  'Tagline': 'Uses AI and data to convert website visitors into customers',\n  'Batch': None,\n  'Status': None,\n  'Industries': ['saas', 'b2b'],\n  'Location': 'San Francisco',\n  'Website': None,\n  'Description': 'Today companies spend over $1T to bring customers to the door, but $19 of every $20 they spend does not convert to revenue. Companies have no choice other than to dedicate large engineering and data science teams to manually build more relevant, higher converting experiences for different customer segments.\\r\\n\\r\\nMutiny is a no-code AI platform that helps marketers convert their top of funnel demand into revenue, without engineers. Mutiny gives marketers everything they need to drive revenue and prove it — from data and analytics to AI-powered recommendations and content writing. We are backed by Sequoia Capital, Tiger Global, Insight Partners, Y Combinator and CMOs from some of today’s fastest-growing tech companies including AngelList, Carta, Gong, Salesforce and Snowflake.',\n  'Founded Year': '',\n  'Team Size': '81',\n  'Company Location': 'San Francisco',\n  'Social Media Links': ['', '', ''],\n  'Active Founders': None,\n  'YC Sign Photo': None},\n {'Company Name': 'Moxion Power Co.',\n  'Tagline': 'Mobile Energy Storage Technology',\n  'Batch': None,\n  'Status': None,\n  'Industries': ['energy-storage',\n   'climate',\n   'energy',\n   'renewable-energy',\n   'electric-vehicles'],\n  'Location': None,\n  'Website': None,\n  'Description': ['Moxion Power manufactures mobile energy storage products and technologies, which enable last-mile electrification in industries such as construction, transportation, events and entertainment, film production and telecommunications.',\n   '',\n   'Experienced operator and successful entrepreneur with a background in founding, advising, and building companies involved in a variety of industries, including FinTech, Consumer Goods, Media, and Finance.  Prior to co-founding Moxion Power, he spent 4 years building an impact investing asset management company called Newday Impact, which he co-founded in 2015. Alex has an MBA with a concentration in entrepreneurship from Babson College, and a BA from St. Lawrence University.'],\n  'Founded Year': '2020',\n  'Team Size': '380',\n  'Company Location': 'Richmond, CA',\n  'Social Media Links': ['', '', ''],\n  'Active Founders': ['Paul Huelskamp', 'Alexander Meek'],\n  'YC Sign Photo': None},\n {'Company Name': 'Routable',\n  'Tagline': 'Simplifying payouts at scale',\n  'Batch': None,\n  'Status': None,\n  'Industries': ['fintech', 'payments'],\n  'Location': 'San Francisco',\n  'Website': None,\n  'Description': ['Routable’s secure B2B payments platform helps finance teams automate and simplify the payables process from invoice receipt to settlement. With support for your existing workflows and the flexibility to scale transactions from 100 to 100,000+, the platform was purpose-built to handle mass payouts reducing time spent on tedious tasks.',\n   'Co-founder of Routable.\\nI spend most of my time listening to music or hanging out with my wife and two cats.',\n   ''],\n  'Founded Year': '2017',\n  'Team Size': '160',\n  'Company Location': 'San Francisco',\n  'Social Media Links': ['', '', '', '', ''],\n  'Active Founders': ['Omri Mor, CEO', 'Tom Harel'],\n  'YC Sign Photo': None},\n {'Company Name': 'Webflow',\n  'Tagline': 'Professional website design and publishing platform.',\n  'Batch': None,\n  'Status': None,\n  'Industries': ['saas', 'design', 'marketing'],\n  'Location': 'San Francisco',\n  'Website': None,\n  'Description': 'Webflow is the leading no-code visual web development platform. It seamlessly generates sophisticated code so anyone can build powerful web-based businesses and adapt to changes without developers or months of building. \\r\\n\\r\\nFrom entrepreneurs and creative agencies to Fortune 500 companies, Webflow makes the internet a more inclusive place by making the tools to build on it more accessible to more people, fueling business growth. Webflow powers websites for innovators like Discord, Monday.com, IDEO, Orange Theory Fitness, TED, and Dropbox. \\r\\n\\r\\nWebflow is backed by Y Combinator, Accel, CapitalG, Silversmith, and other awesome investors.',\n  'Founded Year': '2013',\n  'Team Size': '600',\n  'Company Location': 'San Francisco',\n  'Social Media Links': ['', '', '', '', ''],\n  'Active Founders': None,\n  'YC Sign Photo': ''}]"
     },
     "execution_count": 66,
     "metadata": {},
     "output_type": "execute_result"
    }
   ],
   "source": [
    "rows = []\n",
    "data_iterator = crawler.iter_data_from_nested_pages(\n",
    "    urls=urls,\n",
    "    fields=fields,\n",
    "    max_rows=max_rows\n",
    ")\n",
    "with tqdm(data_iterator, total=max_rows) as pbar:\n",
    "    for row in pbar:\n",
    "        rows.append(row)\n",
    "rows"
   ],
   "metadata": {
    "collapsed": false,
    "ExecuteTime": {
     "end_time": "2024-03-29T16:01:39.558627Z",
     "start_time": "2024-03-29T16:00:36.622446Z"
    }
   }
  },
  {
   "cell_type": "markdown",
   "source": [
    "#### Experiment 2. [List of commits in the repository](https://github.com/scraperai/scraperai/commits/main/)"
   ],
   "metadata": {
    "collapsed": false
   }
  },
  {
   "cell_type": "code",
   "execution_count": 68,
   "outputs": [],
   "source": [
    "# Define url\n",
    "url = 'https://github.com/scraperai/scraperai/commits/main/'"
   ],
   "metadata": {
    "collapsed": false,
    "ExecuteTime": {
     "end_time": "2024-03-29T16:14:20.193043Z",
     "start_time": "2024-03-29T16:14:19.486536Z"
    }
   }
  },
  {
   "cell_type": "code",
   "execution_count": 69,
   "outputs": [],
   "source": [
    "# Open url\n",
    "crawler.get(url)"
   ],
   "metadata": {
    "collapsed": false,
    "ExecuteTime": {
     "end_time": "2024-03-29T16:14:26.985126Z",
     "start_time": "2024-03-29T16:14:20.699127Z"
    }
   }
  },
  {
   "cell_type": "code",
   "execution_count": 14,
   "outputs": [
    {
     "data": {
      "text/plain": "<WebpageType.CATALOG: 'catalog'>"
     },
     "execution_count": 14,
     "metadata": {},
     "output_type": "execute_result"
    }
   ],
   "source": [
    "# Detect page_type\n",
    "page_type = WebpageType.CATALOG\n",
    "page_type"
   ],
   "metadata": {
    "collapsed": false,
    "ExecuteTime": {
     "end_time": "2024-03-29T14:53:35.710051Z",
     "start_time": "2024-03-29T14:53:35.667801Z"
    }
   }
  },
  {
   "cell_type": "code",
   "execution_count": 72,
   "outputs": [
    {
     "data": {
      "text/plain": "Pagination(type='xpath', xpath=\"//a[text()='Next']\", url_param=None, url_param_first_value=1)"
     },
     "execution_count": 72,
     "metadata": {},
     "output_type": "execute_result"
    }
   ],
   "source": [
    "# Detect pagination\n",
    "pagination = parser.detect_pagination(crawler.page_source)\n",
    "pagination"
   ],
   "metadata": {
    "collapsed": false,
    "ExecuteTime": {
     "end_time": "2024-03-29T16:15:07.444274Z",
     "start_time": "2024-03-29T16:14:50.288232Z"
    }
   }
  },
  {
   "cell_type": "code",
   "execution_count": 16,
   "outputs": [
    {
     "data": {
      "text/plain": "<\ncard_xpath=//li[contains(@class, 'Box-sc-g0xbh4-0 gUACHT listviewitem')]\nurl_xpath=//li[contains(@class, 'Box-sc-g0xbh4-0 gUACHT listviewitem')]//a[contains(@class, 'color-fg-default')]/@href\nurls_on_page=['https://github.com/scraperai/scraperai/commit/2e49f28f4900175d082c8667f934be5b238250dd', 'https://github.com/scraperai/scraperai/commit/a943f77ad02f04c7a64b34c73fddb8bdd0e9cbb7', 'https://github.com/scraperai/scraperai/commit/2530dbd8481e270e48b6d38b9c00a85984e9d249', '...']\n>"
     },
     "execution_count": 16,
     "metadata": {},
     "output_type": "execute_result"
    }
   ],
   "source": [
    "# Detect catalog item\n",
    "catalog_item = parser.detect_catalog_item(\n",
    "    page_source=crawler.page_source,\n",
    "    website_url=url,\n",
    "    extra_prompt='This page contains a list of commits. Each commit row is a catalog item')\n",
    "catalog_item"
   ],
   "metadata": {
    "collapsed": false,
    "ExecuteTime": {
     "end_time": "2024-03-29T14:55:22.672852Z",
     "start_time": "2024-03-29T14:55:11.885276Z"
    }
   }
  },
  {
   "cell_type": "code",
   "execution_count": 18,
   "outputs": [],
   "source": [
    "crawler.highlight_by_xpath(catalog_item.card_xpath, '#8981D7', 5)\n",
    "crawler.highlight_by_xpath(catalog_item.url_xpath, '#5499D1', 3)"
   ],
   "metadata": {
    "collapsed": false,
    "ExecuteTime": {
     "end_time": "2024-03-29T14:57:30.820968Z",
     "start_time": "2024-03-29T14:57:29.525318Z"
    }
   }
  },
  {
   "cell_type": "code",
   "execution_count": 22,
   "outputs": [
    {
     "name": "stdout",
     "output_type": "stream",
     "text": [
      "Static fields (3):\n",
      "    name           xpath                                                                            value\n",
      " 0  Commit Title   //h4[@class='Heading__StyledHeading-sc-1c1dgg0-0 kdbvcH markdown-title']/span/a  env example\n",
      " 1  Commit Author  //a[@class='Link__StyledLink-sc-14289xe-0 iTDQyF']                               rrr2rrr\n",
      " 2  Commit Hash    //div[@class='d-flex']/span/a/span[@class='Button-label color-fg-muted']\n",
      "\n",
      "Dynamic fields (0):\n",
      "Not found\n"
     ]
    }
   ],
   "source": [
    "fields = parser.extract_fields(html_snippet=catalog_item.html_snippet)\n",
    "_print_fields(fields)"
   ],
   "metadata": {
    "collapsed": false,
    "ExecuteTime": {
     "end_time": "2024-03-29T15:00:59.481386Z",
     "start_time": "2024-03-29T15:00:53.417259Z"
    }
   }
  },
  {
   "cell_type": "code",
   "execution_count": 24,
   "outputs": [],
   "source": [
    "highlight_fields(fields)"
   ],
   "metadata": {
    "collapsed": false,
    "ExecuteTime": {
     "end_time": "2024-03-29T15:01:26.539808Z",
     "start_time": "2024-03-29T15:01:25.256131Z"
    }
   }
  },
  {
   "cell_type": "code",
   "execution_count": 28,
   "outputs": [
    {
     "name": "stderr",
     "output_type": "stream",
     "text": [
      " 53%|█████▎    | 53/100 [00:10<00:09,  4.91it/s]\n"
     ]
    },
    {
     "data": {
      "text/plain": "[{'Commit Title': 'env example',\n  'Commit Author': 'rrr2rrr',\n  'Commit Hash': None},\n {'Commit Title': 'Add elements highlight',\n  'Commit Author': 'iakov-kaiumov',\n  'Commit Hash': None},\n {'Commit Title': 'Rewrite CLI as MVC app',\n  'Commit Author': 'iakov-kaiumov',\n  'Commit Hash': None},\n {'Commit Title': 'Improve prompt',\n  'Commit Author': 'iakov-kaiumov',\n  'Commit Hash': None},\n {'Commit Title': 'Fix model',\n  'Commit Author': 'iakov-kaiumov',\n  'Commit Hash': None},\n {'Commit Title': 'Improve chat queries',\n  'Commit Author': 'iakov-kaiumov',\n  'Commit Hash': None},\n {'Commit Title': 'Change invoke signature',\n  'Commit Author': 'iakov-kaiumov',\n  'Commit Hash': None},\n {'Commit Title': 'Add base agent with retry strategy',\n  'Commit Author': 'iakov-kaiumov',\n  'Commit Hash': None},\n {'Commit Title': 'Move Pagination to models',\n  'Commit Author': 'iakov-kaiumov',\n  'Commit Hash': None},\n {'Commit Title': 'Change csv separator',\n  'Commit Author': 'iakov-kaiumov',\n  'Commit Hash': None},\n {'Commit Title': 'Change csv separator',\n  'Commit Author': 'iakov-kaiumov',\n  'Commit Hash': None},\n {'Commit Title': 'Add dist',\n  'Commit Author': 'iakov-kaiumov',\n  'Commit Hash': None},\n {'Commit Title': 'Release cli v0.0.1',\n  'Commit Author': 'iakov-kaiumov',\n  'Commit Hash': None},\n {'Commit Title': 'Add cli draft',\n  'Commit Author': 'iakov-kaiumov',\n  'Commit Hash': None},\n {'Commit Title': 'Full refactor to improve the abstraction and independence of modules',\n  'Commit Author': 'iakov-kaiumov',\n  'Commit Hash': None},\n {'Commit Title': 'Add license',\n  'Commit Author': 'iakov-kaiumov',\n  'Commit Hash': None},\n {'Commit Title': 'Fixed webdriver & mock scraper',\n  'Commit Author': 'iakov-kaiumov',\n  'Commit Hash': None},\n {'Commit Title': 'Add mock service',\n  'Commit Author': 'iakov-kaiumov',\n  'Commit Hash': None},\n {'Commit Title': 'Add classification & Refactor',\n  'Commit Author': 'iakov-kaiumov',\n  'Commit Hash': None},\n {'Commit Title': 'Updated to new webdriver',\n  'Commit Author': 'iakov-kaiumov',\n  'Commit Hash': None},\n {'Commit Title': 'Refactored webdriver',\n  'Commit Author': 'iakov-kaiumov',\n  'Commit Hash': None},\n {'Commit Title': 'Improved webdrivers, added tests',\n  'Commit Author': 'iakov-kaiumov',\n  'Commit Hash': None},\n {'Commit Title': 'Refactored webdriver module',\n  'Commit Author': 'iakov-kaiumov',\n  'Commit Hash': None},\n {'Commit Title': 'Updated project structure',\n  'Commit Author': 'iakov-kaiumov',\n  'Commit Hash': None},\n {'Commit Title': 'Split core and backend into two git repos',\n  'Commit Author': 'iakov-kaiumov',\n  'Commit Hash': None},\n {'Commit Title': 'Added sessions, taskiq;',\n  'Commit Author': 'iakov-kaiumov',\n  'Commit Hash': None},\n {'Commit Title': 'Added scraping task initialization',\n  'Commit Author': 'iakov-kaiumov',\n  'Commit Hash': None},\n {'Commit Title': 'Added empty scraping routes',\n  'Commit Author': 'iakov-kaiumov',\n  'Commit Hash': None},\n {'Commit Title': 'Added transactions',\n  'Commit Author': 'iakov-kaiumov',\n  'Commit Hash': None},\n {'Commit Title': 'Added roles',\n  'Commit Author': 'iakov-kaiumov',\n  'Commit Hash': None},\n {'Commit Title': 'New migrations',\n  'Commit Author': 'iakov-kaiumov',\n  'Commit Hash': None},\n {'Commit Title': 'Refactored JWT OAuth; Added refresh tokens',\n  'Commit Author': 'iakov-kaiumov',\n  'Commit Hash': None},\n {'Commit Title': 'Refactored JWT OAuth',\n  'Commit Author': 'iakov-kaiumov',\n  'Commit Hash': None},\n {'Commit Title': 'Added payments',\n  'Commit Author': 'iakov-kaiumov',\n  'Commit Hash': None},\n {'Commit Title': 'Refactored models location',\n  'Commit Author': 'iakov-kaiumov',\n  'Commit Hash': None},\n {'Commit Title': 'Removed subscriptions; Added Order model & tinkoff-payments',\n  'Commit Author': 'iakov-kaiumov',\n  'Commit Hash': None},\n {'Commit Title': 'Fixed backend package requirements',\n  'Commit Author': 'iakov-kaiumov',\n  'Commit Hash': None},\n {'Commit Title': 'Fixed backend package requirements',\n  'Commit Author': 'iakov-kaiumov',\n  'Commit Hash': None},\n {'Commit Title': 'Splitting code into two projects',\n  'Commit Author': 'iakov-kaiumov',\n  'Commit Hash': None},\n {'Commit Title': 'Added docker',\n  'Commit Author': 'iakov-kaiumov',\n  'Commit Hash': None},\n {'Commit Title': 'New layouts & Feedback fix',\n  'Commit Author': 'iakov-kaiumov',\n  'Commit Hash': None},\n {'Commit Title': 'Fixed oauth; Added new routes',\n  'Commit Author': 'iakov-kaiumov',\n  'Commit Hash': None},\n {'Commit Title': 'Opt imports',\n  'Commit Author': 'iakov-kaiumov',\n  'Commit Hash': None},\n {'Commit Title': 'Added verification_code',\n  'Commit Author': 'iakov-kaiumov',\n  'Commit Hash': None},\n {'Commit Title': 'Refactoring; Added password recovery and change flows',\n  'Commit Author': 'iakov-kaiumov',\n  'Commit Hash': None},\n {'Commit Title': 'Added google & yandex oauth',\n  'Commit Author': 'iakov-kaiumov',\n  'Commit Hash': None},\n {'Commit Title': 'Added simple password-auth schema',\n  'Commit Author': 'iakov-kaiumov',\n  'Commit Hash': None},\n {'Commit Title': 'minor fixes',\n  'Commit Author': 'iakov-kaiumov',\n  'Commit Hash': None},\n {'Commit Title': 'Added blank API app',\n  'Commit Author': 'iakov-kaiumov',\n  'Commit Hash': None},\n {'Commit Title': 'Moved admin to package',\n  'Commit Author': 'iakov-kaiumov',\n  'Commit Hash': None},\n {'Commit Title': 'Added fast-api-admin',\n  'Commit Author': 'iakov-kaiumov',\n  'Commit Hash': None},\n {'Commit Title': 'Update requirements',\n  'Commit Author': 'iakov-kaiumov',\n  'Commit Hash': None},\n {'Commit Title': 'Initial commit',\n  'Commit Author': 'iakov-kaiumov',\n  'Commit Hash': None}]"
     },
     "execution_count": 28,
     "metadata": {},
     "output_type": "execute_result"
    }
   ],
   "source": [
    "max_pages = 2  # How many catalog pages we should iterate over\n",
    "max_rows = 100  # When to stop scraping\n",
    "rows = []\n",
    "data_iterator = crawler.iter_data_from_catalog_pages(\n",
    "    start_url=url,\n",
    "    pagination=pagination,\n",
    "    catalog_item_xpath=catalog_item.card_xpath,\n",
    "    fields=fields,\n",
    "    max_pages=max_pages,\n",
    "    max_rows=max_rows\n",
    ")\n",
    "with tqdm(total=max_rows) as pbar:\n",
    "    for data_list in data_iterator:\n",
    "        rows += data_list\n",
    "        pbar.update(len(data_list))\n",
    "\n",
    "rows"
   ],
   "metadata": {
    "collapsed": false,
    "ExecuteTime": {
     "end_time": "2024-03-29T15:05:48.449224Z",
     "start_time": "2024-03-29T15:05:37.574409Z"
    }
   }
  },
  {
   "cell_type": "code",
   "execution_count": 29,
   "outputs": [
    {
     "data": {
      "text/plain": "53"
     },
     "execution_count": 29,
     "metadata": {},
     "output_type": "execute_result"
    }
   ],
   "source": [
    "len(rows)"
   ],
   "metadata": {
    "collapsed": false,
    "ExecuteTime": {
     "end_time": "2024-03-29T15:05:51.487999Z",
     "start_time": "2024-03-29T15:05:51.451746Z"
    }
   }
  }
 ],
 "metadata": {
  "kernelspec": {
   "display_name": "Python 3",
   "language": "python",
   "name": "python3"
  },
  "language_info": {
   "codemirror_mode": {
    "name": "ipython",
    "version": 2
   },
   "file_extension": ".py",
   "mimetype": "text/x-python",
   "name": "python",
   "nbconvert_exporter": "python",
   "pygments_lexer": "ipython2",
   "version": "2.7.6"
  }
 },
 "nbformat": 4,
 "nbformat_minor": 5
}
