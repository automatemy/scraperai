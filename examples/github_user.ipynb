{
 "cells": [
  {
   "cell_type": "code",
   "execution_count": 1,
   "id": "initial_id",
   "metadata": {
    "collapsed": true,
    "ExecuteTime": {
     "end_time": "2024-04-25T17:04:15.949218Z",
     "start_time": "2024-04-25T17:04:15.251894Z"
    }
   },
   "outputs": [],
   "source": [
    "from local.steps import LocalScraperAI\n",
    "from IPython import display"
   ]
  },
  {
   "cell_type": "code",
   "outputs": [],
   "source": [
    "url = 'https://github.com/scraperai/scraperai/commits/main/' "
   ],
   "metadata": {
    "collapsed": false,
    "ExecuteTime": {
     "end_time": "2024-04-25T17:04:15.951924Z",
     "start_time": "2024-04-25T17:04:15.950265Z"
    }
   },
   "id": "99b3dfed70bb6d22",
   "execution_count": 2
  },
  {
   "cell_type": "code",
   "outputs": [
    {
     "ename": "NotFoundError",
     "evalue": "",
     "output_type": "error",
     "traceback": [
      "\u001B[0;31m---------------------------------------------------------------------------\u001B[0m",
      "\u001B[0;31mNotFoundError\u001B[0m                             Traceback (most recent call last)",
      "Cell \u001B[0;32mIn[3], line 2\u001B[0m\n\u001B[1;32m      1\u001B[0m scraper \u001B[38;5;241m=\u001B[39m LocalScraperAI(url)\n\u001B[0;32m----> 2\u001B[0m \u001B[38;5;28mprint\u001B[39m(\u001B[43mscraper\u001B[49m\u001B[38;5;241;43m.\u001B[39;49m\u001B[43mstep1\u001B[49m\u001B[43m(\u001B[49m\u001B[43m)\u001B[49m)\n",
      "File \u001B[0;32m~/PycharmProjects/scraperai/local/steps.py:47\u001B[0m, in \u001B[0;36mLocalScraperAI.step1\u001B[0;34m(self)\u001B[0m\n\u001B[1;32m     44\u001B[0m page_type \u001B[38;5;241m=\u001B[39m parser\u001B[38;5;241m.\u001B[39mdetect_page_type(page_source\u001B[38;5;241m=\u001B[39mcrawler\u001B[38;5;241m.\u001B[39mpage_source,\n\u001B[1;32m     45\u001B[0m                                     screenshot\u001B[38;5;241m=\u001B[39mcrawler\u001B[38;5;241m.\u001B[39mget_screenshot_as_base64())\n\u001B[1;32m     46\u001B[0m pagination \u001B[38;5;241m=\u001B[39m parser\u001B[38;5;241m.\u001B[39mdetect_pagination(crawler\u001B[38;5;241m.\u001B[39mpage_source)\n\u001B[0;32m---> 47\u001B[0m catalog_item \u001B[38;5;241m=\u001B[39m \u001B[43mparser\u001B[49m\u001B[38;5;241;43m.\u001B[39;49m\u001B[43mdetect_catalog_item\u001B[49m\u001B[43m(\u001B[49m\u001B[43mpage_source\u001B[49m\u001B[38;5;241;43m=\u001B[39;49m\u001B[43mcrawler\u001B[49m\u001B[38;5;241;43m.\u001B[39;49m\u001B[43mpage_source\u001B[49m\u001B[43m,\u001B[49m\u001B[43m \u001B[49m\u001B[43mwebsite_url\u001B[49m\u001B[38;5;241;43m=\u001B[39;49m\u001B[43murl\u001B[49m\u001B[43m,\u001B[49m\u001B[43m \u001B[49m\u001B[43mextra_prompt\u001B[49m\u001B[38;5;241;43m=\u001B[39;49m\u001B[38;5;28;43;01mNone\u001B[39;49;00m\u001B[43m)\u001B[49m\n\u001B[1;32m     48\u001B[0m \u001B[38;5;28mself\u001B[39m\u001B[38;5;241m.\u001B[39mpage_type \u001B[38;5;241m=\u001B[39m page_type\n\u001B[1;32m     49\u001B[0m \u001B[38;5;28mself\u001B[39m\u001B[38;5;241m.\u001B[39mpagination \u001B[38;5;241m=\u001B[39m pagination\n",
      "File \u001B[0;32m~/PycharmProjects/scraperai/scraperai/parsers/parserai.py:61\u001B[0m, in \u001B[0;36mParserAI.detect_catalog_item\u001B[0;34m(self, page_source, website_url, extra_prompt)\u001B[0m\n\u001B[1;32m     59\u001B[0m \u001B[38;5;28;01mdef\u001B[39;00m \u001B[38;5;21mdetect_catalog_item\u001B[39m(\u001B[38;5;28mself\u001B[39m, page_source: \u001B[38;5;28mstr\u001B[39m, website_url: \u001B[38;5;28mstr\u001B[39m, extra_prompt: \u001B[38;5;28mstr\u001B[39m \u001B[38;5;241m=\u001B[39m \u001B[38;5;28;01mNone\u001B[39;00m) \u001B[38;5;241m-\u001B[39m\u001B[38;5;241m>\u001B[39m CatalogItem \u001B[38;5;241m|\u001B[39m \u001B[38;5;28;01mNone\u001B[39;00m:\n\u001B[1;32m     60\u001B[0m     detector \u001B[38;5;241m=\u001B[39m CatalogItemDetector(model\u001B[38;5;241m=\u001B[39m\u001B[38;5;28mself\u001B[39m\u001B[38;5;241m.\u001B[39mjson_lm_model)\n\u001B[0;32m---> 61\u001B[0m     item \u001B[38;5;241m=\u001B[39m \u001B[43mdetector\u001B[49m\u001B[38;5;241;43m.\u001B[39;49m\u001B[43mdetect_catalog_item\u001B[49m\u001B[43m(\u001B[49m\u001B[43mpage_source\u001B[49m\u001B[43m,\u001B[49m\u001B[43m \u001B[49m\u001B[43mextra_prompt\u001B[49m\u001B[43m)\u001B[49m\n\u001B[1;32m     62\u001B[0m     item\u001B[38;5;241m.\u001B[39murls_on_page \u001B[38;5;241m=\u001B[39m [fix_relative_url(website_url, u) \u001B[38;5;28;01mfor\u001B[39;00m u \u001B[38;5;129;01min\u001B[39;00m item\u001B[38;5;241m.\u001B[39murls_on_page]\n\u001B[1;32m     63\u001B[0m     \u001B[38;5;28;01mreturn\u001B[39;00m item\n",
      "File \u001B[0;32m~/PycharmProjects/scraperai/scraperai/parsers/catalog_item_detector.py:82\u001B[0m, in \u001B[0;36mCatalogItemDetector.detect_catalog_item\u001B[0;34m(self, html_content, extra_prompt)\u001B[0m\n\u001B[1;32m     80\u001B[0m url_xpath \u001B[38;5;241m=\u001B[39m data[\u001B[38;5;124m'\u001B[39m\u001B[38;5;124murl\u001B[39m\u001B[38;5;124m'\u001B[39m]\n\u001B[1;32m     81\u001B[0m \u001B[38;5;28;01mif\u001B[39;00m card_xpath \u001B[38;5;129;01mis\u001B[39;00m \u001B[38;5;28;01mNone\u001B[39;00m \u001B[38;5;129;01mor\u001B[39;00m url_xpath \u001B[38;5;129;01mis\u001B[39;00m \u001B[38;5;28;01mNone\u001B[39;00m:\n\u001B[0;32m---> 82\u001B[0m     \u001B[38;5;28;01mraise\u001B[39;00m NotFoundError\n\u001B[1;32m     84\u001B[0m html_snippet \u001B[38;5;241m=\u001B[39m etree\u001B[38;5;241m.\u001B[39mtostring(tree\u001B[38;5;241m.\u001B[39mxpath(card_xpath)[\u001B[38;5;241m0\u001B[39m],\n\u001B[1;32m     85\u001B[0m                               pretty_print\u001B[38;5;241m=\u001B[39m\u001B[38;5;28;01mTrue\u001B[39;00m,\n\u001B[1;32m     86\u001B[0m                               method\u001B[38;5;241m=\u001B[39m\u001B[38;5;124m\"\u001B[39m\u001B[38;5;124mhtml\u001B[39m\u001B[38;5;124m\"\u001B[39m,\n\u001B[1;32m     87\u001B[0m                               encoding\u001B[38;5;241m=\u001B[39m\u001B[38;5;124m'\u001B[39m\u001B[38;5;124municode\u001B[39m\u001B[38;5;124m'\u001B[39m)\n\u001B[1;32m     88\u001B[0m \u001B[38;5;28;01mreturn\u001B[39;00m CatalogItem(\n\u001B[1;32m     89\u001B[0m     card_xpath\u001B[38;5;241m=\u001B[39mcard_xpath,\n\u001B[1;32m     90\u001B[0m     url_xpath\u001B[38;5;241m=\u001B[39murl_xpath,\n\u001B[1;32m     91\u001B[0m     html_snippet\u001B[38;5;241m=\u001B[39mhtml_snippet,\n\u001B[1;32m     92\u001B[0m     urls_on_page\u001B[38;5;241m=\u001B[39mtree\u001B[38;5;241m.\u001B[39mxpath(url_xpath)\n\u001B[1;32m     93\u001B[0m )\n",
      "\u001B[0;31mNotFoundError\u001B[0m: "
     ]
    }
   ],
   "source": [
    "scraper = LocalScraperAI(url)\n",
    "print(scraper.step1())"
   ],
   "metadata": {
    "collapsed": false,
    "ExecuteTime": {
     "end_time": "2024-04-25T17:04:45.630502Z",
     "start_time": "2024-04-25T17:04:15.952807Z"
    }
   },
   "id": "2d2432ee9d9f4091",
   "execution_count": 3
  },
  {
   "cell_type": "code",
   "outputs": [
    {
     "data": {
      "text/plain": "0.00847"
     },
     "execution_count": 4,
     "metadata": {},
     "output_type": "execute_result"
    }
   ],
   "source": [
    "scraper.parser.total_cost"
   ],
   "metadata": {
    "collapsed": false,
    "ExecuteTime": {
     "end_time": "2024-04-25T20:11:25.548351Z",
     "start_time": "2024-04-25T20:11:25.542410Z"
    }
   },
   "id": "a534e1e4acb76d37",
   "execution_count": 4
  },
  {
   "cell_type": "code",
   "outputs": [],
   "source": [
    "scraper.crawler.driver.quit()"
   ],
   "metadata": {
    "collapsed": false,
    "ExecuteTime": {
     "end_time": "2024-04-25T20:11:32.519832Z",
     "start_time": "2024-04-25T20:11:32.395223Z"
    }
   },
   "id": "f5ab7b7be82a78b9",
   "execution_count": 6
  }
 ],
 "metadata": {
  "kernelspec": {
   "display_name": "Python 3",
   "language": "python",
   "name": "python3"
  },
  "language_info": {
   "codemirror_mode": {
    "name": "ipython",
    "version": 2
   },
   "file_extension": ".py",
   "mimetype": "text/x-python",
   "name": "python",
   "nbconvert_exporter": "python",
   "pygments_lexer": "ipython2",
   "version": "2.7.6"
  }
 },
 "nbformat": 4,
 "nbformat_minor": 5
}
