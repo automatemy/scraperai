{
 "cells": [
  {
   "cell_type": "markdown",
   "source": [
    "## How to scrape any website with ScraperAI"
   ],
   "metadata": {
    "collapsed": false
   },
   "id": "d597f324e60cad72"
  },
  {
   "cell_type": "markdown",
   "source": [
    "### Before we start, install the package"
   ],
   "metadata": {
    "collapsed": false
   },
   "id": "dcd4546522a05bc1"
  },
  {
   "cell_type": "code",
   "execution_count": 23,
   "outputs": [
    {
     "name": "stdout",
     "output_type": "stream",
     "text": [
      "The autoreload extension is already loaded. To reload it, use:\n",
      "  %reload_ext autoreload\n"
     ]
    },
    {
     "name": "stderr",
     "output_type": "stream",
     "text": [
      "[autoreload of scraperai.parsers.webpage_classifier failed: Traceback (most recent call last):\n",
      "  File \"/Users/iakov/Documents/PycharmProjects/scraperai/venv/lib/python3.10/site-packages/IPython/extensions/autoreload.py\", line 276, in check\n",
      "    superreload(m, reload, self.old_objects)\n",
      "  File \"/Users/iakov/Documents/PycharmProjects/scraperai/venv/lib/python3.10/site-packages/IPython/extensions/autoreload.py\", line 500, in superreload\n",
      "    update_generic(old_obj, new_obj)\n",
      "  File \"/Users/iakov/Documents/PycharmProjects/scraperai/venv/lib/python3.10/site-packages/IPython/extensions/autoreload.py\", line 397, in update_generic\n",
      "    update(a, b)\n",
      "  File \"/Users/iakov/Documents/PycharmProjects/scraperai/venv/lib/python3.10/site-packages/IPython/extensions/autoreload.py\", line 349, in update_class\n",
      "    if update_generic(old_obj, new_obj):\n",
      "  File \"/Users/iakov/Documents/PycharmProjects/scraperai/venv/lib/python3.10/site-packages/IPython/extensions/autoreload.py\", line 397, in update_generic\n",
      "    update(a, b)\n",
      "  File \"/Users/iakov/Documents/PycharmProjects/scraperai/venv/lib/python3.10/site-packages/IPython/extensions/autoreload.py\", line 309, in update_function\n",
      "    setattr(old, name, getattr(new, name))\n",
      "ValueError: __init__() requires a code object with 0 free vars, not 1\n",
      "]\n"
     ]
    }
   ],
   "source": [
    "%load_ext autoreload\n",
    "%autoreload 2"
   ],
   "metadata": {
    "collapsed": false,
    "ExecuteTime": {
     "end_time": "2024-05-22T07:04:04.959838Z",
     "start_time": "2024-05-22T07:04:00.870321Z"
    }
   }
  },
  {
   "cell_type": "code",
   "outputs": [],
   "source": [
    "# ! pip install scraperai"
   ],
   "metadata": {
    "collapsed": false,
    "ExecuteTime": {
     "end_time": "2024-05-22T07:04:09.757337Z",
     "start_time": "2024-05-22T07:04:09.696287Z"
    }
   },
   "id": "76211611f93937da",
   "execution_count": 24
  },
  {
   "cell_type": "code",
   "outputs": [],
   "source": [
    "import os\n",
    "import json\n",
    "\n",
    "import pandas as pd\n",
    "from dotenv import find_dotenv, load_dotenv\n",
    "from tqdm import tqdm\n",
    "\n",
    "from scraperai.models import WebpageFields, Pagination, WebpageType, ScraperConfig\n",
    "from scraperai import ParserAI, Scraper\n",
    "from scraperai.crawlers import SeleniumCrawler"
   ],
   "metadata": {
    "collapsed": false,
    "ExecuteTime": {
     "end_time": "2024-05-22T07:04:10.253914Z",
     "start_time": "2024-05-22T07:04:10.189106Z"
    }
   },
   "id": "1103d896f48fa663",
   "execution_count": 25
  },
  {
   "cell_type": "markdown",
   "source": [
    "### Step 1. Init crawler\n",
    "\n",
    "First, we need to initialize a web-crawler that will help us to fetch data from the web.\n",
    "\n",
    "In this tutorial we use `SeleniumCrawler` that uses Selenium webdriver. By default it creates a new Chrome session.\n",
    "\n",
    "To use other browsers you can pass your own webdriver (both local and remote) to the `SeleniumCrawler`:\n",
    "```\n",
    "crawler = SeleniumCrawler(driver=your_own_webdriver)\n",
    "```\n",
    "\n",
    "If you want to use playwright or other services, you can create your own crawler implementation based on `BaseCrawler`."
   ],
   "metadata": {
    "collapsed": false
   },
   "id": "1180076edb7afa4a"
  },
  {
   "cell_type": "code",
   "outputs": [],
   "source": [
    "crawler = SeleniumCrawler()"
   ],
   "metadata": {
    "collapsed": false,
    "ExecuteTime": {
     "end_time": "2024-05-22T07:04:25.912528Z",
     "start_time": "2024-05-22T07:04:16.923353Z"
    }
   },
   "id": "456b1481d75ae268",
   "execution_count": 26
  },
  {
   "cell_type": "markdown",
   "source": [
    "### Step 2. Init ParserAI\n",
    "\n",
    "By default, we use the latest OpenAI GPT-4 model. You can place your API key in the `.env` file. If you don't have a key, you can get it [here](https://platform.openai.com/api-keys).\n",
    "Also, you can use another AI model. To do this, you need to create another implementations of the `BaseJsonLM` and `BaseVision` classes."
   ],
   "metadata": {
    "collapsed": false
   },
   "id": "17011078f7add63"
  },
  {
   "cell_type": "code",
   "outputs": [],
   "source": [
    "env_file = find_dotenv()\n",
    "if env_file:\n",
    "    load_dotenv()\n",
    "openai_api_key = os.getenv('OPENAI_API_KEY')\n",
    "if openai_api_key is None:\n",
    "    openai_api_key = input('Please, enter your OpenAI API key: ')\n",
    "\n",
    "parser = ParserAI(openai_api_key=openai_api_key)"
   ],
   "metadata": {
    "collapsed": false,
    "ExecuteTime": {
     "end_time": "2024-05-22T07:04:43.291945Z",
     "start_time": "2024-05-22T07:04:43.152261Z"
    }
   },
   "id": "65a30490ab058365",
   "execution_count": 27
  },
  {
   "cell_type": "markdown",
   "source": [
    "There are 2 experiments in this doc:\n",
    "1. [List of YCombinator companies](https://www.ycombinator.com/companies/)\n",
    "2. [List of commits in the repository](https://github.com/scraperai/scraperai/commits/main/)"
   ],
   "metadata": {
    "collapsed": false
   },
   "id": "4b4399c94da6d0c5"
  },
  {
   "cell_type": "markdown",
   "source": [
    "#### Experiment 1. List of YCombinator companies"
   ],
   "metadata": {
    "collapsed": false
   },
   "id": "3aac5b0bd2dcc9f7"
  },
  {
   "cell_type": "markdown",
   "source": [
    "### Step 3. Open the website page\n",
    "Later, in case of multiple similar sites you will be able to run batch scraping. The main target is to semi-automatically detect all xpaths"
   ],
   "metadata": {
    "collapsed": false
   },
   "id": "6b3f41887ec2da8"
  },
  {
   "cell_type": "code",
   "outputs": [],
   "source": [
    "url = 'https://www.ycombinator.com/companies' # Enter the URL of the website"
   ],
   "metadata": {
    "collapsed": false,
    "ExecuteTime": {
     "end_time": "2024-05-22T07:04:46.052084Z",
     "start_time": "2024-05-22T07:04:45.987022Z"
    }
   },
   "id": "6487f025928429c",
   "execution_count": 28
  },
  {
   "cell_type": "code",
   "outputs": [],
   "source": [
    "# Open page in the browser\n",
    "crawler.get(url)"
   ],
   "metadata": {
    "collapsed": false,
    "ExecuteTime": {
     "end_time": "2024-05-22T07:04:51.397400Z",
     "start_time": "2024-05-22T07:04:46.901891Z"
    }
   },
   "id": "bf21beb3647ca5b2",
   "execution_count": 29
  },
  {
   "cell_type": "markdown",
   "source": [
    "### Step 3.1. Detect page type\n",
    "We divide webpages into 4 categories:\n",
    "- **Catalog**: consists of similar-looking repeating elements. It can be a list of products, articles, companies, table rows, etc;\n",
    "- **Details**: contains main information about one product;\n",
    "- **Captcha**: in case we meet anti-scraping CAPTCHA;\n",
    "- **Other**: everything else; we don't support this webpage type yet.\n",
    "\n",
    "By default, we use screenshot of the page and GPT4 Vision model to determine a type. We also have a fallback algorithm if you cannot take a screenshot of the page or do not have access to Vision models.\n",
    "\n",
    "If you know the type of the page, you can set it manually."
   ],
   "metadata": {
    "collapsed": false
   },
   "id": "49fc7fe1abe83b3d"
  },
  {
   "cell_type": "code",
   "outputs": [
    {
     "data": {
      "text/plain": "<WebpageType.CATALOG: 'catalog'>"
     },
     "execution_count": 30,
     "metadata": {},
     "output_type": "execute_result"
    }
   ],
   "source": [
    "page_type = parser.detect_page_type(\n",
    "    page_source=crawler.page_source,\n",
    "    screenshot=crawler.get_screenshot_as_base64()\n",
    ")\n",
    "# You can set type manually\n",
    "# page_type = WebpageType.CATALOG\n",
    "page_type"
   ],
   "metadata": {
    "collapsed": false,
    "ExecuteTime": {
     "end_time": "2024-05-22T07:06:00.668656Z",
     "start_time": "2024-05-22T07:05:56.236240Z"
    }
   },
   "id": "3848286a63d28b49",
   "execution_count": 30
  },
  {
   "cell_type": "markdown",
   "source": [
    "OpenAI tokens are spent on each action. You can find total money spent using:"
   ],
   "metadata": {
    "collapsed": false
   }
  },
  {
   "cell_type": "code",
   "execution_count": 10,
   "outputs": [
    {
     "data": {
      "text/plain": "0.00847"
     },
     "execution_count": 10,
     "metadata": {},
     "output_type": "execute_result"
    }
   ],
   "source": [
    "parser.total_cost  # in USD"
   ],
   "metadata": {
    "collapsed": false,
    "ExecuteTime": {
     "end_time": "2024-05-02T10:51:17.233598Z",
     "start_time": "2024-05-02T10:51:17.186755Z"
    }
   }
  },
  {
   "cell_type": "markdown",
   "source": [
    "### Step 3.2. Detect pagination\n",
    "**It is used only for type `catalog`.**\n",
    "\n",
    "We need to pass a whole page to detect the pagination.\n",
    "There are 3 types of pagination: `xpath`, `scroll`, and `urls`."
   ],
   "metadata": {
    "collapsed": false
   },
   "id": "9124a022c312464c"
  },
  {
   "cell_type": "code",
   "outputs": [
    {
     "data": {
      "text/plain": "Pagination(type='xpath', xpath=\"//div[text()='Loading more...']\", url_param=None, url_param_first_value=1)"
     },
     "execution_count": 31,
     "metadata": {},
     "output_type": "execute_result"
    }
   ],
   "source": [
    "pagination = parser.detect_pagination(crawler.page_source)\n",
    "pagination"
   ],
   "metadata": {
    "collapsed": false,
    "ExecuteTime": {
     "end_time": "2024-05-22T07:06:32.542175Z",
     "start_time": "2024-05-22T07:06:29.225395Z"
    }
   },
   "id": "418fe9a21ca498a7",
   "execution_count": 31
  },
  {
   "cell_type": "markdown",
   "source": [
    "In case of error, you can set it manually."
   ],
   "metadata": {
    "collapsed": false
   }
  },
  {
   "cell_type": "code",
   "execution_count": 38,
   "outputs": [],
   "source": [
    "# Scroll type\n",
    "pagination = Pagination(type='scroll')\n",
    "# XPATH\n",
    "p2 = Pagination(type='xpath', xpath='//some-xpath')\n",
    "# URLs\n",
    "p3 = Pagination(type='urls', urls=['https://www.ycombinator.com/companies/airbnb', ])"
   ],
   "metadata": {
    "collapsed": false,
    "ExecuteTime": {
     "end_time": "2024-05-22T07:08:52.057747Z",
     "start_time": "2024-05-22T07:08:51.992441Z"
    }
   }
  },
  {
   "cell_type": "markdown",
   "source": [
    "### Step 3.3. Detect catalog items\n",
    "**It is used only for type `catalog`.**\n",
    "You should correctly choose item block, url and ... \n",
    "AI isn't perfect, so you can manually add extra prompt to help AI to understand what you want or set xpath manually."
   ],
   "metadata": {
    "collapsed": false
   },
   "id": "ee342c3eb6a3175d"
  },
  {
   "cell_type": "code",
   "outputs": [
    {
     "data": {
      "text/plain": "<card_xpath=//a[contains(@class, '_company_99gj3_339')]\n url_xpath=//a[contains(@class, '_company_99gj3_339')]/@href\n urls_on_page=['https://www.ycombinator.com/companies/airbnb', 'https://www.ycombinator.com/companies/amplitude', 'https://www.ycombinator.com/companies/coinbase', 'https://www.ycombinator.com/companies/doordash', 'https://www.ycombinator.com/companies/dropbox', 'https://www.ycombinator.com/companies/ginkgo-bioworks', 'https://www.ycombinator.com/companies/gitlab', 'https://www.ycombinator.com/companies/instacart', 'https://www.ycombinator.com/companies/matterport', 'https://www.ycombinator.com/companies/pagerduty', 'https://www.ycombinator.com/companies/weave', 'https://www.ycombinator.com/companies/oklo', 'https://www.ycombinator.com/companies/embark-trucks', 'https://www.ycombinator.com/companies/lucira-health', 'https://www.ycombinator.com/companies/notable-labs', 'https://www.ycombinator.com/companies/rigetti-computing', 'https://www.ycombinator.com/companies/pardes-bio', 'https://www.ycombinator.com/companies/momentus', 'https://www.ycombinator.com/companies/presto', 'https://www.ycombinator.com/companies/bellabeat', 'https://www.ycombinator.com/companies/benchling', 'https://www.ycombinator.com/companies/bird', 'https://www.ycombinator.com/companies/brex', 'https://www.ycombinator.com/companies/checkr', 'https://www.ycombinator.com/companies/clipboard-health', 'https://www.ycombinator.com/companies/deel', 'https://www.ycombinator.com/companies/equipmentshare', 'https://www.ycombinator.com/companies/faire', 'https://www.ycombinator.com/companies/flock-safety', 'https://www.ycombinator.com/companies/go1', 'https://www.ycombinator.com/companies/goat-group', 'https://www.ycombinator.com/companies/groww', 'https://www.ycombinator.com/companies/grubmarket', 'https://www.ycombinator.com/companies/gusto', 'https://www.ycombinator.com/companies/honeylove', 'https://www.ycombinator.com/companies/meesho', 'https://www.ycombinator.com/companies/mixpanel', 'https://www.ycombinator.com/companies/newfront-insurance', 'https://www.ycombinator.com/companies/nowports', 'https://www.ycombinator.com/companies/odeko', 'https://www.ycombinator.com/companies/optimizely', 'https://www.ycombinator.com/companies/podium', 'https://www.ycombinator.com/companies/rappi', 'https://www.ycombinator.com/companies/razorpay', 'https://www.ycombinator.com/companies/reddit', 'https://www.ycombinator.com/companies/rippling', 'https://www.ycombinator.com/companies/scale-ai', 'https://www.ycombinator.com/companies/shipbob', 'https://www.ycombinator.com/companies/smartasset', 'https://www.ycombinator.com/companies/stripe', 'https://www.ycombinator.com/companies/truebill', 'https://www.ycombinator.com/companies/wave', 'https://www.ycombinator.com/companies/webflow', 'https://www.ycombinator.com/companies/whatnot', 'https://www.ycombinator.com/companies/zapier', 'https://www.ycombinator.com/companies/zepto', 'https://www.ycombinator.com/companies/algolia', 'https://www.ycombinator.com/companies/scribd', 'https://www.ycombinator.com/companies/flexport', 'https://www.ycombinator.com/companies/focal-systems', 'https://www.ycombinator.com/companies/mio', 'https://www.ycombinator.com/companies/daily', 'https://www.ycombinator.com/companies/petcube', 'https://www.ycombinator.com/companies/outschool', 'https://www.ycombinator.com/companies/mason', 'https://www.ycombinator.com/companies/magicbus', 'https://www.ycombinator.com/companies/tovala', 'https://www.ycombinator.com/companies/isono-health', 'https://www.ycombinator.com/companies/getaccept', 'https://www.ycombinator.com/companies/chatfuel', 'https://www.ycombinator.com/companies/yardbook', 'https://www.ycombinator.com/companies/gocardless', 'https://www.ycombinator.com/companies/stealth-worker', 'https://www.ycombinator.com/companies/deepgram', 'https://www.ycombinator.com/companies/soundboks', 'https://www.ycombinator.com/companies/lattice', 'https://www.ycombinator.com/companies/mux', 'https://www.ycombinator.com/companies/human-interest', 'https://www.ycombinator.com/companies/flirtey', 'https://www.ycombinator.com/companies/eight-sleep']\n>"
     },
     "execution_count": 32,
     "metadata": {},
     "output_type": "execute_result"
    }
   ],
   "source": [
    "catalog_item = parser.detect_catalog_item(page_source=crawler.page_source, website_url=url, extra_prompt=None)\n",
    "catalog_item"
   ],
   "metadata": {
    "collapsed": false,
    "ExecuteTime": {
     "end_time": "2024-05-22T07:06:55.628792Z",
     "start_time": "2024-05-22T07:06:51.022933Z"
    }
   },
   "id": "c7e88c3f7c70211b",
   "execution_count": 32
  },
  {
   "cell_type": "markdown",
   "source": [
    "You can highlight fields using selenium:"
   ],
   "metadata": {
    "collapsed": false
   }
  },
  {
   "cell_type": "code",
   "execution_count": 33,
   "outputs": [],
   "source": [
    "if catalog_item is not None:\n",
    "    crawler.highlight_by_xpath(catalog_item.card_xpath, '#8981D7', 5)\n",
    "    crawler.highlight_by_xpath(catalog_item.url_xpath, '#5499D1', 3)"
   ],
   "metadata": {
    "collapsed": false,
    "ExecuteTime": {
     "end_time": "2024-05-22T07:07:24.910226Z",
     "start_time": "2024-05-22T07:07:24.840887Z"
    }
   }
  },
  {
   "cell_type": "markdown",
   "source": [
    "### Step 3.4. Detect data fields in a catalog item\n",
    "\n",
    "We define two types of data fields in a HTML page.\n",
    "\n",
    "First type is static field that do not contain a field name. It can be both a single value or an array. Example: product name or price.\n",
    "\n",
    "Second type is dynamic fields where there are both field names and values mentioned. Usually these fields look like tables:\n",
    "param1: value1\n",
    "param2: value2\n",
    "etc."
   ],
   "metadata": {
    "collapsed": false
   }
  },
  {
   "cell_type": "code",
   "execution_count": 34,
   "outputs": [],
   "source": [
    "# Aux method to print detected fields\n",
    "def _print_fields(fields: WebpageFields):\n",
    "    print(f'Static fields ({len(fields.static_fields)}):')\n",
    "\n",
    "    data = [{'name': f.field_name, 'xpath': f.field_xpath, 'value': f.first_value} for f in fields.static_fields]\n",
    "    df = pd.DataFrame(data)\n",
    "    print(df.to_markdown(tablefmt='plain', index=True))\n",
    "\n",
    "    print()\n",
    "    print(f'Dynamic fields ({len(fields.dynamic_fields)}):')\n",
    "    if len(fields.dynamic_fields) == 0:\n",
    "        print('Not found')\n",
    "        return\n",
    "    index = len(fields.static_fields)\n",
    "    for field in fields.dynamic_fields:\n",
    "        print(f' {index}  Section {field.section_name}\\n'\n",
    "                   f'    Labels xpath: {field.name_xpath}\\n'\n",
    "                   f'    Values xpath: {field.value_xpath}\\n'\n",
    "                   f'    Value: {field.first_values}')\n",
    "        index += 1"
   ],
   "metadata": {
    "collapsed": false,
    "ExecuteTime": {
     "end_time": "2024-05-22T07:07:50.321607Z",
     "start_time": "2024-05-22T07:07:50.272807Z"
    }
   }
  },
  {
   "cell_type": "code",
   "outputs": [
    {
     "name": "stdout",
     "output_type": "stream",
     "text": [
      "Static fields (6):\n",
      "    name          xpath                                                                    value\n",
      " 0  Company Name  //span[@class='_coName_99gj3_454']                                       Airbnb\n",
      " 1  Location      //span[@class='_coLocation_99gj3_470']                                   San Francisco, CA, USA\n",
      " 2  Description   //span[@class='_coDescription_99gj3_479']                                Book accommodations around the world.\n",
      " 3  Batch         //a[@class='_tagLink_99gj3_1024'][1]/span[@class='pill _pill_99gj3_33']  W09\n",
      " 4  Industry 1    //a[@class='_tagLink_99gj3_1024'][2]/span[@class='pill _pill_99gj3_33']  Consumer\n",
      " 5  Industry 2    //a[@class='_tagLink_99gj3_1024'][3]/span[@class='pill _pill_99gj3_33']  Travel, Leisure and Tourism\n",
      "\n",
      "Dynamic fields (0):\n",
      "Not found\n"
     ]
    }
   ],
   "source": [
    "fields = parser.extract_fields(html_snippet=catalog_item.html_snippet)\n",
    "_print_fields(fields)"
   ],
   "metadata": {
    "collapsed": false,
    "ExecuteTime": {
     "end_time": "2024-05-22T07:08:11.980211Z",
     "start_time": "2024-05-22T07:08:03.941508Z"
    }
   },
   "id": "61b05e7bab0a9043",
   "execution_count": 35
  },
  {
   "cell_type": "markdown",
   "source": [
    "You can highlight detected fields:"
   ],
   "metadata": {
    "collapsed": false
   }
  },
  {
   "cell_type": "code",
   "outputs": [],
   "source": [
    "# Method to highlight fields\n",
    "def highlight_fields(fields: WebpageFields):\n",
    "    colors = ['#539878', '#5499D1', '#549B9A', '#5982A3', '#5A5499', '#68D5A2', '#75DDDC', '#8981D7', '#98D1FF',\n",
    "              '#98FFCF', '#9D5A5A', '#A05789', '#AAFFFE', '#C6C1FF', '#CD7CB3', '#D17A79', '#FAB4E4', '#FFB1B0']\n",
    "    for index, field in enumerate(fields.static_fields):\n",
    "        crawler.highlight_by_xpath(field.field_xpath, colors[index % len(colors)], border=4)\n",
    "    for index, field in enumerate(fields.dynamic_fields):\n",
    "        color = colors[index % len(colors)]\n",
    "        crawler.highlight_by_xpath(field.value_xpath, color, border=3)\n",
    "        crawler.highlight_by_xpath(field.name_xpath, color, border=3)"
   ],
   "metadata": {
    "collapsed": false,
    "ExecuteTime": {
     "end_time": "2024-05-22T07:08:24.899365Z",
     "start_time": "2024-05-22T07:08:24.860360Z"
    }
   },
   "id": "78308dd8b41d151a",
   "execution_count": 36
  },
  {
   "cell_type": "code",
   "execution_count": 37,
   "outputs": [],
   "source": [
    "highlight_fields(fields)"
   ],
   "metadata": {
    "collapsed": false,
    "ExecuteTime": {
     "end_time": "2024-05-22T07:08:26.333126Z",
     "start_time": "2024-05-22T07:08:26.172491Z"
    }
   }
  },
  {
   "cell_type": "markdown",
   "source": [
    "### Step 3.4 Scrape data\n",
    "\n",
    "We are almost there!"
   ],
   "metadata": {
    "collapsed": false
   }
  },
  {
   "cell_type": "markdown",
   "source": [
    "First of all, let's set some limits for simplicity:"
   ],
   "metadata": {
    "collapsed": false
   }
  },
  {
   "cell_type": "code",
   "execution_count": 39,
   "outputs": [],
   "source": [
    "max_pages = 5  # How many catalog pages we should iterate over\n",
    "max_rows = 200  # How many rows to scrape before stop"
   ],
   "metadata": {
    "collapsed": false,
    "ExecuteTime": {
     "end_time": "2024-05-22T07:08:56.236307Z",
     "start_time": "2024-05-22T07:08:56.171282Z"
    }
   }
  },
  {
   "cell_type": "markdown",
   "source": [
    "Let's init scraper config that you can reuse later:"
   ],
   "metadata": {
    "collapsed": false
   }
  },
  {
   "cell_type": "code",
   "execution_count": 40,
   "outputs": [],
   "source": [
    "config = ScraperConfig(\n",
    "    start_url=url,\n",
    "    page_type=page_type,\n",
    "    pagination=pagination,\n",
    "    catalog_item=catalog_item,\n",
    "    open_nested_pages=False,\n",
    "    fields=fields,\n",
    "    max_pages=max_pages,\n",
    "    max_rows=max_rows\n",
    ")"
   ],
   "metadata": {
    "collapsed": false,
    "ExecuteTime": {
     "end_time": "2024-05-22T07:08:58.134962Z",
     "start_time": "2024-05-22T07:08:58.068268Z"
    }
   }
  },
  {
   "cell_type": "markdown",
   "source": [
    "Now we need to create a Scraper instance using Crawler and ScraperConfig. It will iterate over catalog cards, automatically handle pagination and data-extracting."
   ],
   "metadata": {
    "collapsed": false
   }
  },
  {
   "cell_type": "code",
   "execution_count": 41,
   "outputs": [
    {
     "name": "stderr",
     "output_type": "stream",
     "text": [
      "320it [00:22, 14.18it/s]                        \n"
     ]
    }
   ],
   "source": [
    "scraper = Scraper(config, crawler)\n",
    "\n",
    "rows = []\n",
    "for item in tqdm(scraper.scrape(), total=max_rows):\n",
    "    rows.append(item)"
   ],
   "metadata": {
    "collapsed": false,
    "ExecuteTime": {
     "end_time": "2024-05-22T07:09:27.774956Z",
     "start_time": "2024-05-22T07:09:05.170281Z"
    }
   }
  },
  {
   "cell_type": "markdown",
   "source": [
    "#### Congratulations! We got the final data!"
   ],
   "metadata": {
    "collapsed": false
   }
  },
  {
   "cell_type": "code",
   "execution_count": 42,
   "outputs": [
    {
     "data": {
      "text/plain": "[{'Company Name': 'Airbnb',\n  'Location': 'San Francisco, CA, USA',\n  'Description': 'Book accommodations around the world.',\n  'Batch': None,\n  'Industry 1': None,\n  'Industry 2': None},\n {'Company Name': 'Amplitude',\n  'Location': 'San Francisco, CA, USA',\n  'Description': 'Digital Analytics Platform',\n  'Batch': None,\n  'Industry 1': None,\n  'Industry 2': None},\n {'Company Name': 'Coinbase',\n  'Location': 'San Francisco, CA, USA',\n  'Description': 'Buy, sell, and manage cryptocurrencies.',\n  'Batch': None,\n  'Industry 1': None,\n  'Industry 2': None},\n {'Company Name': 'DoorDash',\n  'Location': 'San Francisco, CA, USA',\n  'Description': 'Restaurant delivery.',\n  'Batch': None,\n  'Industry 1': None,\n  'Industry 2': None},\n {'Company Name': 'Dropbox',\n  'Location': 'San Francisco, CA, USA',\n  'Description': 'Backup and share files in the cloud.',\n  'Batch': None,\n  'Industry 1': None,\n  'Industry 2': None},\n {'Company Name': 'Ginkgo Bioworks',\n  'Location': 'Boston, MA, USA',\n  'Description': 'Our mission is to make biology easier to engineer.',\n  'Batch': None,\n  'Industry 1': None,\n  'Industry 2': None},\n {'Company Name': 'GitLab',\n  'Location': 'San Francisco, CA, USA',\n  'Description': 'A complete DevOps platform delivered as a single application.',\n  'Batch': None,\n  'Industry 1': None,\n  'Industry 2': None},\n {'Company Name': 'Instacart',\n  'Location': 'San Francisco, CA, USA',\n  'Description': 'Marketplace for grocery delivery and pickup',\n  'Batch': None,\n  'Industry 1': None,\n  'Industry 2': None},\n {'Company Name': 'Matterport',\n  'Location': 'Sunnyvale, CA, USA',\n  'Description': 'Turn physical objects and environments into 3D models in seconds.',\n  'Batch': None,\n  'Industry 1': None,\n  'Industry 2': None},\n {'Company Name': 'PagerDuty',\n  'Location': 'San Francisco, CA, USA',\n  'Description': 'Real-time visibility into critical apps and services all in one place.',\n  'Batch': None,\n  'Industry 1': None,\n  'Industry 2': None},\n {'Company Name': 'Weave',\n  'Location': 'Lehi, UT, USA',\n  'Description': 'Customer communication and payments platform.',\n  'Batch': None,\n  'Industry 1': None,\n  'Industry 2': None},\n {'Company Name': 'Oklo',\n  'Location': 'Santa Clara, CA, USA',\n  'Description': 'Emission free, always on power from advanced fission power plants.',\n  'Batch': None,\n  'Industry 1': None,\n  'Industry 2': None},\n {'Company Name': 'Embark Trucks',\n  'Location': 'San Francisco, CA, USA',\n  'Description': 'Self-driving semi trucks.',\n  'Batch': None,\n  'Industry 1': None,\n  'Industry 2': None},\n {'Company Name': 'Lucira Health',\n  'Location': 'Emeryville, CA, USA',\n  'Description': 'Next generation infectious disease test kits',\n  'Batch': None,\n  'Industry 1': None,\n  'Industry 2': None},\n {'Company Name': 'Notable Labs',\n  'Location': 'Foster City, CA, USA',\n  'Description': 'Personalized drug discovery for blood cancer.',\n  'Batch': None,\n  'Industry 1': None,\n  'Industry 2': None},\n {'Company Name': 'Rigetti Computing',\n  'Location': 'Berkeley, CA, USA',\n  'Description': 'Quantum coherent supercomputing.',\n  'Batch': None,\n  'Industry 1': None,\n  'Industry 2': None},\n {'Company Name': 'Pardes Biosciences',\n  'Location': 'San Francisco, CA, USA',\n  'Description': 'We break viruses',\n  'Batch': None,\n  'Industry 1': None,\n  'Industry 2': None},\n {'Company Name': 'Momentus',\n  'Location': 'Santa Clara, CA, USA',\n  'Description': 'The space infrastructure services company',\n  'Batch': None,\n  'Industry 1': None,\n  'Industry 2': None},\n {'Company Name': 'Presto',\n  'Location': 'San Carlos, CA, USA',\n  'Description': 'Digital meets physical for big chain restaurants',\n  'Batch': None,\n  'Industry 1': None,\n  'Industry 2': None},\n {'Company Name': 'Bellabeat',\n  'Location': 'San Francisco, CA, USA',\n  'Description': \"Tech-powered women's wellness.\",\n  'Batch': None,\n  'Industry 1': None,\n  'Industry 2': None},\n {'Company Name': 'Benchling',\n  'Location': 'San Francisco, CA, USA',\n  'Description': 'Unlocking the power of biotech with modern software for modern science',\n  'Batch': None,\n  'Industry 1': None,\n  'Industry 2': None},\n {'Company Name': 'Bird',\n  'Location': 'Amsterdam, NH, Netherlands',\n  'Description': 'The world’s largest omnichannel communications platform',\n  'Batch': None,\n  'Industry 1': None,\n  'Industry 2': None},\n {'Company Name': 'Brex',\n  'Location': 'San Francisco, CA, USA',\n  'Description': 'Business accounts, corporate cards, and spend management software.',\n  'Batch': None,\n  'Industry 1': None,\n  'Industry 2': None},\n {'Company Name': 'Checkr',\n  'Location': 'San Francisco, CA, USA',\n  'Description': 'People infrastructure for the future of work',\n  'Batch': None,\n  'Industry 1': None,\n  'Industry 2': None},\n {'Company Name': 'Clipboard Health',\n  'Location': 'Remote',\n  'Description': 'Connects healthcare facilities with nurses nearby.',\n  'Batch': None,\n  'Industry 1': None,\n  'Industry 2': None},\n {'Company Name': 'Deel',\n  'Location': 'San Francisco, CA, USA',\n  'Description': 'The all-in-one HR and payroll platform for global teams',\n  'Batch': None,\n  'Industry 1': None,\n  'Industry 2': None},\n {'Company Name': 'EquipmentShare',\n  'Location': 'Columbia, MO, USA',\n  'Description': 'Cloud solutions for the construction industry.',\n  'Batch': None,\n  'Industry 1': None,\n  'Industry 2': None},\n {'Company Name': 'Faire',\n  'Location': 'San Francisco, CA, USA',\n  'Description': 'The global online platform empowering independent retail.',\n  'Batch': None,\n  'Industry 1': None,\n  'Industry 2': None},\n {'Company Name': 'Flock Safety',\n  'Location': 'Atlanta, GA, USA',\n  'Description': 'The first public safety operating system that eliminates crime.',\n  'Batch': None,\n  'Industry 1': None,\n  'Industry 2': None},\n {'Company Name': 'Go1',\n  'Location': 'San Francisco, CA, USA',\n  'Description': 'A learning platform that enables you to train your staff or customers.',\n  'Batch': None,\n  'Industry 1': None,\n  'Industry 2': None},\n {'Company Name': 'GOAT Group',\n  'Location': 'Los Angeles, CA, USA',\n  'Description': 'Platform for the greatest products from the past, present and future.',\n  'Batch': None,\n  'Industry 1': None,\n  'Industry 2': None},\n {'Company Name': 'Groww',\n  'Location': 'Bengaluru, KA, India',\n  'Description': 'Making financial services simple, transparent and delightful.',\n  'Batch': None,\n  'Industry 1': None,\n  'Industry 2': None},\n {'Company Name': 'GrubMarket',\n  'Location': 'San Francisco, CA, USA',\n  'Description': 'AI-powered technology enabler and digital transformer of American…',\n  'Batch': None,\n  'Industry 1': None,\n  'Industry 2': None},\n {'Company Name': 'Gusto',\n  'Location': 'San Francisco, CA, USA',\n  'Description': 'Provides growing businesses with everything to take care of their team',\n  'Batch': None,\n  'Industry 1': None,\n  'Industry 2': None},\n {'Company Name': 'Honeylove',\n  'Location': 'San Francisco, CA, USA',\n  'Description': 'Honeylove makes functional undergarments for women',\n  'Batch': None,\n  'Industry 1': None,\n  'Industry 2': None},\n {'Company Name': 'Meesho',\n  'Location': 'Bengaluru, KA, India',\n  'Description': 'Democratizing internet commerce for everyone in India',\n  'Batch': None,\n  'Industry 1': None,\n  'Industry 2': None},\n {'Company Name': 'Mixpanel',\n  'Location': 'San Francisco, CA, USA',\n  'Description': 'Mixpanel is event analytics for builders that need answers.',\n  'Batch': None,\n  'Industry 1': None,\n  'Industry 2': None},\n {'Company Name': 'Newfront',\n  'Location': 'San Francisco, CA, USA',\n  'Description': 'Modern insurance brokerage.',\n  'Batch': None,\n  'Industry 1': None,\n  'Industry 2': None},\n {'Company Name': 'Nowports',\n  'Location': '',\n  'Description': 'The core engine of supply chain in LATAM',\n  'Batch': None,\n  'Industry 1': None,\n  'Industry 2': None},\n {'Company Name': 'Odeko',\n  'Location': 'New York, NY, USA',\n  'Description': 'Our operations software makes it easier to run--and grow--your cafe',\n  'Batch': None,\n  'Industry 1': None,\n  'Industry 2': None},\n {'Company Name': 'Optimizely',\n  'Location': 'San Francisco, CA, USA',\n  'Description': 'The first all-in-one operating system for marketing',\n  'Batch': None,\n  'Industry 1': None,\n  'Industry 2': None},\n {'Company Name': 'Podium',\n  'Location': 'Lehi, UT, USA',\n  'Description': 'Get more leads. Make more money.',\n  'Batch': None,\n  'Industry 1': None,\n  'Industry 2': None},\n {'Company Name': 'Rappi',\n  'Location': 'Bogotá, Bogota, Colombia',\n  'Description': 'On-demand delivery and financial services for Latin America.',\n  'Batch': None,\n  'Industry 1': None,\n  'Industry 2': None},\n {'Company Name': 'Razorpay',\n  'Location': 'Bengaluru, KA, India',\n  'Description': \"India's only full-stack financial solutions company for businesses.\",\n  'Batch': None,\n  'Industry 1': None,\n  'Industry 2': None},\n {'Company Name': 'Reddit',\n  'Location': 'San Francisco, CA, USA',\n  'Description': 'The frontpage of the internet.',\n  'Batch': None,\n  'Industry 1': None,\n  'Industry 2': None},\n {'Company Name': 'Rippling',\n  'Location': 'San Francisco, CA, USA',\n  'Description': 'One place to run all your HR, IT, and Finance. Globally.',\n  'Batch': None,\n  'Industry 1': None,\n  'Industry 2': None},\n {'Company Name': 'Scale AI',\n  'Location': 'San Francisco, CA, USA',\n  'Description': 'Data-centric infrastructure to accelerate the development of AI',\n  'Batch': None,\n  'Industry 1': None,\n  'Industry 2': None},\n {'Company Name': 'ShipBob',\n  'Location': 'Chicago, IL, USA',\n  'Description': 'Providing Amazon level logistics to e-commerce businesses.',\n  'Batch': None,\n  'Industry 1': None,\n  'Industry 2': None},\n {'Company Name': 'SmartAsset',\n  'Location': 'New York, NY, USA',\n  'Description': 'Marketplace connecting consumers to financial advisors',\n  'Batch': None,\n  'Industry 1': None,\n  'Industry 2': None},\n {'Company Name': 'Stripe',\n  'Location': 'San Francisco, CA, USA',\n  'Description': 'Economic infrastructure for the internet.',\n  'Batch': None,\n  'Industry 1': None,\n  'Industry 2': None},\n {'Company Name': 'Truebill',\n  'Location': 'Silver Spring, MD, USA',\n  'Description': 'Live your best financial life',\n  'Batch': None,\n  'Industry 1': None,\n  'Industry 2': None},\n {'Company Name': 'Wave',\n  'Location': 'Dakar, Dakar Region, Senegal',\n  'Description': 'Mobile money app for Africa',\n  'Batch': None,\n  'Industry 1': None,\n  'Industry 2': None},\n {'Company Name': 'Webflow',\n  'Location': 'San Francisco, CA, USA',\n  'Description': 'Professional website design and publishing platform.',\n  'Batch': None,\n  'Industry 1': None,\n  'Industry 2': None},\n {'Company Name': 'Whatnot',\n  'Location': 'Los Angeles, CA, USA',\n  'Description': 'Whatnot is the largest livestream shopping platform in the U.S.',\n  'Batch': None,\n  'Industry 1': None,\n  'Industry 2': None},\n {'Company Name': 'Zapier',\n  'Location': 'Mountain View, CA, USA',\n  'Description': 'The easiest way to automate your work.',\n  'Batch': None,\n  'Industry 1': None,\n  'Industry 2': None},\n {'Company Name': 'Zepto',\n  'Location': 'MH, India',\n  'Description': '10-Minute Grocery Delivery in India',\n  'Batch': None,\n  'Industry 1': None,\n  'Industry 2': None},\n {'Company Name': 'Algolia',\n  'Location': 'San Francisco, CA, USA',\n  'Description': 'A developer-friendly and enterprise-grade search API.',\n  'Batch': None,\n  'Industry 1': None,\n  'Industry 2': None},\n {'Company Name': 'Scribd',\n  'Location': 'San Francisco, CA, USA',\n  'Description': \"World's largest online library.\",\n  'Batch': None,\n  'Industry 1': None,\n  'Industry 2': None},\n {'Company Name': 'Flexport',\n  'Location': 'San Francisco, CA, USA',\n  'Description': 'Platform for global logistics.',\n  'Batch': None,\n  'Industry 1': None,\n  'Industry 2': None},\n {'Company Name': 'Focal Systems',\n  'Location': 'New York, NY, USA',\n  'Description': 'Building the Operating System for B&M Retail using Deep Learning',\n  'Batch': None,\n  'Industry 1': None,\n  'Industry 2': None},\n {'Company Name': 'Mio',\n  'Location': 'Austin, TX, USA',\n  'Description': 'Mio powers seamless communication between workplace chat apps.',\n  'Batch': None,\n  'Industry 1': None,\n  'Industry 2': None},\n {'Company Name': 'Daily',\n  'Location': 'San Francisco, CA, USA',\n  'Description': 'The best video experiences run on Daily',\n  'Batch': None,\n  'Industry 1': None,\n  'Industry 2': None},\n {'Company Name': 'Petcube',\n  'Location': 'San Francisco, CA, USA',\n  'Description': 'Petcube is on the mission to improve lives of pets and pet owners…',\n  'Batch': None,\n  'Industry 1': None,\n  'Industry 2': None},\n {'Company Name': 'Outschool',\n  'Location': 'San Francisco, CA, USA',\n  'Description': 'A live online learning platform that empowers kids ages 3–18.',\n  'Batch': None,\n  'Industry 1': None,\n  'Industry 2': None},\n {'Company Name': 'Mason',\n  'Location': 'Seattle, WA, USA',\n  'Description': 'Mason is the fastest way to take smart devices from idea to end user',\n  'Batch': None,\n  'Industry 1': None,\n  'Industry 2': None},\n {'Company Name': 'MagicBus',\n  'Location': 'Los Angeles, CA, USA',\n  'Description': 'We make vanpool simple.',\n  'Batch': None,\n  'Industry 1': None,\n  'Industry 2': None},\n {'Company Name': 'Tovala',\n  'Location': 'Chicago, IL, USA',\n  'Description': 'A smart-oven-paired subscription meal service.',\n  'Batch': None,\n  'Industry 1': None,\n  'Industry 2': None},\n {'Company Name': 'iSono Health',\n  'Location': 'San Francisco, CA, USA',\n  'Description': 'AI-powered platform for Accessible and Personalized Breast Health…',\n  'Batch': None,\n  'Industry 1': None,\n  'Industry 2': None},\n {'Company Name': 'GetAccept',\n  'Location': 'San Francisco, CA, USA',\n  'Description': 'Close deals faster. Digitally.',\n  'Batch': None,\n  'Industry 1': None,\n  'Industry 2': None},\n {'Company Name': 'Chatfuel',\n  'Location': 'San Francisco, CA, USA',\n  'Description': 'Platform to easily create chatbots to engage with audiences on…',\n  'Batch': None,\n  'Industry 1': None,\n  'Industry 2': None},\n {'Company Name': 'Yardbook',\n  'Location': 'San Mateo, CA, USA',\n  'Description': 'Marketplace & Software Revolutionizing Yard Care',\n  'Batch': None,\n  'Industry 1': None,\n  'Industry 2': None},\n {'Company Name': 'GoCardless',\n  'Location': 'London, England, United Kingdom',\n  'Description': 'We’re building the world’s bank payment network.',\n  'Batch': None,\n  'Industry 1': None,\n  'Industry 2': None},\n {'Company Name': 'Stealth Worker',\n  'Location': 'Menlo Park, CA, USA',\n  'Description': 'Information Security (Cyber Security), Compliance and Privacy (GDPR &…',\n  'Batch': None,\n  'Industry 1': None,\n  'Industry 2': None},\n {'Company Name': 'Deepgram',\n  'Location': 'San Francisco, CA, USA',\n  'Description': 'Building foundational AI for speech transcription and understanding.',\n  'Batch': None,\n  'Industry 1': None,\n  'Industry 2': None},\n {'Company Name': 'SOUNDBOKS',\n  'Location': 'Copenhagen, Denmark',\n  'Description': \"We're creating the loudest battery-driven speaker on the market\",\n  'Batch': None,\n  'Industry 1': None,\n  'Industry 2': None},\n {'Company Name': 'Lattice',\n  'Location': 'San Francisco, CA, USA',\n  'Description': 'Modern people management platform.',\n  'Batch': None,\n  'Industry 1': None,\n  'Industry 2': None},\n {'Company Name': 'Mux',\n  'Location': 'San Francisco, CA, USA',\n  'Description': 'Video infrastructure for developers',\n  'Batch': None,\n  'Industry 1': None,\n  'Industry 2': None},\n {'Company Name': 'Human Interest',\n  'Location': 'San Francisco, CA, USA',\n  'Description': 'The 401(k) for small and medium-sized businesses.',\n  'Batch': None,\n  'Industry 1': None,\n  'Industry 2': None},\n {'Company Name': 'Flirtey (SkyDrop)',\n  'Location': 'Reno, NV, USA',\n  'Description': 'Flirtey is the world’s first commercial drone delivery service and…',\n  'Batch': None,\n  'Industry 1': None,\n  'Industry 2': None},\n {'Company Name': 'Eight Sleep',\n  'Location': 'New York, NY, USA',\n  'Description': 'The sleep fitness company.',\n  'Batch': None,\n  'Industry 1': None,\n  'Industry 2': None},\n {'Company Name': 'Airbnb',\n  'Location': 'San Francisco, CA, USA',\n  'Description': 'Book accommodations around the world.',\n  'Batch': None,\n  'Industry 1': None,\n  'Industry 2': None},\n {'Company Name': 'Amplitude',\n  'Location': 'San Francisco, CA, USA',\n  'Description': 'Digital Analytics Platform',\n  'Batch': None,\n  'Industry 1': None,\n  'Industry 2': None},\n {'Company Name': 'Coinbase',\n  'Location': 'San Francisco, CA, USA',\n  'Description': 'Buy, sell, and manage cryptocurrencies.',\n  'Batch': None,\n  'Industry 1': None,\n  'Industry 2': None},\n {'Company Name': 'DoorDash',\n  'Location': 'San Francisco, CA, USA',\n  'Description': 'Restaurant delivery.',\n  'Batch': None,\n  'Industry 1': None,\n  'Industry 2': None},\n {'Company Name': 'Dropbox',\n  'Location': 'San Francisco, CA, USA',\n  'Description': 'Backup and share files in the cloud.',\n  'Batch': None,\n  'Industry 1': None,\n  'Industry 2': None},\n {'Company Name': 'Ginkgo Bioworks',\n  'Location': 'Boston, MA, USA',\n  'Description': 'Our mission is to make biology easier to engineer.',\n  'Batch': None,\n  'Industry 1': None,\n  'Industry 2': None},\n {'Company Name': 'GitLab',\n  'Location': 'San Francisco, CA, USA',\n  'Description': 'A complete DevOps platform delivered as a single application.',\n  'Batch': None,\n  'Industry 1': None,\n  'Industry 2': None},\n {'Company Name': 'Instacart',\n  'Location': 'San Francisco, CA, USA',\n  'Description': 'Marketplace for grocery delivery and pickup',\n  'Batch': None,\n  'Industry 1': None,\n  'Industry 2': None},\n {'Company Name': 'Matterport',\n  'Location': 'Sunnyvale, CA, USA',\n  'Description': 'Turn physical objects and environments into 3D models in seconds.',\n  'Batch': None,\n  'Industry 1': None,\n  'Industry 2': None},\n {'Company Name': 'PagerDuty',\n  'Location': 'San Francisco, CA, USA',\n  'Description': 'Real-time visibility into critical apps and services all in one place.',\n  'Batch': None,\n  'Industry 1': None,\n  'Industry 2': None},\n {'Company Name': 'Weave',\n  'Location': 'Lehi, UT, USA',\n  'Description': 'Customer communication and payments platform.',\n  'Batch': None,\n  'Industry 1': None,\n  'Industry 2': None},\n {'Company Name': 'Oklo',\n  'Location': 'Santa Clara, CA, USA',\n  'Description': 'Emission free, always on power from advanced fission power plants.',\n  'Batch': None,\n  'Industry 1': None,\n  'Industry 2': None},\n {'Company Name': 'Embark Trucks',\n  'Location': 'San Francisco, CA, USA',\n  'Description': 'Self-driving semi trucks.',\n  'Batch': None,\n  'Industry 1': None,\n  'Industry 2': None},\n {'Company Name': 'Lucira Health',\n  'Location': 'Emeryville, CA, USA',\n  'Description': 'Next generation infectious disease test kits',\n  'Batch': None,\n  'Industry 1': None,\n  'Industry 2': None},\n {'Company Name': 'Notable Labs',\n  'Location': 'Foster City, CA, USA',\n  'Description': 'Personalized drug discovery for blood cancer.',\n  'Batch': None,\n  'Industry 1': None,\n  'Industry 2': None},\n {'Company Name': 'Rigetti Computing',\n  'Location': 'Berkeley, CA, USA',\n  'Description': 'Quantum coherent supercomputing.',\n  'Batch': None,\n  'Industry 1': None,\n  'Industry 2': None},\n {'Company Name': 'Pardes Biosciences',\n  'Location': 'San Francisco, CA, USA',\n  'Description': 'We break viruses',\n  'Batch': None,\n  'Industry 1': None,\n  'Industry 2': None},\n {'Company Name': 'Momentus',\n  'Location': 'Santa Clara, CA, USA',\n  'Description': 'The space infrastructure services company',\n  'Batch': None,\n  'Industry 1': None,\n  'Industry 2': None},\n {'Company Name': 'Presto',\n  'Location': 'San Carlos, CA, USA',\n  'Description': 'Digital meets physical for big chain restaurants',\n  'Batch': None,\n  'Industry 1': None,\n  'Industry 2': None},\n {'Company Name': 'Bellabeat',\n  'Location': 'San Francisco, CA, USA',\n  'Description': \"Tech-powered women's wellness.\",\n  'Batch': None,\n  'Industry 1': None,\n  'Industry 2': None},\n {'Company Name': 'Benchling',\n  'Location': 'San Francisco, CA, USA',\n  'Description': 'Unlocking the power of biotech with modern software for modern science',\n  'Batch': None,\n  'Industry 1': None,\n  'Industry 2': None},\n {'Company Name': 'Bird',\n  'Location': 'Amsterdam, NH, Netherlands',\n  'Description': 'The world’s largest omnichannel communications platform',\n  'Batch': None,\n  'Industry 1': None,\n  'Industry 2': None},\n {'Company Name': 'Brex',\n  'Location': 'San Francisco, CA, USA',\n  'Description': 'Business accounts, corporate cards, and spend management software.',\n  'Batch': None,\n  'Industry 1': None,\n  'Industry 2': None},\n {'Company Name': 'Checkr',\n  'Location': 'San Francisco, CA, USA',\n  'Description': 'People infrastructure for the future of work',\n  'Batch': None,\n  'Industry 1': None,\n  'Industry 2': None},\n {'Company Name': 'Clipboard Health',\n  'Location': 'Remote',\n  'Description': 'Connects healthcare facilities with nurses nearby.',\n  'Batch': None,\n  'Industry 1': None,\n  'Industry 2': None},\n {'Company Name': 'Deel',\n  'Location': 'San Francisco, CA, USA',\n  'Description': 'The all-in-one HR and payroll platform for global teams',\n  'Batch': None,\n  'Industry 1': None,\n  'Industry 2': None},\n {'Company Name': 'EquipmentShare',\n  'Location': 'Columbia, MO, USA',\n  'Description': 'Cloud solutions for the construction industry.',\n  'Batch': None,\n  'Industry 1': None,\n  'Industry 2': None},\n {'Company Name': 'Faire',\n  'Location': 'San Francisco, CA, USA',\n  'Description': 'The global online platform empowering independent retail.',\n  'Batch': None,\n  'Industry 1': None,\n  'Industry 2': None},\n {'Company Name': 'Flock Safety',\n  'Location': 'Atlanta, GA, USA',\n  'Description': 'The first public safety operating system that eliminates crime.',\n  'Batch': None,\n  'Industry 1': None,\n  'Industry 2': None},\n {'Company Name': 'Go1',\n  'Location': 'San Francisco, CA, USA',\n  'Description': 'A learning platform that enables you to train your staff or customers.',\n  'Batch': None,\n  'Industry 1': None,\n  'Industry 2': None},\n {'Company Name': 'GOAT Group',\n  'Location': 'Los Angeles, CA, USA',\n  'Description': 'Platform for the greatest products from the past, present and future.',\n  'Batch': None,\n  'Industry 1': None,\n  'Industry 2': None},\n {'Company Name': 'Groww',\n  'Location': 'Bengaluru, KA, India',\n  'Description': 'Making financial services simple, transparent and delightful.',\n  'Batch': None,\n  'Industry 1': None,\n  'Industry 2': None},\n {'Company Name': 'GrubMarket',\n  'Location': 'San Francisco, CA, USA',\n  'Description': 'AI-powered technology enabler and digital transformer of American…',\n  'Batch': None,\n  'Industry 1': None,\n  'Industry 2': None},\n {'Company Name': 'Gusto',\n  'Location': 'San Francisco, CA, USA',\n  'Description': 'Provides growing businesses with everything to take care of their team',\n  'Batch': None,\n  'Industry 1': None,\n  'Industry 2': None},\n {'Company Name': 'Honeylove',\n  'Location': 'San Francisco, CA, USA',\n  'Description': 'Honeylove makes functional undergarments for women',\n  'Batch': None,\n  'Industry 1': None,\n  'Industry 2': None},\n {'Company Name': 'Meesho',\n  'Location': 'Bengaluru, KA, India',\n  'Description': 'Democratizing internet commerce for everyone in India',\n  'Batch': None,\n  'Industry 1': None,\n  'Industry 2': None},\n {'Company Name': 'Mixpanel',\n  'Location': 'San Francisco, CA, USA',\n  'Description': 'Mixpanel is event analytics for builders that need answers.',\n  'Batch': None,\n  'Industry 1': None,\n  'Industry 2': None},\n {'Company Name': 'Newfront',\n  'Location': 'San Francisco, CA, USA',\n  'Description': 'Modern insurance brokerage.',\n  'Batch': None,\n  'Industry 1': None,\n  'Industry 2': None},\n {'Company Name': 'Nowports',\n  'Location': '',\n  'Description': 'The core engine of supply chain in LATAM',\n  'Batch': None,\n  'Industry 1': None,\n  'Industry 2': None},\n {'Company Name': 'Odeko',\n  'Location': 'New York, NY, USA',\n  'Description': 'Our operations software makes it easier to run--and grow--your cafe',\n  'Batch': None,\n  'Industry 1': None,\n  'Industry 2': None},\n {'Company Name': 'Optimizely',\n  'Location': 'San Francisco, CA, USA',\n  'Description': 'The first all-in-one operating system for marketing',\n  'Batch': None,\n  'Industry 1': None,\n  'Industry 2': None},\n {'Company Name': 'Podium',\n  'Location': 'Lehi, UT, USA',\n  'Description': 'Get more leads. Make more money.',\n  'Batch': None,\n  'Industry 1': None,\n  'Industry 2': None},\n {'Company Name': 'Rappi',\n  'Location': 'Bogotá, Bogota, Colombia',\n  'Description': 'On-demand delivery and financial services for Latin America.',\n  'Batch': None,\n  'Industry 1': None,\n  'Industry 2': None},\n {'Company Name': 'Razorpay',\n  'Location': 'Bengaluru, KA, India',\n  'Description': \"India's only full-stack financial solutions company for businesses.\",\n  'Batch': None,\n  'Industry 1': None,\n  'Industry 2': None},\n {'Company Name': 'Reddit',\n  'Location': 'San Francisco, CA, USA',\n  'Description': 'The frontpage of the internet.',\n  'Batch': None,\n  'Industry 1': None,\n  'Industry 2': None},\n {'Company Name': 'Rippling',\n  'Location': 'San Francisco, CA, USA',\n  'Description': 'One place to run all your HR, IT, and Finance. Globally.',\n  'Batch': None,\n  'Industry 1': None,\n  'Industry 2': None},\n {'Company Name': 'Scale AI',\n  'Location': 'San Francisco, CA, USA',\n  'Description': 'Data-centric infrastructure to accelerate the development of AI',\n  'Batch': None,\n  'Industry 1': None,\n  'Industry 2': None},\n {'Company Name': 'ShipBob',\n  'Location': 'Chicago, IL, USA',\n  'Description': 'Providing Amazon level logistics to e-commerce businesses.',\n  'Batch': None,\n  'Industry 1': None,\n  'Industry 2': None},\n {'Company Name': 'SmartAsset',\n  'Location': 'New York, NY, USA',\n  'Description': 'Marketplace connecting consumers to financial advisors',\n  'Batch': None,\n  'Industry 1': None,\n  'Industry 2': None},\n {'Company Name': 'Stripe',\n  'Location': 'San Francisco, CA, USA',\n  'Description': 'Economic infrastructure for the internet.',\n  'Batch': None,\n  'Industry 1': None,\n  'Industry 2': None},\n {'Company Name': 'Truebill',\n  'Location': 'Silver Spring, MD, USA',\n  'Description': 'Live your best financial life',\n  'Batch': None,\n  'Industry 1': None,\n  'Industry 2': None},\n {'Company Name': 'Wave',\n  'Location': 'Dakar, Dakar Region, Senegal',\n  'Description': 'Mobile money app for Africa',\n  'Batch': None,\n  'Industry 1': None,\n  'Industry 2': None},\n {'Company Name': 'Webflow',\n  'Location': 'San Francisco, CA, USA',\n  'Description': 'Professional website design and publishing platform.',\n  'Batch': None,\n  'Industry 1': None,\n  'Industry 2': None},\n {'Company Name': 'Whatnot',\n  'Location': 'Los Angeles, CA, USA',\n  'Description': 'Whatnot is the largest livestream shopping platform in the U.S.',\n  'Batch': None,\n  'Industry 1': None,\n  'Industry 2': None},\n {'Company Name': 'Zapier',\n  'Location': 'Mountain View, CA, USA',\n  'Description': 'The easiest way to automate your work.',\n  'Batch': None,\n  'Industry 1': None,\n  'Industry 2': None},\n {'Company Name': 'Zepto',\n  'Location': 'MH, India',\n  'Description': '10-Minute Grocery Delivery in India',\n  'Batch': None,\n  'Industry 1': None,\n  'Industry 2': None},\n {'Company Name': 'Algolia',\n  'Location': 'San Francisco, CA, USA',\n  'Description': 'A developer-friendly and enterprise-grade search API.',\n  'Batch': None,\n  'Industry 1': None,\n  'Industry 2': None},\n {'Company Name': 'Scribd',\n  'Location': 'San Francisco, CA, USA',\n  'Description': \"World's largest online library.\",\n  'Batch': None,\n  'Industry 1': None,\n  'Industry 2': None},\n {'Company Name': 'Flexport',\n  'Location': 'San Francisco, CA, USA',\n  'Description': 'Platform for global logistics.',\n  'Batch': None,\n  'Industry 1': None,\n  'Industry 2': None},\n {'Company Name': 'Focal Systems',\n  'Location': 'New York, NY, USA',\n  'Description': 'Building the Operating System for B&M Retail using Deep Learning',\n  'Batch': None,\n  'Industry 1': None,\n  'Industry 2': None},\n {'Company Name': 'Mio',\n  'Location': 'Austin, TX, USA',\n  'Description': 'Mio powers seamless communication between workplace chat apps.',\n  'Batch': None,\n  'Industry 1': None,\n  'Industry 2': None},\n {'Company Name': 'Daily',\n  'Location': 'San Francisco, CA, USA',\n  'Description': 'The best video experiences run on Daily',\n  'Batch': None,\n  'Industry 1': None,\n  'Industry 2': None},\n {'Company Name': 'Petcube',\n  'Location': 'San Francisco, CA, USA',\n  'Description': 'Petcube is on the mission to improve lives of pets and pet owners…',\n  'Batch': None,\n  'Industry 1': None,\n  'Industry 2': None},\n {'Company Name': 'Outschool',\n  'Location': 'San Francisco, CA, USA',\n  'Description': 'A live online learning platform that empowers kids ages 3–18.',\n  'Batch': None,\n  'Industry 1': None,\n  'Industry 2': None},\n {'Company Name': 'Mason',\n  'Location': 'Seattle, WA, USA',\n  'Description': 'Mason is the fastest way to take smart devices from idea to end user',\n  'Batch': None,\n  'Industry 1': None,\n  'Industry 2': None},\n {'Company Name': 'MagicBus',\n  'Location': 'Los Angeles, CA, USA',\n  'Description': 'We make vanpool simple.',\n  'Batch': None,\n  'Industry 1': None,\n  'Industry 2': None},\n {'Company Name': 'Tovala',\n  'Location': 'Chicago, IL, USA',\n  'Description': 'A smart-oven-paired subscription meal service.',\n  'Batch': None,\n  'Industry 1': None,\n  'Industry 2': None},\n {'Company Name': 'iSono Health',\n  'Location': 'San Francisco, CA, USA',\n  'Description': 'AI-powered platform for Accessible and Personalized Breast Health…',\n  'Batch': None,\n  'Industry 1': None,\n  'Industry 2': None},\n {'Company Name': 'GetAccept',\n  'Location': 'San Francisco, CA, USA',\n  'Description': 'Close deals faster. Digitally.',\n  'Batch': None,\n  'Industry 1': None,\n  'Industry 2': None},\n {'Company Name': 'Chatfuel',\n  'Location': 'San Francisco, CA, USA',\n  'Description': 'Platform to easily create chatbots to engage with audiences on…',\n  'Batch': None,\n  'Industry 1': None,\n  'Industry 2': None},\n {'Company Name': 'Yardbook',\n  'Location': 'San Mateo, CA, USA',\n  'Description': 'Marketplace & Software Revolutionizing Yard Care',\n  'Batch': None,\n  'Industry 1': None,\n  'Industry 2': None},\n {'Company Name': 'GoCardless',\n  'Location': 'London, England, United Kingdom',\n  'Description': 'We’re building the world’s bank payment network.',\n  'Batch': None,\n  'Industry 1': None,\n  'Industry 2': None},\n {'Company Name': 'Stealth Worker',\n  'Location': 'Menlo Park, CA, USA',\n  'Description': 'Information Security (Cyber Security), Compliance and Privacy (GDPR &…',\n  'Batch': None,\n  'Industry 1': None,\n  'Industry 2': None},\n {'Company Name': 'Deepgram',\n  'Location': 'San Francisco, CA, USA',\n  'Description': 'Building foundational AI for speech transcription and understanding.',\n  'Batch': None,\n  'Industry 1': None,\n  'Industry 2': None},\n {'Company Name': 'SOUNDBOKS',\n  'Location': 'Copenhagen, Denmark',\n  'Description': \"We're creating the loudest battery-driven speaker on the market\",\n  'Batch': None,\n  'Industry 1': None,\n  'Industry 2': None},\n {'Company Name': 'Lattice',\n  'Location': 'San Francisco, CA, USA',\n  'Description': 'Modern people management platform.',\n  'Batch': None,\n  'Industry 1': None,\n  'Industry 2': None},\n {'Company Name': 'Mux',\n  'Location': 'San Francisco, CA, USA',\n  'Description': 'Video infrastructure for developers',\n  'Batch': None,\n  'Industry 1': None,\n  'Industry 2': None},\n {'Company Name': 'Human Interest',\n  'Location': 'San Francisco, CA, USA',\n  'Description': 'The 401(k) for small and medium-sized businesses.',\n  'Batch': None,\n  'Industry 1': None,\n  'Industry 2': None},\n {'Company Name': 'Flirtey (SkyDrop)',\n  'Location': 'Reno, NV, USA',\n  'Description': 'Flirtey is the world’s first commercial drone delivery service and…',\n  'Batch': None,\n  'Industry 1': None,\n  'Industry 2': None},\n {'Company Name': 'Eight Sleep',\n  'Location': 'New York, NY, USA',\n  'Description': 'The sleep fitness company.',\n  'Batch': None,\n  'Industry 1': None,\n  'Industry 2': None},\n {'Company Name': 'Instawork',\n  'Location': 'San Francisco, CA, USA',\n  'Description': 'A flexible work app that connects businesses with hourly workers.',\n  'Batch': None,\n  'Industry 1': None,\n  'Industry 2': None},\n {'Company Name': 'Cofactor Genomics',\n  'Location': 'St. Louis, MO, USA',\n  'Description': 'Cofactor closes the precision medicine gap with predictive diagnostics',\n  'Batch': None,\n  'Industry 1': None,\n  'Industry 2': None},\n {'Company Name': 'Click & Grow',\n  'Location': 'Palo Alto, CA, USA',\n  'Description': 'Click & Grow makes indoor urban gardens and farms that take complete…',\n  'Batch': None,\n  'Industry 1': None,\n  'Industry 2': None},\n {'Company Name': 'Bitmovin',\n  'Location': 'San Francisco, CA, USA',\n  'Description': 'Powers OTT online video providers with video developer tools.',\n  'Batch': None,\n  'Industry 1': None,\n  'Industry 2': None},\n {'Company Name': 'TetraScience',\n  'Location': 'Boston, MA, USA',\n  'Description': 'The only R&D data cloud for life sciences',\n  'Batch': None,\n  'Industry 1': None,\n  'Industry 2': None},\n {'Company Name': 'The Ticket Fairy',\n  'Location': 'Los Angeles, CA, USA',\n  'Description': 'Revenue generation for live events',\n  'Batch': None,\n  'Industry 1': None,\n  'Industry 2': None},\n {'Company Name': 'HER',\n  'Location': 'San Francisco, CA, USA',\n  'Description': 'HER helps lesbian, bisexual and queer people meet each other',\n  'Batch': None,\n  'Industry 1': None,\n  'Industry 2': None},\n {'Company Name': 'Font Awesome',\n  'Location': 'Bentonville, AR, USA',\n  'Description': 'Icons and social logos for your website.',\n  'Batch': None,\n  'Industry 1': None,\n  'Industry 2': None},\n {'Company Name': '80,000 Hours',\n  'Location': 'London, England, United Kingdom',\n  'Description': 'An online guide that tells talented graduates how to maximise the…',\n  'Batch': None,\n  'Industry 1': None,\n  'Industry 2': None},\n {'Company Name': 'Xendit',\n  'Location': 'Jakarta, Jakarta, Indonesia',\n  'Description': 'Provides payment infrastructure for Southeast Asia',\n  'Batch': None,\n  'Industry 1': None,\n  'Industry 2': None},\n {'Company Name': 'Shred Video',\n  'Location': 'San Francisco, CA, USA',\n  'Description': 'Shred Video builds automated video & photo systems that allow…',\n  'Batch': None,\n  'Industry 1': None,\n  'Industry 2': None},\n {'Company Name': 'Shape (ShapeScale)',\n  'Location': 'San Francisco, CA, USA',\n  'Description': 'ShapeScale is a personal 3D scanner and fitness tracker that…',\n  'Batch': None,\n  'Industry 1': None,\n  'Industry 2': None},\n {'Company Name': 'Scentbird',\n  'Location': 'New York, NY, USA',\n  'Description': 'Scentbird is a luxury fragrance subscription service.',\n  'Batch': None,\n  'Industry 1': None,\n  'Industry 2': None},\n {'Company Name': 'RedCarpetUp',\n  'Location': 'Gurugram, HR, India',\n  'Description': 'Credit cards for Indians that banks cannot see',\n  'Batch': None,\n  'Industry 1': None,\n  'Industry 2': None},\n {'Company Name': 'Ottimate',\n  'Location': 'New York, NY, USA',\n  'Description': 'Automated Accounts Payable',\n  'Batch': None,\n  'Industry 1': None,\n  'Industry 2': None},\n {'Company Name': 'PickTrace',\n  'Location': 'Los Angeles, CA, USA',\n  'Description': 'Workforce Management for Large Farms',\n  'Batch': None,\n  'Industry 1': None,\n  'Industry 2': None},\n {'Company Name': 'Fountain',\n  'Location': 'San Francisco, CA, USA',\n  'Description': 'High volume hiring made simple',\n  'Batch': None,\n  'Industry 1': None,\n  'Industry 2': None},\n {'Company Name': 'MicroHealth',\n  'Location': 'New York, NY, USA',\n  'Description': 'Digital hematology',\n  'Batch': None,\n  'Industry 1': None,\n  'Industry 2': None},\n {'Company Name': 'Zeplin',\n  'Location': 'San Francisco, CA, USA',\n  'Description': 'Deliver on the Promise of Design',\n  'Batch': None,\n  'Industry 1': None,\n  'Industry 2': None},\n {'Company Name': 'Markhor',\n  'Location': 'San Francisco, CA, USA',\n  'Description': 'Markhor is a DTC company that works with craftsmen to make shoes and…',\n  'Batch': None,\n  'Industry 1': None,\n  'Industry 2': None},\n {'Company Name': 'Circle Medical',\n  'Location': 'San Francisco, CA, USA',\n  'Description': 'Modern primary care via video and in-person',\n  'Batch': None,\n  'Industry 1': None,\n  'Industry 2': None},\n {'Company Name': 'GiveCampus',\n  'Location': 'Washington, DC, USA',\n  'Description': 'The fundraising platform for schools.',\n  'Batch': None,\n  'Industry 1': None,\n  'Industry 2': None},\n {'Company Name': 'Drip Capital',\n  'Location': 'MH, India',\n  'Description': 'Digital trade financing for small businesses',\n  'Batch': None,\n  'Industry 1': None,\n  'Industry 2': None},\n {'Company Name': 'Chaldal',\n  'Location': 'Dhaka, Dhaka Division, Bangladesh',\n  'Description': '',\n  'Batch': None,\n  'Industry 1': None,\n  'Industry 2': None},\n {'Company Name': 'Clerky',\n  'Location': 'Palo Alto, CA, USA',\n  'Description': 'Makes legal paperwork easy for startups and their attorneys.',\n  'Batch': None,\n  'Industry 1': None,\n  'Industry 2': None},\n {'Company Name': 'Bodyport',\n  'Location': 'San Francisco, CA, USA',\n  'Description': 'Predicting and preventing heart disease.',\n  'Batch': None,\n  'Industry 1': None,\n  'Industry 2': None},\n {'Company Name': 'Verge Genomics',\n  'Location': 'San Francisco, CA, USA',\n  'Description': 'We use human data and AI to develop better drugs faster.',\n  'Batch': None,\n  'Industry 1': None,\n  'Industry 2': None},\n {'Company Name': 'Thrive Agritech',\n  'Location': 'New York, NY, USA',\n  'Description': 'We design and manufacture energy efficient LED lighting fixtures for…',\n  'Batch': None,\n  'Industry 1': None,\n  'Industry 2': None},\n {'Company Name': 'Tesorio',\n  'Location': 'San Francisco, CA, USA',\n  'Description': 'Tesorio is the cash flow performance platform that helps finance…',\n  'Batch': None,\n  'Industry 1': None,\n  'Industry 2': None},\n {'Company Name': 'AgileMD',\n  'Location': 'San Francisco, CA, USA',\n  'Description': 'Predictive analytics and clinical pathways for hospitals',\n  'Batch': None,\n  'Industry 1': None,\n  'Industry 2': None},\n {'Company Name': 'Reach Labs',\n  'Location': 'Emeryville, CA, USA',\n  'Description': 'Long range, wireless energy distribution that scales',\n  'Batch': None,\n  'Industry 1': None,\n  'Industry 2': None},\n {'Company Name': 'SunFarmer',\n  'Location': 'Kathmandu, Central Development Region, Nepal',\n  'Description': 'Reliable and affordable solar energy in developing countries.',\n  'Batch': None,\n  'Industry 1': None,\n  'Industry 2': None},\n {'Company Name': 'Confident LIMS',\n  'Location': 'Palo Alto, CA, USA',\n  'Description': 'Laboratory Information Management System (LIMS) serving…',\n  'Batch': None,\n  'Industry 1': None,\n  'Industry 2': None},\n {'Company Name': 'Branch8',\n  'Location': 'Kowloon, Hong Kong',\n  'Description': 'Branch8 helps sellers to list and manage products on e-commerce…',\n  'Batch': None,\n  'Industry 1': None,\n  'Industry 2': None},\n {'Company Name': 'Heroic Labs',\n  'Location': 'London, England, United Kingdom',\n  'Description': 'Social Infrastructure for Games; Makers of Nakama game server, Satori…',\n  'Batch': None,\n  'Industry 1': None,\n  'Industry 2': None},\n {'Company Name': 'SnapMagic',\n  'Location': 'San Francisco, CA, USA',\n  'Description': 'AI copilot for electronics design',\n  'Batch': None,\n  'Industry 1': None,\n  'Industry 2': None},\n {'Company Name': 'Scope AR',\n  'Location': 'San Francisco, CA, USA',\n  'Description': 'Scope AR is the leading provider of User Guided Augmented Reality…',\n  'Batch': None,\n  'Industry 1': None,\n  'Industry 2': None},\n {'Company Name': 'PartnerStack',\n  'Location': 'Toronto, ON, Canada',\n  'Description': 'PartnerStack is a full stack solution for partnerships.',\n  'Batch': None,\n  'Industry 1': None,\n  'Industry 2': None},\n {'Company Name': 'Assembly',\n  'Location': 'Redwood City, CA, USA',\n  'Description': 'We build trust, reduce waste, and reward better labor practices.',\n  'Batch': None,\n  'Industry 1': None,\n  'Industry 2': None},\n {'Company Name': 'Gemnote',\n  'Location': 'San Leandro, CA, USA',\n  'Description': 'Gemnote is the easiest way to design, create and send custom products.',\n  'Batch': None,\n  'Industry 1': None,\n  'Industry 2': None},\n {'Company Name': 'New Story',\n  'Location': 'Atlanta, GA, USA',\n  'Description': 'We pioneer solutions to end the global housing crisis by empowering…',\n  'Batch': None,\n  'Industry 1': None,\n  'Industry 2': None},\n {'Company Name': 'Ironclad',\n  'Location': 'San Francisco, CA, USA',\n  'Description': 'Digital contracting platform for legal teams.',\n  'Batch': None,\n  'Industry 1': None,\n  'Industry 2': None},\n {'Company Name': 'Leaders In Tech (formerly InnerSpace)',\n  'Location': 'San Francisco, CA, USA',\n  'Description': 'Helping founders improve themselves, their companies, and the world.',\n  'Batch': None,\n  'Industry 1': None,\n  'Industry 2': None},\n {'Company Name': 'teaBOT',\n  'Location': 'Toronto, ON, Canada',\n  'Description': 'A robot that makes tea!',\n  'Batch': None,\n  'Industry 1': None,\n  'Industry 2': None},\n {'Company Name': 'Teleport',\n  'Location': 'Oakland, CA, USA',\n  'Description': 'The easiest, most secure way to access all your infrastructure',\n  'Batch': None,\n  'Industry 1': None,\n  'Industry 2': None},\n {'Company Name': 'Lugg',\n  'Location': 'San Francisco, CA, USA',\n  'Description': 'Move anything, anytime, anywhere',\n  'Batch': None,\n  'Industry 1': None,\n  'Industry 2': None},\n {'Company Name': 'Shasqi',\n  'Location': 'San Francisco, CA, USA',\n  'Description': 'Pioneering Click Chemistry in Humans to change cancer outcomes',\n  'Batch': None,\n  'Industry 1': None,\n  'Industry 2': None},\n {'Company Name': 'Mashgin',\n  'Location': 'Palo Alto, CA, USA',\n  'Description': 'Self-Checkout using Computer Vision.',\n  'Batch': None,\n  'Industry 1': None,\n  'Industry 2': None},\n {'Company Name': 'Spire Health',\n  'Location': 'San Francisco, CA, USA',\n  'Description': 'Remote patient monitoring for lung disease patients.',\n  'Batch': None,\n  'Industry 1': None,\n  'Industry 2': None},\n {'Company Name': 'NimbleRx',\n  'Location': 'Redwood City, CA, USA',\n  'Description': 'On-demand prescription delivery.',\n  'Batch': None,\n  'Industry 1': None,\n  'Industry 2': None},\n {'Company Name': 'Quartzy',\n  'Location': 'Hayward, CA, USA',\n  'Description': 'Marketplace for life science supplies.',\n  'Batch': None,\n  'Industry 1': None,\n  'Industry 2': None},\n {'Company Name': 'Replika',\n  'Location': 'San Francisco, CA, USA',\n  'Description': 'Replika is an AI friend that you can talk to designed to make you…',\n  'Batch': None,\n  'Industry 1': None,\n  'Industry 2': None},\n {'Company Name': 'Tara AI',\n  'Location': 'San Jose, CA, USA',\n  'Description': 'Meet Tara AI, your new engineering efficiency co-pilot.',\n  'Batch': None,\n  'Industry 1': None,\n  'Industry 2': None},\n {'Company Name': 'Flip',\n  'Location': 'Los Angeles, CA, USA',\n  'Description': 'Community-driven marketplace for sneakers.',\n  'Batch': None,\n  'Industry 1': None,\n  'Industry 2': None},\n {'Company Name': 'X-Zell',\n  'Location': 'Singapore, Singapore',\n  'Description': 'Early, pain-free cancer detection.',\n  'Batch': None,\n  'Industry 1': None,\n  'Industry 2': None},\n {'Company Name': 'Transcriptic',\n  'Location': 'Menlo Park, CA, USA',\n  'Description': 'The robotic cloud laboratory for the life sciences.',\n  'Batch': None,\n  'Industry 1': None,\n  'Industry 2': None},\n {'Company Name': 'Zenflow',\n  'Location': 'South San Francisco, CA, USA',\n  'Description': 'Medical device that provides a more effective, less invasive…',\n  'Batch': None,\n  'Industry 1': None,\n  'Industry 2': None},\n {'Company Name': 'Tab',\n  'Location': 'London, England, United Kingdom',\n  'Description': 'Revolutionising the way travellers discover, plan and book a trip',\n  'Batch': None,\n  'Industry 1': None,\n  'Industry 2': None},\n {'Company Name': 'Science Exchange',\n  'Location': 'Palo Alto, CA, USA',\n  'Description': 'Powering scientific outsourcing',\n  'Batch': None,\n  'Industry 1': None,\n  'Industry 2': None},\n {'Company Name': 'Priime',\n  'Location': 'San Francisco, CA, USA',\n  'Description': 'Priime is a company dedicated to advancements in technology around…',\n  'Batch': None,\n  'Industry 1': None,\n  'Industry 2': None},\n {'Company Name': 'Streak',\n  'Location': 'Remote',\n  'Description': 'Streak transforms Gmail into a powerful CRM',\n  'Batch': None,\n  'Industry 1': None,\n  'Industry 2': None},\n {'Company Name': 'Meadow',\n  'Location': 'San Francisco, CA, USA',\n  'Description': 'Point of Sale and Compliance SaaS for Cannabis Dispensaries',\n  'Batch': None,\n  'Industry 1': None,\n  'Industry 2': None},\n {'Company Name': 'Level Frames',\n  'Location': 'NY, USA',\n  'Description': 'Software eats custom framing',\n  'Batch': None,\n  'Industry 1': None,\n  'Industry 2': None},\n {'Company Name': 'Industrial Microbes',\n  'Location': 'Alameda, CA, USA',\n  'Description': 'We design and build microbes to make chemicals greener at lower cost.',\n  'Batch': None,\n  'Industry 1': None,\n  'Industry 2': None},\n {'Company Name': 'Giveffect',\n  'Location': 'New York, NY, USA',\n  'Description': 'Fundraising, Volunteer and Donor Management SaaS for nonprofits.',\n  'Batch': None,\n  'Industry 1': None,\n  'Industry 2': None},\n {'Company Name': 'eBrandvalue',\n  'Location': 'Mountain View, CA, USA',\n  'Description': 'Real-time Nielsen ratings for Brands.Accelerate marketing and product…',\n  'Batch': None,\n  'Industry 1': None,\n  'Industry 2': None},\n {'Company Name': 'Quantierra',\n  'Location': 'New York, NY, USA',\n  'Description': 'Sourcing investment real estate',\n  'Batch': None,\n  'Industry 1': None,\n  'Industry 2': None},\n {'Company Name': 'Cleanly',\n  'Location': 'New York, NY, USA',\n  'Description': 'Laundry & Dry Cleaning delivered.',\n  'Batch': None,\n  'Industry 1': None,\n  'Industry 2': None},\n {'Company Name': 'Resolve',\n  'Location': 'New York, NY, USA',\n  'Description': 'VR simulations for operations, maintenance and construction teams.',\n  'Batch': None,\n  'Industry 1': None,\n  'Industry 2': None},\n {'Company Name': 'Makrwatch',\n  'Location': 'New York, NY, USA',\n  'Description': 'Scale new user acquisition with YouTube Creators',\n  'Batch': None,\n  'Industry 1': None,\n  'Industry 2': None},\n {'Company Name': 'TeamNote',\n  'Location': 'Hong Kong, Hong Kong',\n  'Description': 'Mobile Productivity(Slack for mobile workforces)',\n  'Batch': None,\n  'Industry 1': None,\n  'Industry 2': None},\n {'Company Name': 'Tempo',\n  'Location': 'San Francisco, CA, USA',\n  'Description': 'Live home fitness training powered by computer vision.',\n  'Batch': None,\n  'Industry 1': None,\n  'Industry 2': None},\n {'Company Name': 'SIRUM',\n  'Location': 'Palo Alto, CA, USA',\n  'Description': 'SIRUM is a “match.com” for unused medicine. We connect institutional…',\n  'Batch': None,\n  'Industry 1': None,\n  'Industry 2': None},\n {'Company Name': 'Sails Co.',\n  'Location': 'Austin, TX, USA',\n  'Description': 'Full-service web, mobile, & cloud studio providing professional…',\n  'Batch': None,\n  'Industry 1': None,\n  'Industry 2': None},\n {'Company Name': 'ReadMe',\n  'Location': 'San Francisco, CA, USA',\n  'Description': 'Beautiful, personalized, interactive developer hubs',\n  'Batch': None,\n  'Industry 1': None,\n  'Industry 2': None},\n {'Company Name': 'BuildScience',\n  'Location': 'Niagara Falls, NY, USA',\n  'Description': 'The operating system for commercial buildings.',\n  'Batch': None,\n  'Industry 1': None,\n  'Industry 2': None},\n {'Company Name': 'Platzi',\n  'Location': 'San Francisco, CA, USA',\n  'Description': \"Latin America's School of Technology\",\n  'Batch': None,\n  'Industry 1': None,\n  'Industry 2': None},\n {'Company Name': 'Labdoor',\n  'Location': 'San Francisco, CA, USA',\n  'Description': 'Labdoor is building the trusted online drugstore.',\n  'Batch': None,\n  'Industry 1': None,\n  'Industry 2': None},\n {'Company Name': 'GiveMeTap',\n  'Location': 'London, England, United Kingdom',\n  'Description': 'We produce & sell stainless steel water bottles that enables people…',\n  'Batch': None,\n  'Industry 1': None,\n  'Industry 2': None},\n {'Company Name': 'Bankjoy',\n  'Location': 'Troy, MI, USA',\n  'Description': 'An end-to-end digital banking solution for banks and credit unions',\n  'Batch': None,\n  'Industry 1': None,\n  'Industry 2': None},\n {'Company Name': 'Zeitview',\n  'Location': 'Santa Monica, CA, USA',\n  'Description': 'Inspection software for renewable energy & sustainable infrastructure',\n  'Batch': None,\n  'Industry 1': None,\n  'Industry 2': None},\n {'Company Name': 'The Human Utility',\n  'Location': 'Oakland, CA, USA',\n  'Description': 'The Human Utility seeks to eliminate water service disconnections for…',\n  'Batch': None,\n  'Industry 1': None,\n  'Industry 2': None},\n {'Company Name': 'Democracy Earth',\n  'Location': 'Madrid, Community of Madrid, Spain',\n  'Description': 'Censorship resistant democracies.',\n  'Batch': None,\n  'Industry 1': None,\n  'Industry 2': None},\n {'Company Name': 'OneSignal',\n  'Location': 'San Mateo, CA, USA',\n  'Description': 'Engage customers through personalized omni-channel messaging',\n  'Batch': None,\n  'Industry 1': None,\n  'Industry 2': None},\n {'Company Name': 'Atomwise',\n  'Location': 'San Francisco, CA, USA',\n  'Description': 'Artificial intelligence for drug discovery.',\n  'Batch': None,\n  'Industry 1': None,\n  'Industry 2': None},\n {'Company Name': 'Bright',\n  'Location': 'Mexico City, CDMX, Mexico',\n  'Description': 'Sunrun for the developing world',\n  'Batch': None,\n  'Industry 1': None,\n  'Industry 2': None},\n {'Company Name': 'Magic',\n  'Location': 'Washington, DC, USA',\n  'Description': 'Extremely talented assistants for busy people',\n  'Batch': None,\n  'Industry 1': None,\n  'Industry 2': None},\n {'Company Name': 'Mezmo',\n  'Location': 'San Jose, CA, USA',\n  'Description': 'Observability platform to control all of your log data',\n  'Batch': None,\n  'Industry 1': None,\n  'Industry 2': None},\n {'Company Name': 'Akido Labs',\n  'Location': 'Los Angeles, CA, USA',\n  'Description': 'Unlocking data to tackle homelessness, chronic disease, and more',\n  'Batch': None,\n  'Industry 1': None,\n  'Industry 2': None},\n {'Company Name': 'Qventus',\n  'Location': 'San Francisco, CA, USA',\n  'Description': 'We automate operations for hospitals and health systems',\n  'Batch': None,\n  'Industry 1': None,\n  'Industry 2': None},\n {'Company Name': 'Bayes Impact',\n  'Location': 'San Francisco, CA, USA',\n  'Description': 'Tech nonprofit building the future of public services.',\n  'Batch': None,\n  'Industry 1': None,\n  'Industry 2': None},\n {'Company Name': 'Helion Energy',\n  'Location': 'Everett, WA, USA',\n  'Description': \"Building the world's first fusion power plant\",\n  'Batch': None,\n  'Industry 1': None,\n  'Industry 2': None},\n {'Company Name': 'HackerRank',\n  'Location': 'Mountain View, CA, USA',\n  'Description': \"Accelerate the World's Innovation\",\n  'Batch': None,\n  'Industry 1': None,\n  'Industry 2': None},\n {'Company Name': 'Front',\n  'Location': 'San Francisco, CA, USA',\n  'Description': 'Customer communications hub for building strong relationships',\n  'Batch': None,\n  'Industry 1': None,\n  'Industry 2': None},\n {'Company Name': 'Apollo',\n  'Location': 'San Francisco, CA, USA',\n  'Description': 'Apollo helps engineering teams accelerate delivery',\n  'Batch': None,\n  'Industry 1': None,\n  'Industry 2': None},\n {'Company Name': 'Roomstorm',\n  'Location': 'Redwood City, CA, USA',\n  'Description': 'Real time B2B hotel room marketplace for various industries…',\n  'Batch': None,\n  'Industry 1': None,\n  'Industry 2': None},\n {'Company Name': 'Hive',\n  'Location': 'Kitchener, ON, Canada',\n  'Description': 'Email and SMS marketing platform',\n  'Batch': None,\n  'Industry 1': None,\n  'Industry 2': None},\n {'Company Name': 'Tenjin',\n  'Location': 'San Francisco, CA, USA',\n  'Description': 'Mobile marketing analytics and infrastructure',\n  'Batch': None,\n  'Industry 1': None,\n  'Industry 2': None},\n {'Company Name': 'SpotAngels',\n  'Location': 'San Francisco, CA, USA',\n  'Description': 'Waze for parking',\n  'Batch': None,\n  'Industry 1': None,\n  'Industry 2': None},\n {'Company Name': 'UserGems',\n  'Location': 'Austria',\n  'Description': 'AI-powered sales solution based on your best customers',\n  'Batch': None,\n  'Industry 1': None,\n  'Industry 2': None},\n {'Company Name': 'SFOX',\n  'Location': 'Los Angeles, CA, USA',\n  'Description': 'Crypto-currency trading platform.',\n  'Batch': None,\n  'Industry 1': None,\n  'Industry 2': None},\n {'Company Name': 'PicnicHealth',\n  'Location': 'San Francisco, CA, USA',\n  'Description': 'Empowering Patients for Deep Real World Data',\n  'Batch': None,\n  'Industry 1': None,\n  'Industry 2': None},\n {'Company Name': 'Permutive',\n  'Location': 'London, England, United Kingdom',\n  'Description': 'Rebuilding data in advertising to protect privacy',\n  'Batch': None,\n  'Industry 1': None,\n  'Industry 2': None},\n {'Company Name': 'Hiro Systems',\n  'Location': 'New York, NY, USA',\n  'Description': 'Hiro Systems build developer tools for Bitcoin L1 and the Stacks L2',\n  'Batch': None,\n  'Industry 1': None,\n  'Industry 2': None},\n {'Company Name': 'Alchemy',\n  'Location': 'Waterloo, ON, Canada',\n  'Description': 'Nanotechnology-enabled coatings for automotive and defence sectors',\n  'Batch': None,\n  'Industry 1': None,\n  'Industry 2': None},\n {'Company Name': 'MTailor',\n  'Location': 'San Francisco, CA, USA',\n  'Description': 'Get measured by your phone in under 30 seconds for perfect fitting…',\n  'Batch': None,\n  'Industry 1': None,\n  'Industry 2': None},\n {'Company Name': 'MetricWire',\n  'Location': 'Kitchener, ON, Canada',\n  'Description': 'Mobile surveys for researchers',\n  'Batch': None,\n  'Industry 1': None,\n  'Industry 2': None},\n {'Company Name': 'Protocol Labs',\n  'Location': 'Palo Alto, CA, USA',\n  'Description': 'Protocol Labs makes internet protocols: IPFS, Filecoin, and more.',\n  'Batch': None,\n  'Industry 1': None,\n  'Industry 2': None},\n {'Company Name': 'Greentoe',\n  'Location': 'New York, NY, USA',\n  'Description': '\"Name Your Price\" for products',\n  'Batch': None,\n  'Industry 1': None,\n  'Industry 2': None},\n {'Company Name': 'Hyperpad',\n  'Location': 'London, ON, Canada',\n  'Description': 'Create, Share, Play Mobile Games on the iPad.',\n  'Batch': None,\n  'Industry 1': None,\n  'Industry 2': None},\n {'Company Name': 'Flaviar',\n  'Location': 'New York, NY, USA',\n  'Description': 'Try-at-home service for fine spirits',\n  'Batch': None,\n  'Industry 1': None,\n  'Industry 2': None},\n {'Company Name': 'Clear',\n  'Location': 'Bengaluru, KA, India',\n  'Description': 'Fintech SaaS platform for invoices, taxes, wealth management & credit.',\n  'Batch': None,\n  'Industry 1': None,\n  'Industry 2': None},\n {'Company Name': 'Billforward',\n  'Location': 'San Francisco, CA, USA',\n  'Description': 'Subscription billing, rate plan management and analytics as a…',\n  'Batch': None,\n  'Industry 1': None,\n  'Industry 2': None},\n {'Company Name': 'Backpack',\n  'Location': 'San Francisco, CA, USA',\n  'Description': 'Marketplace to get stuff from overseas',\n  'Batch': None,\n  'Industry 1': None,\n  'Industry 2': None},\n {'Company Name': 'Aptible',\n  'Location': 'San Francisco, CA, USA',\n  'Description': 'The No Infrastructure Platform as a Service',\n  'Batch': None,\n  'Industry 1': None,\n  'Industry 2': None},\n {'Company Name': 'Immunity Project',\n  'Location': 'San Francisco, CA, USA',\n  'Description': 'The free HIV vaccine.',\n  'Batch': None,\n  'Industry 1': None,\n  'Industry 2': None},\n {'Company Name': 'Dyspatch',\n  'Location': 'Victoria, BC, Canada',\n  'Description': 'Two products to help everyone email better. Dyspatch.io - Email…',\n  'Batch': None,\n  'Industry 1': None,\n  'Industry 2': None},\n {'Company Name': 'OpenCurriculum',\n  'Location': 'Mountain View, CA, USA',\n  'Description': 'Helping K-12 teachers and school administrators build awesome…',\n  'Batch': None,\n  'Industry 1': None,\n  'Industry 2': None},\n {'Company Name': 'MixerBox',\n  'Location': 'Palo Alto, CA, USA',\n  'Description': 'AI Super-Apps to Live Easier | The anything anytime superapps…',\n  'Batch': None,\n  'Industry 1': None,\n  'Industry 2': None},\n {'Company Name': 'Unbabel',\n  'Location': 'San Francisco, CA, USA',\n  'Description': 'AI-powered Language Operations platform',\n  'Batch': None,\n  'Industry 1': None,\n  'Industry 2': None},\n {'Company Name': 'Y Combinator',\n  'Location': 'Mountain View, CA, USA',\n  'Description': 'Not your average fixed point combinator.',\n  'Batch': None,\n  'Industry 1': None,\n  'Industry 2': None},\n {'Company Name': 'GBatteries',\n  'Location': 'Ottawa, ON, Canada',\n  'Description': 'Enabling li-ion batteries to charge ultra fast without compromising…',\n  'Batch': None,\n  'Industry 1': None,\n  'Industry 2': None},\n {'Company Name': 'Zinc',\n  'Location': 'San Francisco, CA, USA',\n  'Description': 'The secret backbone of e-commerce.',\n  'Batch': None,\n  'Industry 1': None,\n  'Industry 2': None},\n {'Company Name': 'Zidisha',\n  'Location': 'Sterling, VA, USA',\n  'Description': 'Direct P2P lending across the international wealth divide.',\n  'Batch': None,\n  'Industry 1': None,\n  'Industry 2': None},\n {'Company Name': 'TrueVault',\n  'Location': 'San Francisco, CA, USA',\n  'Description': 'We make Privacy Software for SMBs.',\n  'Batch': None,\n  'Industry 1': None,\n  'Industry 2': None},\n {'Company Name': 'Guesty',\n  'Location': 'Tel Aviv-Yafo, Tel Aviv District, Israel',\n  'Description': 'The management platform for the short term rental industry.',\n  'Batch': None,\n  'Industry 1': None,\n  'Industry 2': None},\n {'Company Name': 'Snapdocs',\n  'Location': 'San Francisco, CA, USA',\n  'Description': 'Snapdocs digitizes real estate closings',\n  'Batch': None,\n  'Industry 1': None,\n  'Industry 2': None},\n {'Company Name': 'Medmonk',\n  'Location': 'Milpitas, CA, USA',\n  'Description': 'A tool for pharmacists to find funding for patients who are unable to…',\n  'Batch': None,\n  'Industry 1': None,\n  'Industry 2': None},\n {'Company Name': 'Shoobs',\n  'Location': 'London, England, United Kingdom',\n  'Description': 'We help you find and book tickets to great entertainment events that…',\n  'Batch': None,\n  'Industry 1': None,\n  'Industry 2': None},\n {'Company Name': 'Pushbullet',\n  'Location': 'San Francisco, CA, USA',\n  'Description': 'Push things to your other things.',\n  'Batch': None,\n  'Industry 1': None,\n  'Industry 2': None},\n {'Company Name': 'Povio',\n  'Location': 'San Francisco, CA, USA',\n  'Description': 'A design and software development company.',\n  'Batch': None,\n  'Industry 1': None,\n  'Industry 2': None},\n {'Company Name': 'PiinPoint',\n  'Location': 'Kitchener, ON, Canada',\n  'Description': 'PiinPoint helps businesses find the best locations for growth',\n  'Batch': None,\n  'Industry 1': None,\n  'Industry 2': None},\n {'Company Name': 'Theorem',\n  'Location': 'San Francisco, CA, USA',\n  'Description': 'The mission of Theorem is to make credit safe and available. We use…',\n  'Batch': None,\n  'Industry 1': None,\n  'Industry 2': None},\n {'Company Name': 'One Degree',\n  'Location': 'San Francisco, CA, USA',\n  'Description': 'One Degree is a nonprofit organization that makes it easy for…',\n  'Batch': None,\n  'Industry 1': None,\n  'Industry 2': None},\n {'Company Name': 'MBX',\n  'Location': 'San Francisco, CA, USA',\n  'Description': 'A global multi-brand beauty and personal care startup.',\n  'Batch': None,\n  'Industry 1': None,\n  'Industry 2': None},\n {'Company Name': 'Emailio',\n  'Location': 'Remote',\n  'Description': 'Email built for wellness',\n  'Batch': None,\n  'Industry 1': None,\n  'Industry 2': None},\n {'Company Name': 'DevCycle',\n  'Location': 'Toronto, ON, Canada',\n  'Description': 'Feature Flag Management Built for Developers',\n  'Batch': None,\n  'Industry 1': None,\n  'Industry 2': None},\n {'Company Name': 'Axoni',\n  'Location': 'New York, NY, USA',\n  'Description': 'Axoni is building the next generation of capital markets technology',\n  'Batch': None,\n  'Industry 1': None,\n  'Industry 2': None},\n {'Company Name': 'CodeNow',\n  'Location': 'Chicago, IL, USA',\n  'Description': 'Our mission is to diversify the talent pipeline of students who…',\n  'Batch': None,\n  'Industry 1': None,\n  'Industry 2': None},\n {'Company Name': 'CodeCombat',\n  'Location': 'San Francisco, CA, USA',\n  'Description': 'Game that teaches computer science to middle and high school kids.',\n  'Batch': None,\n  'Industry 1': None,\n  'Industry 2': None},\n {'Company Name': 'Noora Health',\n  'Location': 'Bengaluru, KA, India',\n  'Description': 'Training patients and their families with health skills',\n  'Batch': None,\n  'Industry 1': None,\n  'Industry 2': None},\n {'Company Name': 'Cambly',\n  'Location': 'San Francisco, CA, USA',\n  'Description': 'On-demand access to English tutors over video chat.',\n  'Batch': None,\n  'Industry 1': None,\n  'Industry 2': None},\n {'Company Name': 'AptDeco',\n  'Location': 'New York, NY, USA',\n  'Description': 'AptDeco is the easiest way to buy and sell used furniture',\n  'Batch': None,\n  'Industry 1': None,\n  'Industry 2': None},\n {'Company Name': 'CareMessage',\n  'Location': 'San Francisco, CA, USA',\n  'Description': 'Patient engagement using text messaging',\n  'Batch': None,\n  'Industry 1': None,\n  'Industry 2': None},\n {'Company Name': 'Ambition',\n  'Location': 'Chattanooga, TN, USA',\n  'Description': 'Coaching and gamification software for sales teams.',\n  'Batch': None,\n  'Industry 1': None,\n  'Industry 2': None},\n {'Company Name': 'AirHelp',\n  'Location': 'Berlin, Berlin, Germany',\n  'Description': 'AirHelp helps air passengers get compensation for delayed, cancelled…',\n  'Batch': None,\n  'Industry 1': None,\n  'Industry 2': None},\n {'Company Name': '42',\n  'Location': 'San Francisco, CA, USA',\n  'Description': 'Analytics stack for omnichannel retailers and brands',\n  'Batch': None,\n  'Industry 1': None,\n  'Industry 2': None},\n {'Company Name': 'True Link',\n  'Location': 'San Francisco, CA, USA',\n  'Description': 'Financial Services for Financial Caregivers.',\n  'Batch': None,\n  'Industry 1': None,\n  'Industry 2': None},\n {'Company Name': 'Reebee',\n  'Location': 'Kitchener, ON, Canada',\n  'Description': 'Flyer app.',\n  'Batch': None,\n  'Industry 1': None,\n  'Industry 2': None},\n {'Company Name': 'Lob',\n  'Location': 'San Francisco, CA, USA',\n  'Description': 'Lob is the only automation platform that transforms direct mail into…',\n  'Batch': None,\n  'Industry 1': None,\n  'Industry 2': None},\n {'Company Name': 'Panorama Education',\n  'Location': 'Boston, MA, USA',\n  'Description': 'Improving education for every student.',\n  'Batch': None,\n  'Industry 1': None,\n  'Industry 2': None},\n {'Company Name': 'One Month',\n  'Location': 'New York, NY, USA',\n  'Description': \"One Month's affordable online bootcamps teach people how to code in…\",\n  'Batch': None,\n  'Industry 1': None,\n  'Industry 2': None},\n {'Company Name': 'Cratejoy',\n  'Location': 'Austin, TX, USA',\n  'Description': 'Cratejoy is the platform for subscriptions',\n  'Batch': None,\n  'Industry 1': None,\n  'Industry 2': None},\n {'Company Name': 'Estimote, Inc.',\n  'Location': 'Kraków, Lesser Poland Voivodeship, Poland',\n  'Description': 'Location intelligence platform',\n  'Batch': None,\n  'Industry 1': None,\n  'Industry 2': None},\n {'Company Name': 'EasyPost',\n  'Location': 'San Francisco, CA, USA',\n  'Description': 'The shipping infrastructure of the internet.',\n  'Batch': None,\n  'Industry 1': None,\n  'Industry 2': None},\n {'Company Name': 'Asseta',\n  'Location': 'Newport Beach, CA, USA',\n  'Description': 'Marketplace for industrial spare parts and capital equipment.',\n  'Batch': None,\n  'Industry 1': None,\n  'Industry 2': None},\n {'Company Name': 'Per Vices',\n  'Location': 'Toronto, ON, Canada',\n  'Description': 'Building Mission Critical Software Defined Radio products.',\n  'Batch': None,\n  'Industry 1': None,\n  'Industry 2': None},\n {'Company Name': '7cups',\n  'Location': 'Virginia Beach, VA, USA',\n  'Description': '7 Cups is an emotional support service that matches up people that…',\n  'Batch': None,\n  'Industry 1': None,\n  'Industry 2': None},\n {'Company Name': 'Watsi',\n  'Location': 'San Francisco, CA, USA',\n  'Description': 'Watsi is the first global crowdfunding platform for medical…',\n  'Batch': None,\n  'Industry 1': None,\n  'Industry 2': None},\n {'Company Name': 'Goldbelly',\n  'Location': 'New York, NY, USA',\n  'Description': 'Empowering restaurants and small food makers to ship nationwide.',\n  'Batch': None,\n  'Industry 1': None,\n  'Industry 2': None}]"
     },
     "execution_count": 42,
     "metadata": {},
     "output_type": "execute_result"
    }
   ],
   "source": [
    "rows"
   ],
   "metadata": {
    "collapsed": false,
    "ExecuteTime": {
     "end_time": "2024-05-22T07:09:29.781806Z",
     "start_time": "2024-05-22T07:09:29.621063Z"
    }
   }
  },
  {
   "cell_type": "code",
   "execution_count": 43,
   "outputs": [
    {
     "data": {
      "text/plain": "    Company Name                 Location  \\\n0         Airbnb   San Francisco, CA, USA   \n1      Amplitude   San Francisco, CA, USA   \n2       Coinbase   San Francisco, CA, USA   \n3       DoorDash   San Francisco, CA, USA   \n4        Dropbox   San Francisco, CA, USA   \n..           ...                      ...   \n315       Asseta   Newport Beach, CA, USA   \n316    Per Vices      Toronto, ON, Canada   \n317        7cups  Virginia Beach, VA, USA   \n318        Watsi   San Francisco, CA, USA   \n319    Goldbelly        New York, NY, USA   \n\n                                           Description Batch Industry 1  \\\n0                Book accommodations around the world.  None       None   \n1                           Digital Analytics Platform  None       None   \n2              Buy, sell, and manage cryptocurrencies.  None       None   \n3                                 Restaurant delivery.  None       None   \n4                 Backup and share files in the cloud.  None       None   \n..                                                 ...   ...        ...   \n315  Marketplace for industrial spare parts and cap...  None       None   \n316  Building Mission Critical Software Defined Rad...  None       None   \n317  7 Cups is an emotional support service that ma...  None       None   \n318  Watsi is the first global crowdfunding platfor...  None       None   \n319  Empowering restaurants and small food makers t...  None       None   \n\n    Industry 2  \n0         None  \n1         None  \n2         None  \n3         None  \n4         None  \n..         ...  \n315       None  \n316       None  \n317       None  \n318       None  \n319       None  \n\n[320 rows x 6 columns]",
      "text/html": "<div>\n<style scoped>\n    .dataframe tbody tr th:only-of-type {\n        vertical-align: middle;\n    }\n\n    .dataframe tbody tr th {\n        vertical-align: top;\n    }\n\n    .dataframe thead th {\n        text-align: right;\n    }\n</style>\n<table border=\"1\" class=\"dataframe\">\n  <thead>\n    <tr style=\"text-align: right;\">\n      <th></th>\n      <th>Company Name</th>\n      <th>Location</th>\n      <th>Description</th>\n      <th>Batch</th>\n      <th>Industry 1</th>\n      <th>Industry 2</th>\n    </tr>\n  </thead>\n  <tbody>\n    <tr>\n      <th>0</th>\n      <td>Airbnb</td>\n      <td>San Francisco, CA, USA</td>\n      <td>Book accommodations around the world.</td>\n      <td>None</td>\n      <td>None</td>\n      <td>None</td>\n    </tr>\n    <tr>\n      <th>1</th>\n      <td>Amplitude</td>\n      <td>San Francisco, CA, USA</td>\n      <td>Digital Analytics Platform</td>\n      <td>None</td>\n      <td>None</td>\n      <td>None</td>\n    </tr>\n    <tr>\n      <th>2</th>\n      <td>Coinbase</td>\n      <td>San Francisco, CA, USA</td>\n      <td>Buy, sell, and manage cryptocurrencies.</td>\n      <td>None</td>\n      <td>None</td>\n      <td>None</td>\n    </tr>\n    <tr>\n      <th>3</th>\n      <td>DoorDash</td>\n      <td>San Francisco, CA, USA</td>\n      <td>Restaurant delivery.</td>\n      <td>None</td>\n      <td>None</td>\n      <td>None</td>\n    </tr>\n    <tr>\n      <th>4</th>\n      <td>Dropbox</td>\n      <td>San Francisco, CA, USA</td>\n      <td>Backup and share files in the cloud.</td>\n      <td>None</td>\n      <td>None</td>\n      <td>None</td>\n    </tr>\n    <tr>\n      <th>...</th>\n      <td>...</td>\n      <td>...</td>\n      <td>...</td>\n      <td>...</td>\n      <td>...</td>\n      <td>...</td>\n    </tr>\n    <tr>\n      <th>315</th>\n      <td>Asseta</td>\n      <td>Newport Beach, CA, USA</td>\n      <td>Marketplace for industrial spare parts and cap...</td>\n      <td>None</td>\n      <td>None</td>\n      <td>None</td>\n    </tr>\n    <tr>\n      <th>316</th>\n      <td>Per Vices</td>\n      <td>Toronto, ON, Canada</td>\n      <td>Building Mission Critical Software Defined Rad...</td>\n      <td>None</td>\n      <td>None</td>\n      <td>None</td>\n    </tr>\n    <tr>\n      <th>317</th>\n      <td>7cups</td>\n      <td>Virginia Beach, VA, USA</td>\n      <td>7 Cups is an emotional support service that ma...</td>\n      <td>None</td>\n      <td>None</td>\n      <td>None</td>\n    </tr>\n    <tr>\n      <th>318</th>\n      <td>Watsi</td>\n      <td>San Francisco, CA, USA</td>\n      <td>Watsi is the first global crowdfunding platfor...</td>\n      <td>None</td>\n      <td>None</td>\n      <td>None</td>\n    </tr>\n    <tr>\n      <th>319</th>\n      <td>Goldbelly</td>\n      <td>New York, NY, USA</td>\n      <td>Empowering restaurants and small food makers t...</td>\n      <td>None</td>\n      <td>None</td>\n      <td>None</td>\n    </tr>\n  </tbody>\n</table>\n<p>320 rows × 6 columns</p>\n</div>"
     },
     "execution_count": 43,
     "metadata": {},
     "output_type": "execute_result"
    }
   ],
   "source": [
    "import pandas as pd\n",
    "pd.DataFrame(rows)"
   ],
   "metadata": {
    "collapsed": false,
    "ExecuteTime": {
     "end_time": "2024-05-22T07:09:34.753124Z",
     "start_time": "2024-05-22T07:09:34.685738Z"
    }
   }
  },
  {
   "cell_type": "markdown",
   "source": [
    "You can export data in any format:"
   ],
   "metadata": {
    "collapsed": false
   }
  },
  {
   "cell_type": "code",
   "execution_count": null,
   "outputs": [],
   "source": [
    "# Export as json\n",
    "with open('yc.json', 'w+') as f:\n",
    "    json.dump(rows, f, indent=4)\n",
    "\n",
    "# Export to Pandas DataFrame\n",
    "df = pd.DataFrame(rows)\n",
    "df.to_csv('yc.csv')\n",
    "df"
   ],
   "metadata": {
    "collapsed": false
   }
  },
  {
   "cell_type": "markdown",
   "source": [
    "### Step 4. Parse nested detail page\n",
    "\n",
    "You can extract data from nested pages using ScraperAI"
   ],
   "metadata": {
    "collapsed": false
   }
  },
  {
   "cell_type": "code",
   "execution_count": null,
   "outputs": [],
   "source": [
    "# Open first nested page\n",
    "crawler.get(catalog_item.urls_on_page[0])"
   ],
   "metadata": {
    "collapsed": false
   }
  },
  {
   "cell_type": "markdown",
   "source": [
    "### Step 4.1. Extract fields\n",
    "\n",
    "First, we use `summarize_details_page_as_valid_html` method to find relevant parts on the initial webpage.\n",
    "For example, a list of similar products is not a relevant part of a details page.\n",
    "\n",
    "Then we use `parser.extract_fields` as before to get the fields from html snippet."
   ],
   "metadata": {
    "collapsed": false
   }
  },
  {
   "cell_type": "code",
   "execution_count": null,
   "outputs": [],
   "source": [
    "html_snippet = parser.summarize_details_page_as_valid_html(\n",
    "    page_source=crawler.page_source,\n",
    "    screenshot=crawler.get_screenshot_as_base64()\n",
    ")\n",
    "fields = parser.extract_fields(html_snippet)\n",
    "_print_fields(fields)"
   ],
   "metadata": {
    "collapsed": false
   }
  },
  {
   "cell_type": "code",
   "execution_count": null,
   "outputs": [],
   "source": [
    "# Let's highlight the fields\n",
    "highlight_fields(fields)"
   ],
   "metadata": {
    "collapsed": false
   }
  },
  {
   "cell_type": "markdown",
   "source": [
    "### Step 4.2. Scrape data\n",
    "\n",
    "First, let's set some limits for simplicity:"
   ],
   "metadata": {
    "collapsed": false
   }
  },
  {
   "cell_type": "code",
   "execution_count": null,
   "outputs": [],
   "source": [
    "max_pages = 5  # How many catalog pages we should iterate over\n",
    "max_rows = 20  # How many rows to scrape before stop"
   ],
   "metadata": {
    "collapsed": false
   }
  },
  {
   "cell_type": "markdown",
   "source": [
    "We are ready to collect the data:"
   ],
   "metadata": {
    "collapsed": false
   }
  },
  {
   "cell_type": "code",
   "execution_count": null,
   "outputs": [],
   "source": [
    "config = ScraperConfig(\n",
    "    start_url=url,\n",
    "    page_type=page_type,\n",
    "    pagination=pagination,\n",
    "    catalog_item=catalog_item,\n",
    "    open_nested_pages=True,\n",
    "    fields=fields,\n",
    "    max_pages=max_pages,\n",
    "    max_rows=max_rows\n",
    ")\n",
    "scraper = Scraper(config, crawler)\n",
    "\n",
    "rows = []\n",
    "for item in tqdm(scraper.scrape(), total=max_rows):\n",
    "    rows.append(item)"
   ],
   "metadata": {
    "collapsed": false
   }
  },
  {
   "cell_type": "code",
   "execution_count": null,
   "outputs": [],
   "source": [
    "pd.DataFrame(rows)"
   ],
   "metadata": {
    "collapsed": false
   }
  },
  {
   "cell_type": "markdown",
   "source": [
    "#### Experiment 2. [List of commits in the repository](https://github.com/scraperai/scraperai/commits/main/)"
   ],
   "metadata": {
    "collapsed": false
   }
  },
  {
   "cell_type": "code",
   "execution_count": null,
   "outputs": [],
   "source": [
    "# Define url\n",
    "url = 'https://github.com/scraperai/scraperai/commits/main/'"
   ],
   "metadata": {
    "collapsed": false
   }
  },
  {
   "cell_type": "code",
   "execution_count": null,
   "outputs": [],
   "source": [
    "# Open url\n",
    "crawler.get(url)"
   ],
   "metadata": {
    "collapsed": false
   }
  },
  {
   "cell_type": "code",
   "execution_count": null,
   "outputs": [],
   "source": [
    "# Detect page_type\n",
    "page_type = WebpageType.CATALOG\n",
    "page_type"
   ],
   "metadata": {
    "collapsed": false
   }
  },
  {
   "cell_type": "code",
   "execution_count": null,
   "outputs": [],
   "source": [
    "# Detect pagination\n",
    "pagination = parser.detect_pagination(crawler.page_source)\n",
    "pagination"
   ],
   "metadata": {
    "collapsed": false
   }
  },
  {
   "cell_type": "code",
   "execution_count": null,
   "outputs": [],
   "source": [
    "# Detect catalog item\n",
    "catalog_item = parser.detect_catalog_item(\n",
    "    page_source=crawler.page_source,\n",
    "    website_url=url,\n",
    "    extra_prompt='This page contains a list of commits. Each commit row is a catalog item')\n",
    "catalog_item"
   ],
   "metadata": {
    "collapsed": false
   }
  },
  {
   "cell_type": "code",
   "execution_count": null,
   "outputs": [],
   "source": [
    "crawler.highlight_by_xpath(catalog_item.card_xpath, '#8981D7', 5)\n",
    "crawler.highlight_by_xpath(catalog_item.url_xpath, '#5499D1', 3)"
   ],
   "metadata": {
    "collapsed": false
   }
  },
  {
   "cell_type": "code",
   "execution_count": null,
   "outputs": [],
   "source": [
    "fields = parser.extract_fields(html_snippet=catalog_item.html_snippet)\n",
    "_print_fields(fields)"
   ],
   "metadata": {
    "collapsed": false
   }
  },
  {
   "cell_type": "code",
   "execution_count": null,
   "outputs": [],
   "source": [
    "highlight_fields(fields)"
   ],
   "metadata": {
    "collapsed": false
   }
  },
  {
   "cell_type": "code",
   "execution_count": null,
   "outputs": [],
   "source": [
    "config = ScraperConfig(\n",
    "    start_url=url,\n",
    "    page_type=page_type,\n",
    "    pagination=pagination,\n",
    "    catalog_item=catalog_item,\n",
    "    open_nested_pages=True,\n",
    "    fields=fields,\n",
    "    max_pages=2,\n",
    "    max_rows=100\n",
    ")\n",
    "scraper = Scraper(config, crawler)\n",
    "\n",
    "rows = []\n",
    "for item in tqdm(scraper.scrape(), total=max_rows):\n",
    "    rows.append(item)"
   ],
   "metadata": {
    "collapsed": false
   }
  },
  {
   "cell_type": "code",
   "execution_count": null,
   "outputs": [],
   "source": [
    "pd.DataFrame(rows)"
   ],
   "metadata": {
    "collapsed": false
   }
  },
  {
   "cell_type": "markdown",
   "source": [
    "### That's it!\n",
    "#### Thank you for using ScraperAI"
   ],
   "metadata": {
    "collapsed": false
   }
  },
  {
   "cell_type": "markdown",
   "source": [],
   "metadata": {
    "collapsed": false
   }
  }
 ],
 "metadata": {
  "kernelspec": {
   "display_name": "Python 3",
   "language": "python",
   "name": "python3"
  },
  "language_info": {
   "codemirror_mode": {
    "name": "ipython",
    "version": 2
   },
   "file_extension": ".py",
   "mimetype": "text/x-python",
   "name": "python",
   "nbconvert_exporter": "python",
   "pygments_lexer": "ipython2",
   "version": "2.7.6"
  }
 },
 "nbformat": 4,
 "nbformat_minor": 5
}
